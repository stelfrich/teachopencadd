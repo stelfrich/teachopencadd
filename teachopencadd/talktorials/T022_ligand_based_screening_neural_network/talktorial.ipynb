{
 "cells": [
  {
   "cell_type": "markdown",
   "metadata": {},
   "source": [
    "# T022 · Ligand-based screening: neural networks\n",
    "\n",
    "Developed in the CADD seminar 2020, Volkamer Lab, Charité/FU Berlin \n",
    "\n",
    "**Note:** This talktorial is a part of TeachOpenCADD, a platform that aims to teach domain-specific skills and to provide pipeline templates as starting points for research projects.\n",
    "\n",
    "Authors:\n",
    "\n",
    "- Ahmed Atta, CADD Seminar 2020, Charité/FU Berlin\n",
    "- Sakshi Misra, internship (2020/21), [Volkamer lab](https://volkamerlab.org), Charité\n",
    "- Talia B. Kimber, 2020/21, [Volkamer lab](https://volkamerlab.org), Charité\n",
    "- Andrea Volkamer, 2021, [Volkamer lab](https://volkamerlab.org), Charité"
   ]
  },
  {
   "cell_type": "markdown",
   "metadata": {},
   "source": [
    "## Aim of this talktorial\n",
    "\n",
    "In recent years, the use of machine learning, and deep learning, in pharmaceutical research has shown promising results in addressing diverse problems in drug discovery. In this talktorial, we get familiar with the basics of neural networks. We will learn how to build a simple two layer neural network and train it on a subset of ChEMBL data in order to predict the pIC50 values of compounds against EGFR, the target of interest. Furthermore, we select three compounds from an external, unlabeled data set that are predicted to be the most active against that kinase."
   ]
  },
  {
   "cell_type": "markdown",
   "metadata": {},
   "source": [
    "### Contents in *Theory*\n",
    "\n",
    "- Biological background\n",
    "    - EGFR kinase\n",
    "    - Compound activity measures\n",
    "    - Molecule encoding\n",
    "- Neural networks\n",
    "    - What is a neural network?\n",
    "    - Activation function\n",
    "    - Loss function\n",
    "- Training a neural network\n",
    "- Keras workflow\n",
    "- Advantages and applications of neural networks"
   ]
  },
  {
   "cell_type": "markdown",
   "metadata": {},
   "source": [
    "### Contents in *Practical*\n",
    "\n",
    "- Data preparation\n",
    "- Define neural network\n",
    "- Train the model\n",
    "- Evaluation & prediction on test set\n",
    "    - Scatter plot\n",
    "- Prediction on external/unlabeled data\n",
    "    - Select the top 3 compounds"
   ]
  },
  {
   "cell_type": "markdown",
   "metadata": {},
   "source": [
    "### References\n",
    "\n",
    " - Theoretical background:\n",
    "     - Articles    \n",
    "         - Siddharth Sharma, \"Activation functions in neural networks\". [_International Journal of Engineering Applied Sciences and Technology, 2020_ **Vol. 4, Issue 12,** 310-316 (2020).](https://www.ijeast.com/papers/310-316,Tesma412,IJEAST.pdf)\n",
    "         - Shun-ichi Amari, \"Backpropagation and stochastic gradient descent method\", [*ScienceDirect  **Volume 5, Issue 4-5**, 185-196*](https://doi.org/10.1016/0925-2312(93)90006-O)\n",
    "         - Gisbert Schneider et al., \"Artificial neural networks for computer-based molecular design\", [*ScienceDirect **Volume 70, Issue 3**, 175-222*](https://doi.org/10.1016/S0079-6107(98)00026-1)\n",
    "         - Filippo Amato et al., \"Artificial neural networks in medical diagnosis\", [*ScienceDirect  **Volume 11, Issue 2**, 47-58*](https://doi.org/10.2478/v10136-012-0031-x)         \n",
    "         \n",
    "     - Blogposts\n",
    "          - Imad Dabbura, *Coding Neural Network — Forward Propagation and Backpropagtion*, [towardsdatascience, accessed April 1st, 2018](https://towardsdatascience.com/coding-neural-network-forward-propagation-and-backpropagtion-ccf8cf369f76).\n",
    "          - Lavanya Shukla, *Designing Your Neural Networks*, [towardsdatascience, accessed Sep 23rd, 2019](https://towardsdatascience.com/designing-your-neural-networks-a5e4617027ed)\n",
    "          - Arthur Arnx, *First neural network for beginners explained (with code)*, [towardsdatascience, accessed Jan 13th, 2019](https://towardsdatascience.com/first-neural-network-for-beginners-explained-with-code-4cfd37e06eaf) \n",
    "          - Varun Divakar, *Understanding Backpropagation*, [QuantInst, accessed Nov 19th, 2018](https://blog.quantinsti.com/backpropagation/) \n",
    "               \n",
    "- Packages:\n",
    "     - [rdkit](http://rdkit.org/): Greg Landrum, *RDKit Documentation*, [PDF](https://www.rdkit.org/UGM/2012/Landrum_RDKit_UGM.Fingerprints.Final.pptx.pdf), Release on 2019.09.1.\n",
    "     - [Keras](https://keras.io/): Book chapter: \"An Introduction to Deep Learning and Keras\" in [*Learn Keras for Deep Neural Networks* (2019), **page(s):1-16**](https://doi.org/10.1007/978-1-4842-4240-7).\n",
    "     - [Sequential model](https://keras.io/api/models/sequential/) in keras\n",
    "     - [Model training APIs](https://keras.io/api/models/model_training_apis/#model-training-apis)"
   ]
  },
  {
   "cell_type": "markdown",
   "metadata": {},
   "source": [
    "## Theory"
   ]
  },
  {
   "cell_type": "markdown",
   "metadata": {},
   "source": [
    "### Biological background"
   ]
  },
  {
   "cell_type": "markdown",
   "metadata": {
    "toc-hr-collapsed": true,
    "toc-nb-collapsed": true
   },
   "source": [
    "#### EGFR kinase\n",
    "\n",
    "- The [Epidermal Growth Factor Receptor (EGFR)](https://en.wikipedia.org/wiki/Epidermal_growth_factor_receptor) is a transmembrane protein/receptor present on the cell membrane. It is a member of the ErbB family of receptors. \n",
    "- EGFR plays an important role in controlling normal cell growth, apoptosis and other cellular functions. \n",
    "- It is activated by ligand binding to its extracellular domain, upon activation EGFR undergoes a transition from an inactive monomeric form to an active homodimers.\n",
    "- The EGFR receptor is upregulated in various types of tumors or cancers, so an EGFR inhibition is a type of biological therapy that might stop cancer cells from growing."
   ]
  },
  {
   "cell_type": "markdown",
   "metadata": {},
   "source": [
    "#### Compound activity measures\n",
    "\n",
    "- **IC50** is the half maximal inhibitory concentration of a drug which indicates how much of a drug is needed to inhibit a biological process by half. \n",
    "- **pIC50** is the negative logarithm of the IC50 value. It is more easily interpretable than IC50 values and a common measure for potency of compounds (see **Talktorial T001** for further details)."
   ]
  },
  {
   "cell_type": "markdown",
   "metadata": {},
   "source": [
    "#### Molecule encoding\n",
    "\n",
    "For machine learning algorithms, molecules need to be converted into a machine readable format, e.g. a list of features. In this notebook, molecular fingerprints are used. \n",
    "\n",
    "Molecular fingerprints encode chemical structures and molecular features in a bit string, where at each position \"1\" represents the presence and \"0\" represents the absence of a feature. One of the common fingerprints used are **M**olecular **ACC**ess **S**ystem fingerprints [(MACCS Keys)](https://docs.eyesopen.com/toolkits/python/graphsimtk/fingerprint.html#maccs) which are 166 bits structural key descriptors in which each bit is associated with a [SMARTS](https://docs.eyesopen.com/toolkits/python/oechemtk/glossary.html#term-smarts) pattern encoding a specific substructure (see **Talktorial T004** for further details)."
   ]
  },
  {
   "cell_type": "markdown",
   "metadata": {},
   "source": [
    "### Neural networks"
   ]
  },
  {
   "cell_type": "markdown",
   "metadata": {},
   "source": [
    "#### What is a neural network?\n",
    "\n",
    "Neural networks, also known as artificial neural networks (ANNs), are a subset of machine learning algorithms. The structure and the name of the neural network is inspired by the human brain, mimicking the way that biological neurons transfer signals to one another.\n",
    "\n",
    "![Basic structure](./images/basic_structure.png)\n",
    "\n",
    "*Figure 1:* The figure shows the basic structure of an artificial neural network. It is taken from the blogpost: \"*Designing Your Neural Networks*\", Lavanya Shukla, [towardsdatascience](https://towardsdatascience.com/designing-your-neural-networks-a5e4617027ed)."
   ]
  },
  {
   "cell_type": "markdown",
   "metadata": {},
   "source": [
    "ANNs consist of three main layers as shown in the figure above: the _input layer_, some _hidden layers_ and the _output layer_. Let's take a deeper look at each of them.\n",
    "\n",
    "1. **Input neurons or input layer**\n",
    "   - This layer represents the number of features which are used to make the predictions.\n",
    "   - The input vector needs one input neuron per feature.\n",
    "2. **Hidden layers and neurons per hidden layer**\n",
    "    - The dimension of the hidden layers may vary greatly, but a good rule of thumb is to have dimensions in the range of the input layer and the output layer.\n",
    "    - In general, using the same number of neurons for all hidden layers will suffice but for some datasets, having a large first layer and following it up with smaller layers may lead to a better performance as first layers can learn many low-level features.\n",
    "3. **Output neurons or output layer**\n",
    "    - The output layer represents the value of interest, which will be predicted by the neural network.\n",
    "        - Regression task: the value is a real number (or vector) such as the pIC50 value.\n",
    "        - Binary classification task: the output neuron represents the probability of belonging to the positive class.\n",
    "        - Multi-class classification task: there is one output neuron per class and the predictions represent the probability of belonging to each class. A certain activation function is applied on the output layer to ensure the final probabilities sum up to 1."
   ]
  },
  {
   "cell_type": "markdown",
   "metadata": {},
   "source": [
    "**Neurons** are the core units of a neural network. Let's look into the operations done by each neuron to understand the overall mechanism of a neural network.\n",
    "\n",
    "![Neuron](./images/neuron.png)\n",
    "\n",
    "*Figure 2:* Operations done by a neuron. The figure is taken from the blogpost: \"*First neural network for beginners explained (with code)*\", Arthur Arnx, [towardsdatascience](https://towardsdatascience.com/first-neural-network-for-beginners-explained-with-code-4cfd37e06eaf)."
   ]
  },
  {
   "cell_type": "markdown",
   "metadata": {},
   "source": [
    "Each input neuron $x_i$ is multiplied by a weight $w_i$. In Figure 2, we have $(x1, x2, x3)$ and  $(w1, w2, w3)$. The value of a weight determines the influence that the input neuron will have on the neuron of the next layer. The multiplied values are then summed. An additional value, called bias, is also added and allows to shift the activation function. This new value becomes the value of the hidden neuron. Mathematically, we have:\n",
    "\n",
    "$$ h = (w1*x1 + w2*x2 + w3*x3) + b = \\sum_i ^ 3w_i*x_i+ b $$\n",
    "\n",
    "An activation function, discussed in greater details in the next section, is then applied to the hidden neuron to determine if the neuronal value should be activated or not. An activated neuron transmits data to the neuron of the next layer. In this manner, the data is propagated through the network which is known as [forward propagation](https://en.wikipedia.org/wiki/Feedforward_neural_network).\n",
    "\n",
    "The weights and biases in a neural network are referred to as _learnable parameters_. They are tuned when training the model to obtain a good performance.\n",
    "\n"
   ]
  },
  {
   "cell_type": "markdown",
   "metadata": {},
   "source": [
    "#### Activation function\n",
    "\n",
    "**What is an activation function?**\n",
    "\n",
    "An [activation function](https://en.wikipedia.org/wiki/Activation_function) regulates the amount of information passed through a neural network. This function is applied to each neuron and determines whether the neuron should be activated or not. It works as a \"gate\" between the input feeding the current neuron and its output going to the next layer as shown in the figure below.\n",
    "\n",
    "![Activation](images/activation.png)\n",
    "\n",
    "*Figure 3:* The figure shows an activation function applied on a neuron. It is taken from the blogpost: [Why Activation Functions?](https://medium.com/analytics-vidhya/why-activation-functions-8328f3f21120)"
   ]
  },
  {
   "cell_type": "markdown",
   "metadata": {},
   "source": [
    "**Types of activation function**\n",
    "\n",
    "There are many types of activation functions, but we only discuss the two which we use in the practical section below. For more information, see the supplementary section and references. Most neural networks use non-linear activation functions in the hidden layers to learn complex features and adapt to a variety of data."
   ]
  },
  {
   "cell_type": "markdown",
   "metadata": {},
   "source": [
    "1. Rectified Linear Unit (ReLU)\n",
    "\n",
    "- It takes the form: $\\boxed{f(x) = max\\{ 0, x\\}}$.\n",
    "- As shown in the figure below, [ReLU](https://machinelearningmastery.com/rectified-linear-activation-function-for-deep-learning-neural-networks/) outputs $x$, if $x$ is positive and $0$ otherwise. The range of ReLU is $[0, +\\infty)$.\n",
    "- One of the reasons it is commonly used is its sparsity: only few neurons will be activated and thereby making the activations sparse and efficient.\n",
    "- It has become the default activation function for many types of neural networks because it makes the training of a model less expensive and the model often achieves better performance.\n",
    "- A possible drawback of ReLU is the so-called _dying ReLU problem_ where neurons get stuck as inactive for all inputs, it is a form of [vanishing gradient problem](https://en.wikipedia.org/wiki/Vanishing_gradient_problem).\n",
    "\n",
    "![ReLU](images/relu.png)\n",
    "\n",
    "*Figure 4:* Representation of the *ReLU* function. Figure by Sakshi Misra."
   ]
  },
  {
   "cell_type": "markdown",
   "metadata": {},
   "source": [
    "2. Linear activation function\n",
    "\n",
    "- A [linear activation function](https://keras.io/api/layers/core_layers/dense/) takes the form: $\\boxed{a(x) = x}$.\n",
    "- It is the most appropriate activation function in a regression setting, since there is no constraint on the output."
   ]
  },
  {
   "cell_type": "markdown",
   "metadata": {},
   "source": [
    "#### Loss function \n",
    "\n",
    "\n",
    "When training a neural network, the aim is to optimize the prediction error, i.e. the difference between the true value and the value predicted by the model. The prediction error can be written as a function, known as the objective function, cost function, or **loss function**. The goal is therefore to minimize the loss function, in other words, to find local minima. The loss function is one of the important components in training a neural network. For more details on loss functions, please refer to the blogpost: [Loss and Loss Functions for Training Deep Learning Neural Networks](https://machinelearningmastery.com/loss-and-loss-functions-for-training-deep-learning-neural-networks/).\n",
    "Two commonly used loss functions in regression tasks are\n",
    "\n",
    "1. the **Mean Squared Error (MSE)**: As the name suggests, this loss is calculated by taking the mean of the squared differences between the true and predicted values. \n",
    "2. the **Mean Absolute Error (MAE)**: The loss is calculated by taking the mean of the absolute difference between the true and predicted values."
   ]
  },
  {
   "cell_type": "markdown",
   "metadata": {},
   "source": [
    "### Training a neural network\n",
    "\n",
    "When starting with a neural network, the parameters, i.e. the weights and biases, are randomly initialized. The inputs are then fed into the network and produce an output. However, the corresponding output will most likely be very different from the true value. In other words, the prediction error will be very poor: the loss function is far from being minimal. Therefore, the initial parameters have to be optimized to obtain better predictions.\n",
    "\n",
    "To this end, we need to minimize the loss function. An efficient way to find such a minimum is to use the [gradient descent](https://en.wikipedia.org/wiki/Gradient_descent#:~:text=Gradient%20descent%20is%20a%20first,the%20direction%20of%20steepest%20descent.) algorithm. This optimization scheme is iterative and uses both the derivative of the loss function (or gradient in the multivariate case) and a learning rate. The main idea behind the algorithm is to follow the steepest direction of the function, obtained with the gradient and managing the length of each step with the learning rate. The latter is often referred to as a hyperparameter, which can be tuned using cross-validation (more details in future talktorials).\n",
    "\n",
    "In training neural networks, it is very common to use _back-propagation_, which is a way of efficiently obtaining the gradients using the chain-rule for differentiation.\n",
    "\n",
    "In summary, after each forward pass through a network, back-propagation performs a backward pass while adjusting the model’s parameters in order to minimize the loss function."
   ]
  },
  {
   "cell_type": "markdown",
   "metadata": {},
   "source": [
    "**Computation cost**\n",
    "\n",
    "If the data set used is very large, computing the gradient of the loss function can be very expensive. A way to solve this issue is to use instead a sample, or mini-batch, of the training data at a time, known as [_Stochastic Gradient Descent (SGD)_](https://en.wikipedia.org/wiki/Stochastic_gradient_descent) or _Mini-Batch Stochastic Gradient Descent_."
   ]
  },
  {
   "cell_type": "markdown",
   "metadata": {},
   "source": [
    "### Keras workflow\n",
    "\n",
    "[Keras](https://keras.io/getting_started/) is an open-source library for machine learning and more specifically neural networks. Its API runs on top of the very well-known [tensorflow](https://www.tensorflow.org/) deep learning platform.\n",
    "\n",
    "Below, we present a common workflow for training a neural network with [keras](https://keras.io/getting_started/).\n",
    "\n",
    " \n",
    "- **Prepare the data** − Foremost for any machine learning algorithm, we process, filter and select only the required information from the data. Then, the data is split into training and test data sets. The test data is used to evaluate the prediction of the algorithm and to cross check the efficiency of the learning process.\n",
    "\n",
    " \n",
    "- **Define the model** - In keras, every ANN is represented by keras [models](https://keras.io/api/models/model/#model-class). Keras provides a way to create a model which is called [sequential](https://keras.io/api/models/sequential/). The layers are arranged sequentially where the data flows from one layer to another layer in a given order until the data finally reaches the output layer. Each layer in the ANN can be represented by a *keras layer*. \n",
    "\n",
    "\n",
    "- **Compile the model** − The compilation is the final step in creating a model. Once the compilation is done, we can move on to the training phase. A _loss function_ and an _optimizer_ are required in the learning phase to define the prediction error and to minimize it, respectively. In the practical part of this talktorial, we use the mean squared error as a loss and the [adam](https://machinelearningmastery.com/adam-optimization-algorithm-for-deep-learning/) optimizer, which is a popular version of gradient descent and has shown to give good results in a wide range of problems.\n",
    "\n",
    "- **Fit the model** - The actual learning process will be done in this phase using the training data set. We can call the [fit()](https://keras.io/api/models/model_training_apis/#fit-method) method which needs several parameters such as $x$ the input data, $y$ the target data, the batch size, the number of epochs, etc. An _epoch_ is when the entire dataset is passed forward and backward through the neural network once.\n",
    "\n",
    "- **Evaluate model** − We can evaluate the model by looking at the loss function between the predicted and true values of the test data using the [evaluate()](https://keras.io/api/models/model_training_apis/#evaluate-method) method.\n",
    "\n",
    "    - Scatter plots are a common and simple approach to visualize the evaluation of a model. They plot the predicted vs. true values. If the fit was perfect, we should see the $y=x$ line, meaning that the predicted value is exactly the true value.\n",
    "    \n",
    "    \n",
    "- **Predictions on external/unlabeled data** − We make predictions based on the trained model for the external data set using the [predict()](https://keras.io/api/models/model_training_apis/#predict-method) method."
   ]
  },
  {
   "cell_type": "markdown",
   "metadata": {},
   "source": [
    "### Advantages and applications of neural networks\n",
    "\n",
    "**Advantages of a neural network** \n",
    "\n",
    "- **Organic learning**: Neural networks have the ability to learn by extracting the important features present in the input data.\n",
    "- **Non linear data processing**: They have the ability to learn and model non-linear and complex relationships. \n",
    "- **Time operation**: The computation cost during training time can be reduced using parallelization.\n",
    "\n",
    "To learn more about advantages and disadvantages of a neural network, please refer to the article: J V Tu, \"*Advantages and disadvantages of using artificial neural networks versus logistic regression for predicting medical outcomes*\", [Journal of Clinical Epidemiology, **vol 49 issue 11**, pages: 1225-1231](https://pubmed.ncbi.nlm.nih.gov/8892489/)."
   ]
  },
  {
   "cell_type": "markdown",
   "metadata": {},
   "source": [
    "**Applications of neural networks**\n",
    "\n",
    "There are various applications of neural networks in computer-aided drug design  such as:\n",
    "\n",
    "- Drug design and discovery\n",
    "- Biomarker identification and/or classification\n",
    "- Various types of cancer detection\n",
    "- Pattern recognition\n",
    "\n",
    "Please refer to the article: Cheirdaris D.G. (2020), \"*Artificial Neural Networks in Computer-Aided Drug Design: An Overview of Recent Advances*\",  [GeNeDis 2018. Advances in Experimental Medicine and Biology, **vol 1194**. Springer](https://link.springer.com/chapter/10.1007/978-3-030-32622-7_10) for more details."
   ]
  },
  {
   "cell_type": "markdown",
   "metadata": {},
   "source": [
    "## Practical\n",
    "\n",
    "The first step is to import all the necessary libraries."
   ]
  },
  {
   "cell_type": "code",
   "execution_count": 1,
   "metadata": {
    "ExecuteTime": {
     "end_time": "2024-01-17T19:58:12.303411800Z",
     "start_time": "2024-01-17T19:58:06.081370800Z"
    }
   },
   "outputs": [
    {
     "ename": "ImportError",
     "evalue": "DLL load failed while importing _imaging: Das angegebene Modul wurde nicht gefunden.",
     "output_type": "error",
     "traceback": [
      "\u001B[1;31m---------------------------------------------------------------------------\u001B[0m",
      "\u001B[1;31mImportError\u001B[0m                               Traceback (most recent call last)",
      "Cell \u001B[1;32mIn[1], line 12\u001B[0m\n\u001B[0;32m     10\u001B[0m \u001B[38;5;28;01mfrom\u001B[39;00m \u001B[38;5;21;01mrdkit\u001B[39;00m\u001B[38;5;21;01m.\u001B[39;00m\u001B[38;5;21;01mChem\u001B[39;00m \u001B[38;5;28;01mimport\u001B[39;00m MACCSkeys, Draw, rdFingerprintGenerator\n\u001B[0;32m     11\u001B[0m \u001B[38;5;28;01mfrom\u001B[39;00m \u001B[38;5;21;01msklearn\u001B[39;00m\u001B[38;5;21;01m.\u001B[39;00m\u001B[38;5;21;01mmodel_selection\u001B[39;00m \u001B[38;5;28;01mimport\u001B[39;00m train_test_split\n\u001B[1;32m---> 12\u001B[0m \u001B[38;5;28;01mimport\u001B[39;00m \u001B[38;5;21;01mmatplotlib\u001B[39;00m\u001B[38;5;21;01m.\u001B[39;00m\u001B[38;5;21;01mpyplot\u001B[39;00m \u001B[38;5;28;01mas\u001B[39;00m \u001B[38;5;21;01mplt\u001B[39;00m\n\u001B[0;32m     13\u001B[0m \u001B[38;5;28;01mfrom\u001B[39;00m \u001B[38;5;21;01msklearn\u001B[39;00m \u001B[38;5;28;01mimport\u001B[39;00m metrics\n\u001B[0;32m     14\u001B[0m \u001B[38;5;28;01mimport\u001B[39;00m \u001B[38;5;21;01mseaborn\u001B[39;00m \u001B[38;5;28;01mas\u001B[39;00m \u001B[38;5;21;01msns\u001B[39;00m\n",
      "File \u001B[1;32m~\\miniconda3\\envs\\T001\\lib\\site-packages\\matplotlib\\__init__.py:161\u001B[0m\n\u001B[0;32m    157\u001B[0m \u001B[38;5;28;01mfrom\u001B[39;00m \u001B[38;5;21;01mpackaging\u001B[39;00m\u001B[38;5;21;01m.\u001B[39;00m\u001B[38;5;21;01mversion\u001B[39;00m \u001B[38;5;28;01mimport\u001B[39;00m parse \u001B[38;5;28;01mas\u001B[39;00m parse_version\n\u001B[0;32m    159\u001B[0m \u001B[38;5;66;03m# cbook must import matplotlib only within function\u001B[39;00m\n\u001B[0;32m    160\u001B[0m \u001B[38;5;66;03m# definitions, so it is safe to import from it here.\u001B[39;00m\n\u001B[1;32m--> 161\u001B[0m \u001B[38;5;28;01mfrom\u001B[39;00m \u001B[38;5;21;01m.\u001B[39;00m \u001B[38;5;28;01mimport\u001B[39;00m _api, _version, cbook, _docstring, rcsetup\n\u001B[0;32m    162\u001B[0m \u001B[38;5;28;01mfrom\u001B[39;00m \u001B[38;5;21;01mmatplotlib\u001B[39;00m\u001B[38;5;21;01m.\u001B[39;00m\u001B[38;5;21;01mcbook\u001B[39;00m \u001B[38;5;28;01mimport\u001B[39;00m sanitize_sequence\n\u001B[0;32m    163\u001B[0m \u001B[38;5;28;01mfrom\u001B[39;00m \u001B[38;5;21;01mmatplotlib\u001B[39;00m\u001B[38;5;21;01m.\u001B[39;00m\u001B[38;5;21;01m_api\u001B[39;00m \u001B[38;5;28;01mimport\u001B[39;00m MatplotlibDeprecationWarning\n",
      "File \u001B[1;32m~\\miniconda3\\envs\\T001\\lib\\site-packages\\matplotlib\\rcsetup.py:27\u001B[0m\n\u001B[0;32m     25\u001B[0m \u001B[38;5;28;01mfrom\u001B[39;00m \u001B[38;5;21;01mmatplotlib\u001B[39;00m \u001B[38;5;28;01mimport\u001B[39;00m _api, cbook\n\u001B[0;32m     26\u001B[0m \u001B[38;5;28;01mfrom\u001B[39;00m \u001B[38;5;21;01mmatplotlib\u001B[39;00m\u001B[38;5;21;01m.\u001B[39;00m\u001B[38;5;21;01mcbook\u001B[39;00m \u001B[38;5;28;01mimport\u001B[39;00m ls_mapper\n\u001B[1;32m---> 27\u001B[0m \u001B[38;5;28;01mfrom\u001B[39;00m \u001B[38;5;21;01mmatplotlib\u001B[39;00m\u001B[38;5;21;01m.\u001B[39;00m\u001B[38;5;21;01mcolors\u001B[39;00m \u001B[38;5;28;01mimport\u001B[39;00m Colormap, is_color_like\n\u001B[0;32m     28\u001B[0m \u001B[38;5;28;01mfrom\u001B[39;00m \u001B[38;5;21;01mmatplotlib\u001B[39;00m\u001B[38;5;21;01m.\u001B[39;00m\u001B[38;5;21;01m_fontconfig_pattern\u001B[39;00m \u001B[38;5;28;01mimport\u001B[39;00m parse_fontconfig_pattern\n\u001B[0;32m     29\u001B[0m \u001B[38;5;28;01mfrom\u001B[39;00m \u001B[38;5;21;01mmatplotlib\u001B[39;00m\u001B[38;5;21;01m.\u001B[39;00m\u001B[38;5;21;01m_enums\u001B[39;00m \u001B[38;5;28;01mimport\u001B[39;00m JoinStyle, CapStyle\n",
      "File \u001B[1;32m~\\miniconda3\\envs\\T001\\lib\\site-packages\\matplotlib\\colors.py:52\u001B[0m\n\u001B[0;32m     49\u001B[0m \u001B[38;5;28;01mfrom\u001B[39;00m \u001B[38;5;21;01mnumbers\u001B[39;00m \u001B[38;5;28;01mimport\u001B[39;00m Real\n\u001B[0;32m     50\u001B[0m \u001B[38;5;28;01mimport\u001B[39;00m \u001B[38;5;21;01mre\u001B[39;00m\n\u001B[1;32m---> 52\u001B[0m \u001B[38;5;28;01mfrom\u001B[39;00m \u001B[38;5;21;01mPIL\u001B[39;00m \u001B[38;5;28;01mimport\u001B[39;00m Image\n\u001B[0;32m     53\u001B[0m \u001B[38;5;28;01mfrom\u001B[39;00m \u001B[38;5;21;01mPIL\u001B[39;00m\u001B[38;5;21;01m.\u001B[39;00m\u001B[38;5;21;01mPngImagePlugin\u001B[39;00m \u001B[38;5;28;01mimport\u001B[39;00m PngInfo\n\u001B[0;32m     55\u001B[0m \u001B[38;5;28;01mimport\u001B[39;00m \u001B[38;5;21;01mmatplotlib\u001B[39;00m \u001B[38;5;28;01mas\u001B[39;00m \u001B[38;5;21;01mmpl\u001B[39;00m\n",
      "File \u001B[1;32m~\\miniconda3\\envs\\T001\\lib\\site-packages\\PIL\\Image.py:82\u001B[0m\n\u001B[0;32m     73\u001B[0m MAX_IMAGE_PIXELS \u001B[38;5;241m=\u001B[39m \u001B[38;5;28mint\u001B[39m(\u001B[38;5;241m1024\u001B[39m \u001B[38;5;241m*\u001B[39m \u001B[38;5;241m1024\u001B[39m \u001B[38;5;241m*\u001B[39m \u001B[38;5;241m1024\u001B[39m \u001B[38;5;241m/\u001B[39m\u001B[38;5;241m/\u001B[39m \u001B[38;5;241m4\u001B[39m \u001B[38;5;241m/\u001B[39m\u001B[38;5;241m/\u001B[39m \u001B[38;5;241m3\u001B[39m)\n\u001B[0;32m     76\u001B[0m \u001B[38;5;28;01mtry\u001B[39;00m:\n\u001B[0;32m     77\u001B[0m     \u001B[38;5;66;03m# If the _imaging C module is not present, Pillow will not load.\u001B[39;00m\n\u001B[0;32m     78\u001B[0m     \u001B[38;5;66;03m# Note that other modules should not refer to _imaging directly;\u001B[39;00m\n\u001B[0;32m     79\u001B[0m     \u001B[38;5;66;03m# import Image and use the Image.core variable instead.\u001B[39;00m\n\u001B[0;32m     80\u001B[0m     \u001B[38;5;66;03m# Also note that Image.core is not a publicly documented interface,\u001B[39;00m\n\u001B[0;32m     81\u001B[0m     \u001B[38;5;66;03m# and should be considered private and subject to change.\u001B[39;00m\n\u001B[1;32m---> 82\u001B[0m     \u001B[38;5;28;01mfrom\u001B[39;00m \u001B[38;5;21;01m.\u001B[39;00m \u001B[38;5;28;01mimport\u001B[39;00m _imaging \u001B[38;5;28;01mas\u001B[39;00m core\n\u001B[0;32m     84\u001B[0m     \u001B[38;5;28;01mif\u001B[39;00m __version__ \u001B[38;5;241m!=\u001B[39m \u001B[38;5;28mgetattr\u001B[39m(core, \u001B[38;5;124m\"\u001B[39m\u001B[38;5;124mPILLOW_VERSION\u001B[39m\u001B[38;5;124m\"\u001B[39m, \u001B[38;5;28;01mNone\u001B[39;00m):\n\u001B[0;32m     85\u001B[0m         msg \u001B[38;5;241m=\u001B[39m (\n\u001B[0;32m     86\u001B[0m             \u001B[38;5;124m\"\u001B[39m\u001B[38;5;124mThe _imaging extension was built for another version of Pillow or PIL:\u001B[39m\u001B[38;5;130;01m\\n\u001B[39;00m\u001B[38;5;124m\"\u001B[39m\n\u001B[0;32m     87\u001B[0m             \u001B[38;5;124mf\u001B[39m\u001B[38;5;124m\"\u001B[39m\u001B[38;5;124mCore version: \u001B[39m\u001B[38;5;132;01m{\u001B[39;00m\u001B[38;5;28mgetattr\u001B[39m(core,\u001B[38;5;250m \u001B[39m\u001B[38;5;124m'\u001B[39m\u001B[38;5;124mPILLOW_VERSION\u001B[39m\u001B[38;5;124m'\u001B[39m,\u001B[38;5;250m \u001B[39m\u001B[38;5;28;01mNone\u001B[39;00m)\u001B[38;5;132;01m}\u001B[39;00m\u001B[38;5;130;01m\\n\u001B[39;00m\u001B[38;5;124m\"\u001B[39m\n\u001B[0;32m     88\u001B[0m             \u001B[38;5;124mf\u001B[39m\u001B[38;5;124m\"\u001B[39m\u001B[38;5;124mPillow version: \u001B[39m\u001B[38;5;132;01m{\u001B[39;00m__version__\u001B[38;5;132;01m}\u001B[39;00m\u001B[38;5;124m\"\u001B[39m\n\u001B[0;32m     89\u001B[0m         )\n",
      "\u001B[1;31mImportError\u001B[0m: DLL load failed while importing _imaging: Das angegebene Modul wurde nicht gefunden."
     ]
    }
   ],
   "source": [
    "from pathlib import Path\n",
    "from warnings import filterwarnings\n",
    "\n",
    "# Silence some expected warnings\n",
    "filterwarnings(\"ignore\")\n",
    "\n",
    "import pandas as pd\n",
    "import numpy as np\n",
    "from rdkit import Chem\n",
    "from rdkit.Chem import MACCSkeys, Draw, rdFingerprintGenerator\n",
    "from sklearn.model_selection import train_test_split\n",
    "import matplotlib.pyplot as plt\n",
    "from sklearn import metrics\n",
    "import seaborn as sns\n",
    "\n",
    "# Neural network specific libraries\n",
    "from tensorflow.keras.models import Sequential, load_model\n",
    "from tensorflow.keras.layers import Dense\n",
    "from tensorflow.keras.callbacks import ModelCheckpoint\n",
    "\n",
    "%matplotlib inline"
   ]
  },
  {
   "cell_type": "code",
   "execution_count": null,
   "metadata": {
    "tags": [],
    "ExecuteTime": {
     "end_time": "2024-01-17T19:58:12.533394600Z",
     "start_time": "2024-01-17T19:58:12.362431300Z"
    }
   },
   "outputs": [],
   "source": [
    "# Set path to this notebook\n",
    "HERE = Path(_dh[-1])\n",
    "DATA = HERE / \"data\""
   ]
  },
  {
   "cell_type": "markdown",
   "metadata": {},
   "source": [
    "### Data preparation"
   ]
  },
  {
   "cell_type": "markdown",
   "metadata": {},
   "source": [
    "Let's load the data which is a subset of ChEMBL for EGFR. The important columns in the dataframe are:\n",
    "\n",
    "- CHEMBL-ID\n",
    "- SMILES string of the corresponding compound\n",
    "- Measured affinity: pIC50"
   ]
  },
  {
   "cell_type": "code",
   "execution_count": null,
   "metadata": {
    "tags": [],
    "ExecuteTime": {
     "start_time": "2024-01-17T19:58:12.363368900Z"
    }
   },
   "outputs": [],
   "source": [
    "# Load data\n",
    "df = pd.read_csv(DATA / \"CHEMBL25_activities_EGFR.csv\", index_col=0)\n",
    "df = df.reset_index(drop=True)"
   ]
  },
  {
   "cell_type": "code",
   "execution_count": null,
   "metadata": {
    "tags": [],
    "ExecuteTime": {
     "start_time": "2024-01-17T19:58:12.363368900Z"
    }
   },
   "outputs": [],
   "source": [
    "# Check the dimension and missing value of the data\n",
    "print(\"Shape of dataframe : \", df.shape)\n",
    "df.info()"
   ]
  },
  {
   "cell_type": "code",
   "execution_count": null,
   "metadata": {
    "tags": [],
    "ExecuteTime": {
     "start_time": "2024-01-17T19:58:12.363368900Z"
    }
   },
   "outputs": [],
   "source": [
    "# Look at head\n",
    "df.head()\n",
    "# NBVAL_CHECK_OUTPUT"
   ]
  },
  {
   "cell_type": "code",
   "execution_count": null,
   "metadata": {
    "tags": [],
    "ExecuteTime": {
     "start_time": "2024-01-17T19:58:12.363368900Z"
    }
   },
   "outputs": [],
   "source": [
    "# Keep necessary columns\n",
    "chembl_df = df[[\"canonical_smiles\", \"pIC50\"]]\n",
    "chembl_df.head()\n",
    "# NBVAL_CHECK_OUTPUT"
   ]
  },
  {
   "cell_type": "markdown",
   "metadata": {},
   "source": [
    "**Molecular encoding**\n",
    "\n",
    "We convert the SMILES string to numerical data to apply a neural network. We use the already defined function `smiles_to_fp` from **Talktorial T007** which generates fingerprints from SMILES.\n",
    "The default encoding are MACCS keys with 166 bits (see **Talktorial T007** for more information on molecular encoding)."
   ]
  },
  {
   "cell_type": "code",
   "execution_count": null,
   "metadata": {
    "tags": [],
    "ExecuteTime": {
     "start_time": "2024-01-17T19:58:12.363368900Z"
    }
   },
   "outputs": [],
   "source": [
    "def smiles_to_fp(smiles, method=\"maccs\", n_bits=2048):\n",
    "    \"\"\"\n",
    "    Encode a molecule from a SMILES string into a fingerprint.\n",
    "\n",
    "    Parameters\n",
    "    ----------\n",
    "    smiles : str\n",
    "        The SMILES string defining the molecule.\n",
    "\n",
    "    method : str\n",
    "        The type of fingerprint to use. Default is MACCS keys.\n",
    "\n",
    "    n_bits : int\n",
    "        The length of the fingerprint.\n",
    "\n",
    "    Returns\n",
    "    -------\n",
    "    array\n",
    "        The fingerprint array.\n",
    "    \"\"\"\n",
    "\n",
    "    # Convert smiles to RDKit mol object\n",
    "    mol = Chem.MolFromSmiles(smiles)\n",
    "\n",
    "    if method == \"maccs\":\n",
    "        return np.array(MACCSkeys.GenMACCSKeys(mol))\n",
    "    if method == \"morgan2\":\n",
    "        fpg = rdFingerprintGenerator.GetMorganGenerator(radius=2, fpSize=n_bits)\n",
    "        return np.array(fpg.GetCountFingerprint(mol))\n",
    "    if method == \"morgan3\":\n",
    "        fpg = rdFingerprintGenerator.GetMorganGenerator(radius=3, fpSize=n_bits)\n",
    "        return np.array(fpg.GetCountFingerprint(mol))\n",
    "    else:\n",
    "        print(f\"Warning: Wrong method specified: {method}.\" \" Default will be used instead.\")\n",
    "        return np.array(MACCSkeys.GenMACCSKeys(mol))"
   ]
  },
  {
   "cell_type": "markdown",
   "metadata": {},
   "source": [
    "Convert all SMILES strings to MACCS fingerprints."
   ]
  },
  {
   "cell_type": "code",
   "execution_count": null,
   "metadata": {
    "tags": [],
    "ExecuteTime": {
     "start_time": "2024-01-17T19:58:12.363368900Z"
    }
   },
   "outputs": [],
   "source": [
    "chembl_df[\"fingerprints_df\"] = chembl_df[\"canonical_smiles\"].apply(smiles_to_fp)\n",
    "\n",
    "# Look at head\n",
    "print(\"Shape of dataframe:\", chembl_df.shape)\n",
    "chembl_df.head(3)\n",
    "# NBVAL_CHECK_OUTPUT"
   ]
  },
  {
   "cell_type": "markdown",
   "metadata": {},
   "source": [
    "Next, we define $x$, the **features**, and $y$, the **target data** which will be used to train the model. In our case, features are the bit vectors and the target values are the pIC50 values of the molecules.\n",
    "\n",
    "We use `train_test_split` from the _scikit-learn_ library to split the data into 70% training and 30% test data."
   ]
  },
  {
   "cell_type": "code",
   "execution_count": null,
   "metadata": {
    "tags": [],
    "ExecuteTime": {
     "start_time": "2024-01-17T19:58:12.364877400Z"
    }
   },
   "outputs": [],
   "source": [
    "# Split the data into training and test set\n",
    "x_train, x_test, y_train, y_test = train_test_split(\n",
    "    chembl_df[\"fingerprints_df\"], chembl_df[[\"pIC50\"]], test_size=0.3, random_state=42\n",
    ")\n",
    "\n",
    "# Print the shape of training and testing data\n",
    "print(\"Shape of training data:\", x_train.shape)\n",
    "print(\"Shape of test data:\", x_test.shape)\n",
    "# NBVAL_CHECK_OUTPUT"
   ]
  },
  {
   "cell_type": "markdown",
   "metadata": {},
   "source": [
    "### Define neural network\n",
    "\n",
    "A keras model is defined by specifying the number of neurons in the hidden layers and the activation function as arguments. For our purpose, we define a model with *two hidden layers*. We use ReLU in the hidden layers and a linear function on the output layer, since the aim is to predict pIC50 values.\n",
    "Finally, we compile the model using the *mean squared error* as a loss argument and *adam* as an optimizer."
   ]
  },
  {
   "cell_type": "code",
   "execution_count": null,
   "metadata": {
    "tags": [],
    "ExecuteTime": {
     "start_time": "2024-01-17T19:58:12.364877400Z"
    }
   },
   "outputs": [],
   "source": [
    "def neural_network_model(hidden1, hidden2):\n",
    "    \"\"\"\n",
    "    Creating a neural network from two hidden layers\n",
    "    using ReLU as activation function in the two hidden layers\n",
    "    and a linear activation in the output layer.\n",
    "\n",
    "    Parameters\n",
    "    ----------\n",
    "    hidden1 : int\n",
    "        Number of neurons in first hidden layer.\n",
    "\n",
    "    hidden2: int\n",
    "        Number of neurons in second hidden layer.\n",
    "\n",
    "    Returns\n",
    "    -------\n",
    "    model\n",
    "        Fully connected neural network model with two hidden layers.\n",
    "    \"\"\"\n",
    "\n",
    "    model = Sequential()\n",
    "    # First hidden layer\n",
    "    model.add(Dense(hidden1, activation=\"relu\", name=\"layer1\"))\n",
    "    # Second hidden layer\n",
    "    model.add(Dense(hidden2, activation=\"relu\", name=\"layer2\"))\n",
    "    # Output layer\n",
    "    model.add(Dense(1, activation=\"linear\", name=\"layer3\"))\n",
    "\n",
    "    # Compile model\n",
    "    model.compile(loss=\"mean_squared_error\", optimizer=\"adam\", metrics=[\"mse\", \"mae\"])\n",
    "    return model"
   ]
  },
  {
   "cell_type": "markdown",
   "metadata": {},
   "source": [
    "### Train the model\n",
    "\n",
    "We try different mini-batch sizes and plot the respective losses."
   ]
  },
  {
   "cell_type": "code",
   "execution_count": null,
   "metadata": {
    "tags": [],
    "ExecuteTime": {
     "start_time": "2024-01-17T19:58:12.365875400Z"
    }
   },
   "outputs": [],
   "source": [
    "# Neural network parameters\n",
    "batch_sizes = [16, 32, 64]\n",
    "nb_epoch = 50\n",
    "layer1_size = 64\n",
    "layer2_size = 32"
   ]
  },
  {
   "cell_type": "code",
   "execution_count": null,
   "metadata": {
    "tags": [],
    "ExecuteTime": {
     "start_time": "2024-01-17T19:58:12.365875400Z"
    }
   },
   "outputs": [],
   "source": [
    "# Plot\n",
    "fig = plt.figure(figsize=(12, 6))\n",
    "sns.set(color_codes=True)\n",
    "for index, batch in enumerate(batch_sizes):\n",
    "    fig.add_subplot(1, len(batch_sizes), index + 1)\n",
    "    model = neural_network_model(layer1_size, layer2_size)\n",
    "\n",
    "    # Fit model on x_train, y_train data\n",
    "    history = model.fit(\n",
    "        np.array(list((x_train))).astype(float),\n",
    "        y_train.values,\n",
    "        batch_size=batch,\n",
    "        validation_data=(np.array(list((x_test))).astype(float), y_test.values),\n",
    "        verbose=0,\n",
    "        epochs=nb_epoch,\n",
    "    )\n",
    "    plt.plot(history.history[\"loss\"], label=\"train\")\n",
    "    plt.plot(history.history[\"val_loss\"], label=\"test\")\n",
    "    plt.legend([\"train\", \"test\"], loc=\"upper right\")\n",
    "    plt.ylabel(\"loss\")\n",
    "    plt.xlabel(\"epoch\")\n",
    "    plt.ylim((0, 15))\n",
    "    plt.title(\n",
    "        f\"test loss = {history.history['val_loss'][nb_epoch-1]:.2f}, \" f\"batch size = {batch}\"\n",
    "    )\n",
    "plt.show()"
   ]
  },
  {
   "cell_type": "markdown",
   "metadata": {},
   "source": [
    "From the loss plots above, a batch of size 16 seems to give the best performance."
   ]
  },
  {
   "cell_type": "markdown",
   "metadata": {},
   "source": [
    "A [_ModelCheckpoint callback_](https://keras.io/api/callbacks/) is used to save the best model/weights (in a checkpoint file) at some interval, so the model/weights can either be saved as it or be loaded later to continue the training from the state saved.\n",
    "\n",
    "Now, we train the model with a batch size of 16 (because as seen from the figure above, it has the lowest test loss) and we save the weights that give the best perfomance in the file `best_weights.hdf5`."
   ]
  },
  {
   "cell_type": "code",
   "execution_count": null,
   "metadata": {
    "tags": [],
    "ExecuteTime": {
     "start_time": "2024-01-17T19:58:12.365875400Z"
    }
   },
   "outputs": [],
   "source": [
    "# Save the trained model\n",
    "filepath = DATA / \"best_weights.hdf5\"\n",
    "checkpoint = ModelCheckpoint(\n",
    "    str(filepath),\n",
    "    monitor=\"loss\",\n",
    "    verbose=0,\n",
    "    save_best_only=True,\n",
    "    mode=\"min\",\n",
    "    save_weights_only=True,\n",
    ")\n",
    "callbacks_list = [checkpoint]\n",
    "\n",
    "# Fit the model\n",
    "model.fit(\n",
    "    np.array(list((x_train))).astype(float),\n",
    "    y_train.values,\n",
    "    epochs=nb_epoch,\n",
    "    batch_size=16,\n",
    "    callbacks=callbacks_list,\n",
    "    verbose=0,\n",
    ")"
   ]
  },
  {
   "cell_type": "markdown",
   "metadata": {},
   "source": [
    "### Evaluation & prediction on test set\n",
    "\n",
    "The [evaluate()](https://keras.io/api/models/model_training_apis/#evaluate-method) method is used to check the performance of our model. It reports the **loss** (which is the mse in our case) as well as evaluation metrics (which are the **mse** and **mae**)."
   ]
  },
  {
   "cell_type": "code",
   "execution_count": null,
   "metadata": {
    "tags": [],
    "ExecuteTime": {
     "start_time": "2024-01-17T19:58:12.365875400Z"
    }
   },
   "outputs": [],
   "source": [
    "# Evalute the model\n",
    "print(f\"Evaluate the model on the test data\")\n",
    "scores = model.evaluate(np.array(list((x_test))), y_test.values, verbose=0)\n",
    "print(f\" loss: {scores[0]:.2f}\")\n",
    "print(f\" mse (same as loss): {scores[1]:.2f}\")\n",
    "print(f\" mae: {scores[2]:.2f}\")"
   ]
  },
  {
   "cell_type": "markdown",
   "metadata": {},
   "source": [
    "The mean absolute error on the test set is as below $1.0$ which given the range of pIC50 values is pretty low.\n",
    "\n",
    "We now predict the pIC50 values on the test data. "
   ]
  },
  {
   "cell_type": "code",
   "execution_count": null,
   "metadata": {
    "tags": [],
    "ExecuteTime": {
     "start_time": "2024-01-17T19:58:12.365875400Z"
    }
   },
   "outputs": [],
   "source": [
    "# Predict pIC50 values on x_test data\n",
    "y_pred = model.predict(np.array(list((x_test))))\n",
    "\n",
    "# Print 5 first pIC50 predicted values\n",
    "first_5_prediction = [print(f\"{value[0]:.2f}\") for value in y_pred[0:5]]"
   ]
  },
  {
   "cell_type": "markdown",
   "metadata": {},
   "source": [
    "#### Scatter plot"
   ]
  },
  {
   "cell_type": "markdown",
   "metadata": {},
   "source": [
    "To visualize the predictions, we plot the predicted vs. the true pIC50 values on the test set. "
   ]
  },
  {
   "cell_type": "code",
   "execution_count": null,
   "metadata": {
    "tags": [
     "nbsphinx-thumbnail"
    ],
    "ExecuteTime": {
     "start_time": "2024-01-17T19:58:12.365875400Z"
    }
   },
   "outputs": [],
   "source": [
    "# Scatter plot\n",
    "limits = 0, 15\n",
    "fig, ax = plt.subplots()\n",
    "ax.scatter(y_pred, y_test, marker=\".\")\n",
    "lin = np.linspace(*limits, 100)\n",
    "ax.plot(lin, lin)\n",
    "ax.set_aspect(\"equal\", adjustable=\"box\")\n",
    "ax.set_xlabel(\"Predicted values\")\n",
    "ax.set_ylabel(\"True values\")\n",
    "ax.set_title(\"Scatter plot: pIC50 values\")\n",
    "ax.set_xlim(limits)\n",
    "ax.set_ylim(limits)\n",
    "plt.show()"
   ]
  },
  {
   "cell_type": "markdown",
   "metadata": {},
   "source": [
    "As we can see, there is a positive linear relation between the predicted and true values, but the fit is far from perfect."
   ]
  },
  {
   "cell_type": "markdown",
   "metadata": {},
   "source": [
    "### Prediction on external/unlabeled data"
   ]
  },
  {
   "cell_type": "markdown",
   "metadata": {},
   "source": [
    "We use the trained neural network to predict the pIC50 values on the unlabeled compounds from the `test.csv`file."
   ]
  },
  {
   "cell_type": "code",
   "execution_count": null,
   "metadata": {
    "tags": [],
    "ExecuteTime": {
     "start_time": "2024-01-17T19:58:12.365875400Z"
    }
   },
   "outputs": [],
   "source": [
    "# Load external/unlabeled data set\n",
    "external_data = pd.read_csv(DATA / \"test.csv\", index_col=0)\n",
    "external_data = external_data.reset_index(drop=True)\n",
    "external_data.head()\n",
    "# NBVAL_CHECK_OUTPUT"
   ]
  },
  {
   "cell_type": "markdown",
   "metadata": {},
   "source": [
    "We use the same `smiles_to_fp` function and convert the SMILES strings into MACCS fingerprints."
   ]
  },
  {
   "cell_type": "code",
   "execution_count": null,
   "metadata": {
    "tags": [],
    "ExecuteTime": {
     "start_time": "2024-01-17T19:58:12.365875400Z"
    }
   },
   "outputs": [],
   "source": [
    "# Convert SMILES strings to MACCS fingerprints\n",
    "external_data[\"fingerprints_df\"] = external_data[\"canonical_smiles\"].apply(smiles_to_fp)\n",
    "\n",
    "# Look at head\n",
    "print(\"Shape of dataframe : \", external_data.shape)\n",
    "external_data.head(3)\n",
    "# NBVAL_CHECK_OUTPUT"
   ]
  },
  {
   "cell_type": "markdown",
   "metadata": {},
   "source": [
    "**Note**: For reproducibility of the results, we saved one model under `ANN_model.hdf5`, with the same architecture as above. Even though the model is the same, the weights that are saved from one simulation to another might differ due to the randomness in the _stochastic_ gradient algorithm. We load the ANN model weights with the [load_model()](https://keras.io/api/models/model_saving_apis/#loadmodel-function) function. "
   ]
  },
  {
   "cell_type": "code",
   "execution_count": null,
   "metadata": {
    "tags": [],
    "ExecuteTime": {
     "start_time": "2024-01-17T19:58:12.365875400Z"
    }
   },
   "outputs": [],
   "source": [
    "# Load model\n",
    "model = load_model(DATA / \"ANN_model.hdf5\", compile=False)"
   ]
  },
  {
   "cell_type": "code",
   "execution_count": null,
   "metadata": {
    "tags": [],
    "ExecuteTime": {
     "start_time": "2024-01-17T19:58:12.365875400Z"
    }
   },
   "outputs": [],
   "source": [
    "# Prediction on external/unlabeled data\n",
    "predictions = model.predict(\n",
    "    np.array(list((external_data[\"fingerprints_df\"]))).astype(float), callbacks=callbacks_list\n",
    ")\n",
    "\n",
    "predicted_pIC50 = pd.DataFrame(predictions, columns=[\"predicted_pIC50\"])\n",
    "predicted_pIC50_df = external_data.join(predicted_pIC50)\n",
    "\n",
    "predicted_pIC50_df.head(3)"
   ]
  },
  {
   "cell_type": "code",
   "execution_count": null,
   "metadata": {
    "tags": [],
    "ExecuteTime": {
     "start_time": "2024-01-17T19:58:12.365875400Z"
    }
   },
   "outputs": [],
   "source": [
    "# Save the predicted values in a csv file in the data folder\n",
    "predicted_pIC50_df.to_csv(DATA / \"predicted_pIC50_df.csv\")"
   ]
  },
  {
   "cell_type": "markdown",
   "metadata": {},
   "source": [
    "#### Select the top 3 compounds"
   ]
  },
  {
   "cell_type": "markdown",
   "metadata": {},
   "source": [
    "We select the 3 compounds with the highest predicted pIC50 values, which could be further investigated as potential EGRF inhibitors."
   ]
  },
  {
   "cell_type": "code",
   "execution_count": null,
   "metadata": {
    "tags": [],
    "ExecuteTime": {
     "start_time": "2024-01-17T19:58:12.365875400Z"
    }
   },
   "outputs": [],
   "source": [
    "# Select top 3 drugs\n",
    "predicted_pIC50_df = pd.read_csv(DATA / \"predicted_pIC50_df.csv\", index_col=0)\n",
    "top3_drug = predicted_pIC50_df.nlargest(3, \"predicted_pIC50\")\n",
    "top3_drug"
   ]
  },
  {
   "cell_type": "code",
   "execution_count": null,
   "metadata": {
    "tags": [],
    "ExecuteTime": {
     "start_time": "2024-01-17T19:58:12.365875400Z"
    }
   },
   "outputs": [],
   "source": [
    "# Draw the drug molecules\n",
    "highest_pIC50 = predicted_pIC50_df[\"canonical_smiles\"][top3_drug.index]\n",
    "\n",
    "mols_EGFR = [Chem.MolFromSmiles(smile) for smile in highest_pIC50]\n",
    "pIC50_EGFR = top3_drug[\"predicted_pIC50\"].tolist()\n",
    "pIC50_values = [(f\"pIC50 value: {value:.2f}\") for value in pIC50_EGFR]\n",
    "\n",
    "Draw.MolsToGridImage(mols_EGFR, molsPerRow=3, subImgSize=(450, 300), legends=pIC50_values)"
   ]
  },
  {
   "cell_type": "markdown",
   "metadata": {},
   "source": [
    "## Discussion\n",
    "\n",
    "\n",
    "\n"
   ]
  },
  {
   "cell_type": "markdown",
   "metadata": {},
   "source": [
    "From above we can see that there are some similarities between the three molecules. For example, they contain an aniline and pyrimidine group, as well as several aromatic carbon rings.\n",
    "\n",
    "![Drug similarity](./images/drugs_similarity.png)\n",
    "\n",
    "*Figure 5:* Representing similarities between selected top three drug molecules."
   ]
  },
  {
   "cell_type": "markdown",
   "metadata": {},
   "source": [
    "Since the external/unlabeled data is also taken from ChEMBL, we can double check if our predictions make sense. For example, the first compound with SMILES `Brc1cc(Nc2ncnc3nc(NC)ccc23)ccc1` and predicted pIC50 value of 8.48, has a high tested affinity against EGFR: a pIC50 value of 7.28, see entry [CHEMBL298637](https://www.ebi.ac.uk/chembl/compound_report_card/CHEMBL298637/).\n",
    "\n",
    "Using the neural network for predictive modeling has some advantages: it is not as time consuming as laboratory experiments and it is much cheaper. It also hints at the kind of molecules that could be further investigated as potential EGFR inhibitors. \n",
    "\n",
    "However, this model has some disadvantages: it highly depends on the chemical space of the training data, the parameter tuning as well as variable initialization which might affect the final results.\n",
    "Such a model neither provides information about the side effects of compounds nor their potential toxicity."
   ]
  },
  {
   "cell_type": "markdown",
   "metadata": {},
   "source": [
    "## Quiz\n",
    "\n",
    "- What other hyperparameters can be tuned to get better performance results?\n",
    "- What other activation functions and metrics can be used while defining the model?\n",
    "- Can you think of any other visualization method to plot the predictions and observed values?"
   ]
  },
  {
   "cell_type": "markdown",
   "metadata": {},
   "source": [
    "-------\n",
    "## Supplementary section\n",
    "\n",
    "<details>\n",
    "    \n",
    "<summary> If you are interested in more details, please keep reading this section. We define other activation and forward propagation functions to get a better understanding of the underlying concepts. </summary>\n",
    "\n",
    "**Activation functions**\n",
    "\n",
    "Let's discuss some other activation functions and define them using python.\n",
    "\n",
    "1) **Sigmoid function $\\sigma$**: It takes the form: $$\\boxed{\\sigma(x)=\\frac{1}{1+e^{−x}}}.$$\n",
    "\n",
    "   -  The sigmoid curve looks like a *S*-shaped curve as shown in the figure below. \n",
    "   - It has a \"smooth gradient\" which prevents jumps in the output values and it bounds the output values between 0 and 1.\n",
    "   - It is recommended to be used only on the output layer so that the output can be interpreted as probabilities. \n",
    "   - If you notice in the figure below, for $x$ values between -2.5 to 2.5, $y$ values are very steep, so any small change in values of $x$ in that region will cause value of $y$ to change significantly. It tends to bring the activations to either side of the curve.\n",
    "   - However, for very high or very low values of $x$, there is almost no change in the $y$ values, causing a [**vanishing gradient**](https://towardsdatascience.com/the-vanishing-exploding-gradient-problem-in-deep-neural-networks-191358470c11) problem. This can cause the network to learn slowly or even refuse to learn further. \n",
    "\n",
    "![sigmoid](images/sigmoid.png)\n",
    "\n",
    "*Figure 6:* Representation of the sigmoid function. Figure by Sakshi Misra.\n",
    "\n",
    "\n",
    "    \n",
    "\n",
    "2) **Hyperbolic Tangent function or tanh**:  It takes the form: $$\\boxed{f(x)= tanh(x) = \\frac{e^x -  e^{-x}}{e^x + e^{-x}}}.$$\n",
    "\n",
    "   - It is non-linear as the sigmoid function and the output is bound between -1 and 1. Deciding between a sigmoid and a tanh depends upon on the problem at hand.\n",
    "   - Similarly to the sigmoid, it can also suffer from the vanishing gradient problem.\n",
    "\n",
    "![tanh](images/tanh.png)\n",
    "\n",
    "*Figure 7:* Representation of the hyperbolic tangent _tanh_ function. Figure by Sakshi Misra.\n",
    " \n",
    "\n",
    "3) **Leaky Rectified Linear Unit**: it takes the form: $$\\boxed{f(x)= \\max\\{ α ∗ x,x\\}}.$$\n",
    "\n",
    "   - This is a variation of ReLU which has a small positive slope in the negative area.\n",
    "   - The range of Leaky ReLU is $(-\\infty, \\infty)$.\n",
    "   - It overcomes the zero gradient issue from ReLU and assigns $\\alpha$ which is a small value for $x≤0$.\n",
    "\n",
    "![leaky](images/leaky.png)\n",
    "\n",
    "*Figure 8:* Representation of the \"Leaky ReLU\" function. Figure by Sakshi Misra.\n",
    "\n",
    "Which activation function do we choose?\n",
    "\n",
    "It mainly depends on the type of problem you are trying to solve and the computation cost. There are many activation functions, but the general idea remains the same. Please refer to the article by H. N. Mhaskar, [How to Choose an Activation Function](https://papers.nips.cc/paper/1993/file/51ef186e18dc00c2d31982567235c559-Paper.pdf) for more details.\n",
    "\n",
    "Now we define in python the activation functions discussed above and plot them.\n",
    "\n",
    "\n",
    "    \n",
    "```python\n",
    "# Define activation functions that can be used in forward propagation\n",
    "def sigmoid(input_array):\n",
    "    \"\"\"\n",
    "    Computes the sigmoid of the input element-wise.\n",
    "\n",
    "    Parameters\n",
    "    ----------\n",
    "    input_array : array\n",
    "             Input values.\n",
    "\n",
    "    Returns\n",
    "    -------\n",
    "    activation_function : array\n",
    "             Post activation output.\n",
    "    input_array : array\n",
    "             Input values.\n",
    "    \"\"\"\n",
    "    activation_function = 1 / (1 + np.exp(-input_array))\n",
    "\n",
    "    return activation_function, input_array\n",
    "\n",
    "\n",
    "def tanh(x):\n",
    "    \"\"\"\n",
    "    Computes the hyperbolic tagent of the input element-wise.\n",
    "\n",
    "    Parameters\n",
    "    ----------\n",
    "    input_array : array\n",
    "             Input values.\n",
    "\n",
    "    Returns\n",
    "    -------\n",
    "    activation_function : array\n",
    "             Post activation output.\n",
    "    input_array : array\n",
    "             Input values.\n",
    "    \"\"\"\n",
    "    activation_function = np.tanh(input_array)\n",
    "\n",
    "    return activation_function, input_array\n",
    "\n",
    "\n",
    "def relu(input_array):\n",
    "    \"\"\"\n",
    "    Computes the Rectified Linear Unit (ReLU) element-wise.\n",
    "\n",
    "    Parameters\n",
    "    ----------\n",
    "    input_array : array\n",
    "             Input values.\n",
    "    Returns\n",
    "    -------\n",
    "    activation_function : array\n",
    "             Post activation output.\n",
    "    input_array : array\n",
    "             Input values.\n",
    "    \"\"\"\n",
    "    activation_function = np.maximum(0, input_array)\n",
    "\n",
    "    return activation_function, input_array\n",
    "\n",
    "\n",
    "def leaky_relu(input_array):\n",
    "    \"\"\"\n",
    "    Computes Leaky Rectified Linear Unit element-wise.\n",
    "\n",
    "    Parameters\n",
    "    ----------\n",
    "    input_array : array\n",
    "             Input values.\n",
    "\n",
    "    Returns\n",
    "    -------\n",
    "    activation_function : array\n",
    "             Post activation output.\n",
    "    input_array : array\n",
    "             Input values.\n",
    "    \"\"\"\n",
    "    activation_function = np.maximum(0.1 * input_array, input_array)\n",
    "\n",
    "    return activation_function, input_array\n",
    "\n",
    "```\n",
    "\n",
    "\n",
    "\n",
    "We can also plot all the activation functions using the `matplotlib` library as shown below.\n",
    "\n",
    "\n",
    "\n",
    "```python\n",
    "# Plot the four activation functions\n",
    "input_array = np.linspace(-10, 10, 100)\n",
    "\n",
    "# Computes post-activation outputs\n",
    "activation_sigmoid, input_array = sigmoid(input_array)\n",
    "activation_tanh, input_array = tanh(input_array)\n",
    "activation_relu, input_array = relu(input_array)\n",
    "activation_leaky_relu, input_array = leaky_relu(input_array)\n",
    "\n",
    "# Plot sigmoid function\n",
    "plt.figure(figsize=(12, 8))\n",
    "plt.subplot(2, 2, 1)\n",
    "plt.plot(input_array, activation_sigmoid, 'b')\n",
    "plt.axvline(x=0, color='gray', linestyle='--')\n",
    "plt.axhline(y=0, color='gray', linestyle='--')\n",
    "plt.xlabel(\"input(x)\")\n",
    "plt.ylabel(r\"$\\frac{1}{1 + e^{-x}}$\")\n",
    "plt.title(\"Sigmoid Function\", fontsize=16)\n",
    "\n",
    "# Plot tanh function\n",
    "plt.subplot(2, 2, 2)\n",
    "plt.plot(input_array, activation_tanh, 'b')\n",
    "plt.axvline(x=0, color='gray', linestyle='--')\n",
    "plt.axhline(y=0, color='gray', linestyle='--')\n",
    "plt.xlabel(\"input(x)\")\n",
    "plt.ylabel(r\"$\\frac{e^x - e^{-x}}{e^x + e^{-x}}$\")\n",
    "plt.title(\"Hyperbolic Tangent Function\", fontsize=16)\n",
    "\n",
    "# plot relu function\n",
    "plt.subplot(2, 2, 3)\n",
    "plt.plot(input_array, activation_relu, 'b')\n",
    "plt.axvline(x=0, color='gray', linestyle='--')\n",
    "plt.axhline(y=0, color='gray', linestyle='--')\n",
    "plt.xlabel(\"input(x)\")\n",
    "plt.ylabel(r\"$max\\{0, x\\}$\")\n",
    "plt.title(\"ReLU Function\", fontsize=16)\n",
    "\n",
    "# plot leaky relu function\n",
    "plt.subplot(2, 2, 4)\n",
    "plt.plot(input_array, activation_leaky_relu, 'b')\n",
    "plt.axvline(x=0, color='gray', linestyle='--')\n",
    "plt.axhline(y=0, color='gray', linestyle='--')\n",
    "plt.xlabel(\"input(x)\")\n",
    "plt.ylabel(r\"$max\\{0.1x, x\\}$\")\n",
    "plt.title(\"Leaky ReLU Function\", fontsize=16)\n",
    "plt.tight_layout()\n",
    "```\n",
    "\n",
    "<br /> \n",
    "\n",
    "**Forward Propagation**\n",
    "\n",
    "\n",
    "\n",
    "Now, we will define forward propagation functions using classes, to better understand the forward propagation concept.\n",
    "\n",
    "First, we define a class named `Layer_Dense`. It has two properties, ``weights`` and ``biases``. We randomly assign their values and define a function named `forward_pass` which calculates the *dot product* of the input values and weights and adds them to the bias values. \n",
    "Since we know that the activation function is applied on every neuron, we create another class named `Activation_Function` using `ReLU` as an example. \n",
    "\n",
    "After defining classes and their attributes, we create an object from both classes and call the functions on our dataset. We can then print the output values which are the predicted pIC50 values.\n",
    "\n",
    "**Note:** The predicted values will differ in every run because the weights are randomly assigned.\n",
    "\n",
    "\n",
    "\n",
    "```python\n",
    "# create forward pass function with one hidden layer\n",
    "class Layer_Dense:\n",
    "    \"\"\"\n",
    "    A class to represent a neural network\n",
    "    \n",
    "    '''\n",
    "    Attributes\n",
    "    ----------\n",
    "    n_inputs : int\n",
    "        Number of neurons in input layer\n",
    "    n_neurons : int\n",
    "        Number of neurons in hidden layer\n",
    "\n",
    "    Method\n",
    "    ------\n",
    "    forward_pass(inputs):\n",
    "        Computes the forward pass of a neural network.\n",
    "    \"\"\"\n",
    "\n",
    "    def __init__(self, n_inputs, n_neurons):\n",
    "        \"\"\"\n",
    "        Constructs all the necessary attributes.\n",
    "\n",
    "        Parameters\n",
    "        ----------\n",
    "        n_inputs : int\n",
    "            Number of neurons in input layer\n",
    "        n_neurons : int\n",
    "            Number of neurons in hidden layer\n",
    "\n",
    "        \"\"\"\n",
    "        self.weights = 0.10 * np.random.randn(n_inputs, n_neurons)\n",
    "        self.biases = np.zeros((1, n_neurons))\n",
    "        \n",
    "    def forward_pass(self, inputs):\n",
    "        \"\"\"\n",
    "        Compute forward pass.\n",
    "\n",
    "        Parameters\n",
    "        ----------\n",
    "        input : int\n",
    "            Input neurons.\n",
    "\n",
    "        Returns\n",
    "        -------\n",
    "        None\n",
    "        \n",
    "        \"\"\"\n",
    "        self.output = np.dot(inputs, self.weights) + self.biases\n",
    "\n",
    "\n",
    "class Activation_Function:\n",
    "    \"\"\"\n",
    "    A class to represent an activation function\n",
    "\n",
    "    Method\n",
    "    ------\n",
    "    ReLU(inputs):\n",
    "        Apply the ReLU activation function.\n",
    "    \"\"\"\n",
    "    def ReLU(self, inputs):\n",
    "        \"\"\"\n",
    "        Apply the activation function to the neurons.\n",
    "\n",
    "        Parameters\n",
    "        ----------\n",
    "        input : int\n",
    "            Input neurons.\n",
    "\n",
    "        Returns\n",
    "        -------\n",
    "        None\n",
    "        \n",
    "        \"\"\"\n",
    "        self.output = np.maximum(0, inputs)\n",
    "\n",
    "     \n",
    "# object\n",
    "layer1 = Layer_Dense(167, 50)\n",
    "layer2 = Layer_Dense(50, 1)\n",
    "activation1 = Activation_Function()\n",
    "activation2 = Activation_Function()\n",
    "\n",
    "# function calling\n",
    "layer1.forward_pass(np.array(list((chembl_df['fingerprints_df']))))\n",
    "layer2.forward_pass(layer1.output)\n",
    "activation1.ReLU(layer1.output)\n",
    "activation2.ReLU(layer2.output)\n",
    "\n",
    "print(activation2.output)\n",
    "```\n",
    "\n",
    "\n",
    "</details>"
   ]
  }
 ],
 "metadata": {
  "kernelspec": {
   "display_name": "Python 3 (ipykernel)",
   "language": "python",
   "name": "python3"
  },
  "language_info": {
   "codemirror_mode": {
    "name": "ipython",
    "version": 3
   },
   "file_extension": ".py",
   "mimetype": "text/x-python",
   "name": "python",
   "nbconvert_exporter": "python",
   "pygments_lexer": "ipython3",
   "version": "3.9.16"
  },
  "toc-autonumbering": true,
  "widgets": {
   "application/vnd.jupyter.widget-state+json": {
    "state": {},
    "version_major": 2,
    "version_minor": 0
   }
  }
 },
 "nbformat": 4,
 "nbformat_minor": 4
}
