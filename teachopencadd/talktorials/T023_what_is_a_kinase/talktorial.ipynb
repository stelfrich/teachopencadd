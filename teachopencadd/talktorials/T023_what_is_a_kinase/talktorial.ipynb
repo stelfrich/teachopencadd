{
 "cells": [
  {
   "cell_type": "markdown",
   "metadata": {},
   "source": [
    "# T023 · What is a kinase?\n",
    "\n",
    "**Note:** This talktorial is a part of TeachOpenCADD, a platform that aims to teach domain-specific skills and to provide pipeline templates as starting points for research projects.\n",
    "\n",
    "Authors:\n",
    "\n",
    "- Dominique Sydow, 2021, [Volkamer lab, Charité](https://volkamerlab.org/)\n",
    "- Talia B. Kimber, 2021, [Volkamer lab, Charité](https://volkamerlab.org/)\n",
    "- Andrea Volkamer, 2021, [Volkamer lab, Charité](https://volkamerlab.org/)"
   ]
  },
  {
   "cell_type": "markdown",
   "metadata": {},
   "source": [
    "## Aim of this talktorial\n",
    "\n",
    "In this talktorial, we will talk about kinases: why are they important in life and drug design, what do they look like, and what data resources are available?\n",
    "Finally, we select a set of kinases which will be analyzed in the forthcoming talktorials **T024**-**T028** with respect to their similarity, the goal being to gain insight into potential off-target effects."
   ]
  },
  {
   "cell_type": "markdown",
   "metadata": {},
   "source": [
    "### Contents in *Theory*\n",
    "\n",
    "- Kinases in a nutshell\n",
    "    - The human kinome\n",
    "    - Kinase structures and important motifs\n",
    "- Kinase resources\n",
    "    - Kinase structures and related information\n",
    "    - Bioactivity data\n",
    "- Kinase similarity: Off-targets and promiscuous binding\n",
    "- Kinase dataset compilation"
   ]
  },
  {
   "cell_type": "markdown",
   "metadata": {},
   "source": [
    "### Contents in *Practical*\n",
    "\n",
    "- Define the kinases of interest"
   ]
  },
  {
   "cell_type": "markdown",
   "metadata": {},
   "source": [
    "### References\n",
    "\n",
    "- Kinases as drug targets: [<i>Nat. Rev. Drug Discov.</i> (2021), <b>20(7)</b>, 551-569](https://doi.org/10.1038/s41573-021-00195-4)\n",
    "- Sequence-based kinase clustering: Manning et al. [<i>Science</i> (2002), <b>298(5600)</b>, 1912-1934](https://doi.org/10.1126/science.1075762)\n",
    "- KinMap: \n",
    "  - Paper: [<i>BMC Bioinformatics</i> (2017), <b>18</b>, 16](https://dx.doi.org/10.1186%2Fs12859-016-1433-7)\n",
    "  - Website: http://www.kinhub.org/kinmap/\n",
    "- KLIFS\n",
    "  - KLIFS URL: https://klifs.net/\n",
    "  - KLIFS database: [<i>Nucleic Acid Res.</i> (2020), <b>49(D1)</b>, D562-D569](https://doi.org/10.1093/nar/gkaa895)\n",
    "  - KLIFS binding site definition: [<i>J. Med. Chem.</i> (2014), <b>57(2)</b>, 249-277](https://doi.org/10.1021/jm400378w)\n",
    "- Bioactivity data\n",
    "  - Karaman et al. dataset: [<i>Nature Biotechnology</i> (2008), <b>26</b>, 127-132](https://doi.org/10.1038/nbt1358)\n",
    "  - Davis et al. dataset: [<i>Nature Biotechnology</i> (2011), <b>29</b>, 1046-1051](https://doi.org/10.1038/nbt.1990)\n",
    "  - KIBA dataset: [<i>J. Chem. Inf. Model.</i> (2014), <b>54(3)</b>, 753-743](https://doi.org/10.1021/ci400709d)\n",
    "  - PKIS dataset: [<i>PLOS ONE</i> (2017), <b>12</b>, 1-20](https://doi.org/10.1371/journal.pone.0181585)\n",
    "- Kinase selection: [<i>Molecules</i> (2021), <b>26(3)</b>, 629](https://www.mdpi.com/1420-3049/26/3/629)"
   ]
  },
  {
   "cell_type": "markdown",
   "metadata": {},
   "source": [
    "## Theory"
   ]
  },
  {
   "cell_type": "markdown",
   "metadata": {},
   "source": [
    "### Kinases in a nutshell"
   ]
  },
  {
   "cell_type": "markdown",
   "metadata": {},
   "source": [
    "Kinases are established drug targets to combat cancer and inflammatory diseases ([<i>Nat. Rev. Drug Discov.</i> (2021), <b>20(7)</b>, 551-569](https://doi.org/10.1038/s41573-021-00195-4)). They are involved in most aspects of cell life by phosphorylating, and thereby activating, either themselves or other proteins. They are among the most frequently mutated proteins in tumors.\n",
    "\n",
    "As of September 2021, $5782$ X-ray structures of human kinases have been resolved (see the [KLIFS](https://klifs.net/) database) and $67$ FDA-approved small molecule protein kinase inhibitors are on the market (see [the list](https://brimr.org/protein-kinase-inhibitors/) compiled by the Blue Ridge Institute for Medical Research). Most of the approved drugs bind in the ATP-binding pocket and intermediate surroundings.\n",
    "\n",
    "Despite of decades of kinase research, there are still many open challenges:\n",
    "\n",
    "- A large fraction of the kinome is un-/underexplored.\n",
    "- Many kinase inhibitors are promiscuous binders causing off-target effects or enabling polypharmacology.\n",
    "- There are occurrences of drug resistance due to mutations."
   ]
  },
  {
   "cell_type": "markdown",
   "metadata": {},
   "source": [
    "#### The human kinome \n",
    "\n",
    "The human kinome consists of over $500$ protein kinases, but this number may vary depending on the data resource (see [overview on Kinodata](https://github.com/openkinome/kinodata/blob/master/human-kinases/human_kinases.ipynb)).\n",
    "\n",
    "As reported in [<i>Science</i> (2002), <b>298(5600)</b>, 1912-1934](https://doi.org/10.1126/science.1075762), Manning _et al._ clustered the human protein kinases based on their sequence similarity into eight major groups (AGC, CAMK, CK1, CMGC, RGC, STE, TK, TKL) and one \"Other\" group for unassigned kinases, as well as atypical kinases. The kinase clustering is visualized as the Manning kinome tree. The kinase resource [KinMap](http://www.kinhub.org/kinmap/) enables mapping of kinase data onto that tree, e.g. the number of X-ray structures per kinase as shown in Figure 1.\n",
    "\n",
    "![Manning tree with number of structures per kinase (KinMap)](images/kinmap_n_structures_per_kinase.png)\n",
    "\n",
    "*Figure 1:* \n",
    "Number of PDB structures per kinase mapped onto the Manning kinome tree using [KinMap](http://www.kinhub.org/kinmap/). Check the appendix on how to generate this KinMap tree.\n",
    "<!---\n",
    "We are using KLIFS kinase names; some are not recognized by KinMap and were simply dropped!\n",
    "--->"
   ]
  },
  {
   "cell_type": "markdown",
   "metadata": {
    "tags": []
   },
   "source": [
    "#### Kinase structures and important motifs\n",
    "\n",
    "Kinase sequences and structures are highly conserved. Important regions in the kinase pocket include (see Figure 2):\n",
    "\n",
    "- Hinge region: Forms key hydrogen bonds to ligands.\n",
    "- DFG motif: Flips between phenylalanine (F) and aspartate (D), driving the active and inactive state.\n",
    "- αC-helix: Forms in the αC-in conformation a salt bridge between highly conserved lysine (K) and glutamine (Q).\n",
    "- Glycine-rich (G-rich) loop: Stabilizes ATP binding.\n",
    "\n",
    "![Kinase structure with key motifs](images/T023_kinase_structure.png)\n",
    "\n",
    "*Figure 2:* \n",
    "Kinase structure with important key motifs: Hinge region, DFG motif, αC-helix, and G-rich loop. The example structure shown here represents CDK2, PDB ID: [1FIN](https://www.rcsb.org/structure/1fin). Check the appendix on how to generate this visualization with `opencadd`."
   ]
  },
  {
   "cell_type": "markdown",
   "metadata": {},
   "source": [
    "### Kinase resources\n",
    "\n",
    "The focus on this protein family has led to a plethora of freely available data on compounds, bioactivity, and structures that are being used for computational drug development ([<i>Annual Reports in Medicinal Chemistry</i> 50 (2017): 197-236](https://doi.org/10.1016/bs.armc.2017.08.001))."
   ]
  },
  {
   "cell_type": "markdown",
   "metadata": {},
   "source": [
    "#### Kinase structures and related information: KLIFS"
   ]
  },
  {
   "cell_type": "markdown",
   "metadata": {},
   "source": [
    "The KLIFS database ([<i>Nucleic Acid Res.</i> (2020), <b>49(D1)</b>, D562-D569](https://doi.org/10.1093/nar/gkaa895), [<i>J. Med. Chem.</i> (2014), <b>57(2)</b>, 249-277](https://doi.org/10.1021/jm400378w)) fetches all kinase structures deposited in the structural database PDB ([<i>Acta Cryst.</i> (2002), <b>D58</b>, 899-907](https://doi.org/10.1107/S0907444902003451), [<i>Structure</i> (2012), <b>20(3)</b>, 391-396](https://doi.org/10.1016/j.str.2012.01.010)) and processes them as follows: All multi-chain structures in the PDB are split into monomers and aligned to each other with a special focus on a pre-defined binding site of $85$ residues (Figure 3). For example, this means that the conserved gatekeeper (GK) residue at KLIFS position $45$ can be easily queried for any of the over $10,000$ monomeric kinase structures in KLIFS. \n",
    "\n",
    "![KLIFS binding site](https://klifs.net/images/faq/colors.png)\n",
    "\n",
    "*Figure 3:* \n",
    "Kinase binding site residues as defined by KLIFS.\n",
    "Figure and description taken from: [<i>J. Med. Chem.</i> (2014), <b>57(2)</b>, 249-277](https://doi.org/10.1021/jm400378w)."
   ]
  },
  {
   "cell_type": "markdown",
   "metadata": {},
   "source": [
    "Each structure, kinase, and ligand in KLIFS is associated with an identifier (we will use those at times in the downstream talktorials):\n",
    "\n",
    "- Structure KLIFS ID\n",
    "- Kinase KLIFS ID\n",
    "- Ligand KLIFS ID"
   ]
  },
  {
   "cell_type": "markdown",
   "metadata": {},
   "source": [
    "KLIFS contains not only kinase structures and their pocket definitions (used in __Talktorials T024 and T025__) but also a lot of structure-, kinase-, and/or ligand-associated data:\n",
    "\n",
    "- Interaction fingerprints (used in __Talktorial T026__)\n",
    "- Structure conformations\n",
    "- Bioactivity data from ChEMBL\n",
    "- Approved drugs\n",
    "- Subpocket coverage by co-crystallized ligands"
   ]
  },
  {
   "cell_type": "markdown",
   "metadata": {},
   "source": [
    "#### Bioactivity data\n",
    "\n",
    "[ChEMBL](https://www.ebi.ac.uk/chembl/) is a well-known bioactivity database, which releases updated versions every now and then.\n",
    "In September 2021, there are over two million compounds and $14,000$ targets that are stored. In ChEMBL29, there are over $160,000$ measurements on kinases (see Figure 4).\n",
    "\n",
    "- `kinodata` GitHub repository: https://github.com/openkinome/kinodata\n",
    "- `kinodata` ChEMBL29 release: https://github.com/openkinome/kinodata/releases/tag/v0.3 (`activities-chembl29_v0.3.zip`)\n",
    "\n",
    "As with other data types, the coverage of bioactivity data is highly unbalanced among the human kinases, depending on how much research is spent on certain kinases.\n",
    "\n",
    "![Manning tree with number of ChEMBL activities per kinase (KinMap)](images/kinmap_n_activities_per_kinase.png)\n",
    "\n",
    "*Figure 4:* \n",
    "Number of ChEMBL29 bioactivities per kinase mapped onto the Manning kinome tree using KinMap. Check the appendix on how to generate this KinMap tree.\n",
    "<!---\n",
    "We are using KLIFS kinase names; some are not recognized by KinMap and were simply dropped!\n",
    "--->"
   ]
  },
  {
   "cell_type": "markdown",
   "metadata": {},
   "source": [
    "However, ChEMBL is not the only available bioactivity database. Below is an non-exhaustive list of available kinase profiling data sets.\n",
    "\n",
    "\n",
    "- Karaman _et al._ dataset\n",
    "  - Paper: [<i>Nature Biotechnology</i> (2008), <b>26</b>, 127-132](https://doi.org/10.1038/nbt1358)\n",
    "  - Data: [KinMap data (JSON)](http://kinhub.org/js/Davis_profiling.js)\n",
    "- Davis _et al._ dataset\n",
    "  - Paper: [<i>Nature Biotechnology</i> (2011), <b>29</b>, 1046-1051](https://doi.org/10.1038/nbt.1990)\n",
    "  - Data: [KinMap data (JSON)](http://kinhub.org/js/Karaman_profiling.js)\n",
    "- KIBA dataset\n",
    "  - Paper: [<i>J. Chem. Inf. Model.</i> (2014), <b>54(3)</b>, 753-743](https://doi.org/10.1021/ci400709d)\n",
    "  - Data: [SI data (XLSX)](https://ndownloader.figstatic.com/files/3950161)\n",
    "- PKIS dataset\n",
    "  - Paper: [<i>PLOS ONE</i> (2017), <b>12</b>, 1-20](https://doi.org/10.1371/journal.pone.0181585)\n",
    "  - Data: [SI data (XLSX)](https://doi.org/10.1371/journal.pone.0181585.s004)"
   ]
  },
  {
   "cell_type": "markdown",
   "metadata": {},
   "source": [
    "### Kinase similarity: Off-targets and promiscuous binding\n",
    "\n",
    "As described before, kinases are highly conserved, especially in their binding site. This high similarity is a challenge in drug design because ligands may form similar binding modes not only with their designated target (on-target) but also with other targets (off-targets). Such promiscuous binding can cause mild to severe side effects.\n",
    "\n",
    "Predicting these side effects is non-trivial since some off-targets are not obvious. For example, the EGFR inhibitor Erlotinib shows affinities to other kinases in the highly sequentially-similar TK kinase group. However, it also strongly affects the off-targets GAK, LOK, and SLK, which are in more remote kinase groups (Figure 5). \n",
    "\n",
    "![Erlotinib profiling data from Karaman dataset (KinMap)](images/kinmap_erlotinib_karaman.png)\n",
    "\n",
    "*Figure 5:* \n",
    "Profiling data for EGFR inhibitor Erlobinib from the Karaman _et al._ dataset ([<i>Nature Biotechnology</i> (2008), <b>26</b>, 127-132](https://doi.org/10.1038/nbt1358)) mapped onto the Manning kinome tree using [KinMap](http://www.kinhub.org/kinmap/). Check the appendix of this notebook on how to generate this figure."
   ]
  },
  {
   "cell_type": "markdown",
   "metadata": {},
   "source": [
    "In the following four talktorials, namely __Talktorials T024-027__, we will assess kinase similarity from different perspectives, which we compare with each other in __Talktorial T028__:\n",
    "\n",
    "- __Talktorial T024__: Kinase similarity based on KLIFS pocket sequence\n",
    "- __Talktorial T025__: Kinase similarity based on KiSSim pocket structure\n",
    "- __Talktorial T026__: Kinase similarity based on KLIFS interaction fingerprint\n",
    "- __Talktorial T027__: Kinase similarity based on ligand promiscuity (ChEMBL bioactivity data)\n",
    "- __Talktorial T028__: Compare kinase similarity measures from __Talktorials T024-T027__"
   ]
  },
  {
   "cell_type": "markdown",
   "metadata": {},
   "source": [
    "### Kinase dataset compilation"
   ]
  },
  {
   "cell_type": "markdown",
   "metadata": {},
   "source": [
    "In the course of the kinase similarity talktorials (__Talktorials T024-T028__), we will use nine kinases from a study published in [<i>Molecules</i> (2021), <b>26(3)</b>, 629](https://www.mdpi.com/1420-3049/26/3/629), which were selected for the following reasons:\n",
    "\n",
    "> - Profile 1 combined __EGFR__ and __ErbB2__ as targets and __BRAF__ as a (general) anti-target. \n",
    "> - Out of similar considerations, Profile 2 consisted of EGFR and __PI3K__ as targets and BRAF as anti-target. This profile is expected to be more challenging as PI3K is an atypical kinase and thus less similar to EGFR than for example ErbB2 used in Profile 1. \n",
    "> - Profile 3, comprised of EGFR and __VEGFR2__ as targets and BRAF as anti-target, was contrasted with the hit rate that we found with a standard docking against the single target VEGFR2 (Profile 4).\n",
    "> - To broaden the comparison and obtain an estimate for the promiscuity of each compound, the kinases __CDK2__, __LCK__, __MET__ and __p38α__ were included in the experimental assay panel and the structure-based bioinformatics comparison as commonly used anti-targets."
   ]
  },
  {
   "cell_type": "markdown",
   "metadata": {},
   "source": [
    "## Practical"
   ]
  },
  {
   "cell_type": "code",
   "execution_count": 1,
   "metadata": {
    "ExecuteTime": {
     "end_time": "2024-01-18T09:03:53.597030Z",
     "start_time": "2024-01-18T09:03:45.929393400Z"
    }
   },
   "outputs": [
    {
     "data": {
      "text/plain": "",
      "application/vnd.jupyter.widget-view+json": {
       "version_major": 2,
       "version_minor": 0,
       "model_id": "1a0fa14020b14bb5a79493ea83b59f3f"
      }
     },
     "metadata": {},
     "output_type": "display_data"
    }
   ],
   "source": [
    "from pathlib import Path\n",
    "\n",
    "import pandas as pd\n",
    "from opencadd.databases.klifs import setup_remote\n",
    "from opencadd.structure.pocket import PocketKlifs, PocketViewer"
   ]
  },
  {
   "cell_type": "code",
   "execution_count": 2,
   "metadata": {
    "ExecuteTime": {
     "end_time": "2024-01-18T09:03:53.627552600Z",
     "start_time": "2024-01-18T09:03:53.580498900Z"
    }
   },
   "outputs": [],
   "source": [
    "HERE = Path(_dh[-1])\n",
    "DATA = HERE / \"data\""
   ]
  },
  {
   "cell_type": "markdown",
   "metadata": {},
   "source": [
    "### Define the kinases of interest"
   ]
  },
  {
   "cell_type": "markdown",
   "metadata": {},
   "source": [
    "We have collected information about these nine kinases in the CSV file `T023_what_is_a_kinase/data/kinase_selection.csv`:\n",
    "\n",
    "- `kinase`: Kinase name as used in [<i>Molecules</i> (2021), <b>26(3)</b>, 629](https://www.mdpi.com/1420-3049/26/3/629)\n",
    "- `kinase_klifs`: Kinase name as used in the KLIFS database\n",
    "- `uniprot_id`: Kinase UniProt ID\n",
    "- `group`: Kinase group as defined by Manning _et al._ [<i>Science</i> (2002), <b>298(5600)</b>, 1912-1934](https://doi.org/10.1126/science.1075762)\n",
    "- `full_kinase_name`: Full kinase name as used in [<i>Molecules</i> (2021), <b>26(3)</b>, 629](https://www.mdpi.com/1420-3049/26/3/629)"
   ]
  },
  {
   "cell_type": "code",
   "execution_count": 3,
   "metadata": {
    "ExecuteTime": {
     "end_time": "2024-01-18T09:03:53.685343900Z",
     "start_time": "2024-01-18T09:03:53.595925900Z"
    }
   },
   "outputs": [
    {
     "data": {
      "text/plain": "   kinase kinase_klifs uniprot_id     group  \\\n0    EGFR         EGFR     P00533        TK   \n1   ErbB2        ErbB2     P04626        TK   \n2    PI3K        p110a     P42336  Atypical   \n3  VEGFR2          KDR     P35968        TK   \n4    BRAF         BRAF     P15056       TKL   \n5    CDK2         CDK2     P24941      CMGC   \n6     LCK          LCK     P06239        TK   \n7     MET          MET     P08581        TK   \n8    p38a         p38a     Q16539      CMGC   \n\n                                   full_kinase_name  \n0                  Epidermal growth factor receptor  \n1  Erythroblastic leukemia viral oncogene homolog 2  \n2                     Phosphatidylinositol-3-kinase  \n3     Vascular endothelial growth factor receptor 2  \n4        Rapidly accelerated fibrosarcoma isoform B  \n5                         Cyclic-dependent kinase 2  \n6       Lymphocyte-specific protein tyrosine kinase  \n7          Mesenchymal-epithelial transition factor  \n8        p38 mitogen activated protein kinase alpha  ",
      "text/html": "<div>\n<style scoped>\n    .dataframe tbody tr th:only-of-type {\n        vertical-align: middle;\n    }\n\n    .dataframe tbody tr th {\n        vertical-align: top;\n    }\n\n    .dataframe thead th {\n        text-align: right;\n    }\n</style>\n<table border=\"1\" class=\"dataframe\">\n  <thead>\n    <tr style=\"text-align: right;\">\n      <th></th>\n      <th>kinase</th>\n      <th>kinase_klifs</th>\n      <th>uniprot_id</th>\n      <th>group</th>\n      <th>full_kinase_name</th>\n    </tr>\n  </thead>\n  <tbody>\n    <tr>\n      <th>0</th>\n      <td>EGFR</td>\n      <td>EGFR</td>\n      <td>P00533</td>\n      <td>TK</td>\n      <td>Epidermal growth factor receptor</td>\n    </tr>\n    <tr>\n      <th>1</th>\n      <td>ErbB2</td>\n      <td>ErbB2</td>\n      <td>P04626</td>\n      <td>TK</td>\n      <td>Erythroblastic leukemia viral oncogene homolog 2</td>\n    </tr>\n    <tr>\n      <th>2</th>\n      <td>PI3K</td>\n      <td>p110a</td>\n      <td>P42336</td>\n      <td>Atypical</td>\n      <td>Phosphatidylinositol-3-kinase</td>\n    </tr>\n    <tr>\n      <th>3</th>\n      <td>VEGFR2</td>\n      <td>KDR</td>\n      <td>P35968</td>\n      <td>TK</td>\n      <td>Vascular endothelial growth factor receptor 2</td>\n    </tr>\n    <tr>\n      <th>4</th>\n      <td>BRAF</td>\n      <td>BRAF</td>\n      <td>P15056</td>\n      <td>TKL</td>\n      <td>Rapidly accelerated fibrosarcoma isoform B</td>\n    </tr>\n    <tr>\n      <th>5</th>\n      <td>CDK2</td>\n      <td>CDK2</td>\n      <td>P24941</td>\n      <td>CMGC</td>\n      <td>Cyclic-dependent kinase 2</td>\n    </tr>\n    <tr>\n      <th>6</th>\n      <td>LCK</td>\n      <td>LCK</td>\n      <td>P06239</td>\n      <td>TK</td>\n      <td>Lymphocyte-specific protein tyrosine kinase</td>\n    </tr>\n    <tr>\n      <th>7</th>\n      <td>MET</td>\n      <td>MET</td>\n      <td>P08581</td>\n      <td>TK</td>\n      <td>Mesenchymal-epithelial transition factor</td>\n    </tr>\n    <tr>\n      <th>8</th>\n      <td>p38a</td>\n      <td>p38a</td>\n      <td>Q16539</td>\n      <td>CMGC</td>\n      <td>p38 mitogen activated protein kinase alpha</td>\n    </tr>\n  </tbody>\n</table>\n</div>"
     },
     "execution_count": 3,
     "metadata": {},
     "output_type": "execute_result"
    }
   ],
   "source": [
    "kinase_selection_df = pd.read_csv(DATA / \"kinase_selection.csv\")\n",
    "kinase_selection_df\n",
    "# NBVAL_CHECK_OUTPUT"
   ]
  },
  {
   "cell_type": "markdown",
   "metadata": {},
   "source": [
    "We will load this dataset in all downstream talktorials to assess kinase similarity from different perspectives."
   ]
  },
  {
   "cell_type": "markdown",
   "metadata": {},
   "source": [
    "_Note_: You can run the kinase similarity __Talktorials T024-T028__ with your own set of kinases. To do so, please update the following files:\n",
    "\n",
    "- Update the `T023_what_is_a_kinase/data/kinase_selection.csv` file with your kinases; the only mandatory columns are `kinase_klifs` and `uniprot_id`.\n",
    "- Update the `T023_what_is_a_kinase/data/pipeline_configs.csv` file with your configurations:\n",
    "  - Set \"DEMO\" to 0.\n",
    "  - Choose the number of structures per kinases to be used in T025 (KiSSim) and T026 (IFP). If \"N_STRUCTURES_PER_KINASE\" is set to -1, all structures are used; if set to a number (X), the best X structures are being used for the encoding and comparison (w.r.t. resolution and KLIFS quality score). The latter makes sense for a test run of your data (running the T025 on all structures is time-consuming).\n",
    "  - If you run the notebooks on all structures (see \"N_STRUCTURES_PER_KINASE\"), we recommend to increase the number of cores to be used in T025 (KiSSim) by redefining \"N_CORES\".\n",
    "  \n",
    "Let's take a look at the currently set configurations:"
   ]
  },
  {
   "cell_type": "code",
   "execution_count": 4,
   "metadata": {
    "ExecuteTime": {
     "end_time": "2024-01-18T09:03:53.729084400Z",
     "start_time": "2024-01-18T09:03:53.654051400Z"
    }
   },
   "outputs": [
    {
     "data": {
      "text/plain": "                  variable  default_value  \\\n0                     DEMO              1   \n1  N_STRUCTURES_PER_KINASE             -1   \n2                  N_CORES              1   \n\n                                                                                                                                 description  \n0  Run the notebooks exactly as displayed online (default: 1) or set to 0 and run your own kinase set (as defined in `kinase_selection.csv`)  \n1                Run structure-based notebooks on all structures per kinase (default: -1) or a subset of structures (replace -1 with e.g. 3)  \n2                                                                                                 Run T025 on one (default: 1) or more cores  ",
      "text/html": "<div>\n<style scoped>\n    .dataframe tbody tr th:only-of-type {\n        vertical-align: middle;\n    }\n\n    .dataframe tbody tr th {\n        vertical-align: top;\n    }\n\n    .dataframe thead th {\n        text-align: right;\n    }\n</style>\n<table border=\"1\" class=\"dataframe\">\n  <thead>\n    <tr style=\"text-align: right;\">\n      <th></th>\n      <th>variable</th>\n      <th>default_value</th>\n      <th>description</th>\n    </tr>\n  </thead>\n  <tbody>\n    <tr>\n      <th>0</th>\n      <td>DEMO</td>\n      <td>1</td>\n      <td>Run the notebooks exactly as displayed online (default: 1) or set to 0 and run your own kinase set (as defined in `kinase_selection.csv`)</td>\n    </tr>\n    <tr>\n      <th>1</th>\n      <td>N_STRUCTURES_PER_KINASE</td>\n      <td>-1</td>\n      <td>Run structure-based notebooks on all structures per kinase (default: -1) or a subset of structures (replace -1 with e.g. 3)</td>\n    </tr>\n    <tr>\n      <th>2</th>\n      <td>N_CORES</td>\n      <td>1</td>\n      <td>Run T025 on one (default: 1) or more cores</td>\n    </tr>\n  </tbody>\n</table>\n</div>"
     },
     "execution_count": 4,
     "metadata": {},
     "output_type": "execute_result"
    }
   ],
   "source": [
    "pd.options.display.max_colwidth = None\n",
    "configs = pd.read_csv(DATA / \"pipeline_configs.csv\")\n",
    "configs"
   ]
  },
  {
   "cell_type": "markdown",
   "metadata": {},
   "source": [
    "## Appendix"
   ]
  },
  {
   "cell_type": "markdown",
   "metadata": {},
   "source": [
    "### KinMap data\n",
    "\n",
    "There are some KinMap trees shown in this notebook. The code below generates the KinMap CSV files to be uploaded to KinMap:\n",
    "http://www.kinhub.org/kinmap.\n",
    "\n",
    "_Note_:\n",
    "1. PNG downloads do not seem to work anymore, thus download as SVG and convert to PNG in your terminal (Linux) via `convert -density 25 my_kinmap_figure.svg my_kinmap_figure.png` (SVG cannot be included in Jupyter notebooks out-of-the-box).\n",
    "2. If SVG download doesn't render the figure properly, open your favorite text editor and copy paste this into the SVG file: `xmlns:xlink=\"http://www.w3.org/1999/xlink\"`, resulting in something similar to this in the first few lines:\n",
    "\n",
    "`<svg id=\"svgCopy\" viewBox=\"0 0 1591 1959\" preserveAspectRatio=\"xMinYMin meet\" xmlns=\"http://www.w3.org/2000/svg\" xmlns:xlink=\"http://www.w3.org/1999/xlink\" style=\"\"><desc>Created with Snap</desc><defs></defs><g`\n"
   ]
  },
  {
   "cell_type": "code",
   "execution_count": 5,
   "metadata": {
    "ExecuteTime": {
     "end_time": "2024-01-18T09:03:53.732878Z",
     "start_time": "2024-01-18T09:03:53.687498400Z"
    }
   },
   "outputs": [],
   "source": [
    "def format_for_kinmap(kinase_names, kinase_values, size_min=10, size_max=50):\n",
    "    \"\"\"\n",
    "    Given kinase names and some associated values, generates a KinMap data file\n",
    "    that will display values as circles of size [`size_min`, `size_max`].\n",
    "\n",
    "    Parameters\n",
    "    ----------\n",
    "    kinase_names : list of str\n",
    "        Kinase names.\n",
    "    kinase_values : list of float\n",
    "        Some associated values, such as the number of bioactivites.\n",
    "    size_min : int\n",
    "        Minimum circle size on KinMap tree (minimum input value will be scaled to `size_min`).\n",
    "    size_max : int\n",
    "        Maximum circle size on KinMap tree (maximum input value will be scaled to `size_min`).\n",
    "\n",
    "    Returns\n",
    "    -------\n",
    "    pandas.DataFrame\n",
    "        KinMap data with columns `xName` (kinase name), `size` (circle size for KinMap tree).\n",
    "    \"\"\"\n",
    "\n",
    "    data = pd.DataFrame({\"xName\": kinase_names, \"values\": kinase_values})\n",
    "    min_ = data[\"values\"].min()\n",
    "    max_ = data[\"values\"].max()\n",
    "    data[\"size\"] = data[\"values\"].apply(\n",
    "        lambda x: ((x - min_) / (max_ - min_) * size_max) + size_min\n",
    "    )\n",
    "    return data[[\"xName\", \"size\"]]"
   ]
  },
  {
   "cell_type": "markdown",
   "metadata": {},
   "source": [
    "#### Number of PDB structures per kinase\n",
    "\n",
    "Generate the number of structures per kinase in the KinMap format to be mapped onto the kinome tree."
   ]
  },
  {
   "cell_type": "code",
   "execution_count": 6,
   "metadata": {
    "ExecuteTime": {
     "end_time": "2024-01-18T09:04:00.985244100Z",
     "start_time": "2024-01-18T09:03:53.701930700Z"
    }
   },
   "outputs": [],
   "source": [
    "klifs = setup_remote()\n",
    "structures_df = klifs.structures.all_structures()\n",
    "\n",
    "# Get number of structures per kinase\n",
    "n_structures_per_kinase = (\n",
    "    structures_df.groupby([\"structure.pdb_id\", \"kinase.klifs_name\"])\n",
    "    .first()\n",
    "    .reset_index()\n",
    "    .groupby(\"kinase.klifs_name\")\n",
    "    .size()\n",
    ")\n",
    "\n",
    "# Save in KinMap format\n",
    "kinmap_n_structures_per_kinase = format_for_kinmap(\n",
    "    n_structures_per_kinase.index, n_structures_per_kinase.values\n",
    ")\n",
    "kinmap_n_structures_per_kinase.to_csv(DATA / \"kinmap_n_structures_per_kinase.csv\", index=None)\n",
    "# Some kinases will not be resolved in KinMap and will be simply dropped"
   ]
  },
  {
   "cell_type": "markdown",
   "metadata": {},
   "source": [
    "Identify the kinase which has the most structures."
   ]
  },
  {
   "cell_type": "code",
   "execution_count": 7,
   "metadata": {
    "ExecuteTime": {
     "end_time": "2024-01-18T09:04:01.004998100Z",
     "start_time": "2024-01-18T09:04:00.985244100Z"
    }
   },
   "outputs": [
    {
     "data": {
      "text/plain": "('CDK2', 455)"
     },
     "execution_count": 7,
     "metadata": {},
     "output_type": "execute_result"
    }
   ],
   "source": [
    "kinmap_n_structures_per_kinase.iloc[n_structures_per_kinase.argmax()].xName, max(\n",
    "    n_structures_per_kinase\n",
    ")"
   ]
  },
  {
   "cell_type": "markdown",
   "metadata": {},
   "source": [
    "#### Number of ChEMBL bioactivities per kinase\n",
    "\n",
    "Generate the number of ChEMBL bioactivities per kinase in the KinMap format to be mapped onto the kinome tree."
   ]
  },
  {
   "cell_type": "markdown",
   "metadata": {},
   "source": [
    "_Note_: The cell below takes a few seconds to execute."
   ]
  },
  {
   "cell_type": "code",
   "execution_count": 8,
   "metadata": {
    "ExecuteTime": {
     "end_time": "2024-01-18T09:04:20.436338700Z",
     "start_time": "2024-01-18T09:04:01.007167800Z"
    }
   },
   "outputs": [],
   "source": [
    "# Get bioactivity data\n",
    "path = \"https://github.com/openkinome/kinodata/releases/download/v0.3/activities-chembl29_v0.3.zip\"\n",
    "data = pd.read_csv(path, index_col=None)\n",
    "data = data[data[\"activities.standard_type\"] == \"pIC50\"]\n",
    "data = data.dropna()\n",
    "\n",
    "# Get kinase data\n",
    "klifs = setup_remote()\n",
    "kinases_df = klifs.kinases.all_kinases()\n",
    "kinases_df = kinases_df[kinases_df[\"kinase.uniprot\"] != \"0\"]\n",
    "# Some UniProt IDs have several names in KLIFS, keep only first\n",
    "kinases_df = kinases_df.groupby(\"kinase.uniprot\").first()\n",
    "\n",
    "# Map UniProt ID > kinase KLIFS name\n",
    "data = pd.merge(data, kinases_df, left_on=\"UniprotID\", right_on=\"kinase.uniprot\", how=\"left\")\n",
    "\n",
    "# Get number of activities per kinase\n",
    "n_activities_per_kinase = data.groupby(\"kinase.klifs_name\").size()\n",
    "\n",
    "# Save in KinMap format\n",
    "kinmap_n_activities_per_kinase = format_for_kinmap(\n",
    "    n_activities_per_kinase.index, n_activities_per_kinase.values\n",
    ")\n",
    "kinmap_n_activities_per_kinase.to_csv(DATA / \"kinmap_n_activities_per_kinase.csv\", index=None)\n",
    "# Some kinases will not be resolved in KinMap and will be simply dropped"
   ]
  },
  {
   "cell_type": "markdown",
   "metadata": {},
   "source": [
    "#### Erlotinib profiling data from Karaman _et al._ dataset\n",
    "\n",
    "- Go to http://www.kinhub.org/kinmap/\n",
    "- Select \"Data Source\": Profiling\n",
    "- Select \"Data type\": Karaman et al., 2018\n",
    "- Select \"Karaman et al., 2018\": Erlotinib\n",
    "- Click \"Add source\"\n",
    "- In **settings**, select \"RoyalBlue\" in **Fill**\n",
    "- Click \"Apply\"\n",
    "- Click on the speech bubble on the top right of the kinome tree to disable annotations.\n",
    "\n",
    "_Note_: the name of the on/off-targets (EGFR, GAK, LOK, SLK) have been added manually."
   ]
  },
  {
   "cell_type": "markdown",
   "metadata": {},
   "source": [
    "### Kinase structure visualization with `opencadd`\n",
    "\n",
    "We are using as an example the ATP-bound CDK2 structure with the KLIFS ID [4367](https://klifs.net/details.php?structure_id=4367)."
   ]
  },
  {
   "cell_type": "code",
   "execution_count": 9,
   "metadata": {
    "tags": [],
    "ExecuteTime": {
     "end_time": "2024-01-18T09:04:21.034247500Z",
     "start_time": "2024-01-18T09:04:20.444012900Z"
    }
   },
   "outputs": [
    {
     "data": {
      "text/plain": "NGLWidget()",
      "application/vnd.jupyter.widget-view+json": {
       "version_major": 2,
       "version_minor": 0,
       "model_id": "a32df56e9d04444abeaae00027a78a97"
      }
     },
     "metadata": {},
     "output_type": "display_data"
    }
   ],
   "source": [
    "# Get structure and pocket\n",
    "pocket = PocketKlifs.from_structure_klifs_id(4367)\n",
    "\n",
    "# Show pocket\n",
    "viewer = PocketViewer()\n",
    "viewer.add_pocket(pocket, ligand_expo_id=\"ATP\", show_pocket_center=False)\n",
    "viewer.viewer.add_ball_and_stick(selection=\"ATP\")\n",
    "viewer.viewer"
   ]
  },
  {
   "cell_type": "code",
   "execution_count": 10,
   "metadata": {
    "ExecuteTime": {
     "end_time": "2024-01-18T09:04:21.042935800Z",
     "start_time": "2024-01-18T09:04:21.039728400Z"
    }
   },
   "outputs": [],
   "source": [
    "viewer.viewer.render_image(trim=True, factor=2);"
   ]
  },
  {
   "cell_type": "code",
   "execution_count": 11,
   "metadata": {
    "tags": [
     "nbsphinx-thumbnail"
    ],
    "ExecuteTime": {
     "end_time": "2024-01-18T09:04:21.050503500Z",
     "start_time": "2024-01-18T09:04:21.040792Z"
    }
   },
   "outputs": [
    {
     "data": {
      "image/png": "",
      "text/plain": "<IPython.core.display.Image object>"
     },
     "execution_count": 11,
     "metadata": {},
     "output_type": "execute_result"
    }
   ],
   "source": [
    "viewer.viewer._display_image()"
   ]
  },
  {
   "cell_type": "code",
   "execution_count": 11,
   "metadata": {
    "ExecuteTime": {
     "end_time": "2024-01-18T09:04:21.092172800Z",
     "start_time": "2024-01-18T09:04:21.049393800Z"
    }
   },
   "outputs": [],
   "source": []
  }
 ],
 "metadata": {
  "kernelspec": {
   "display_name": "Python 3 (ipykernel)",
   "language": "python",
   "name": "python3"
  },
  "language_info": {
   "codemirror_mode": {
    "name": "ipython",
    "version": 3
   },
   "file_extension": ".py",
   "mimetype": "text/x-python",
   "name": "python",
   "nbconvert_exporter": "python",
   "pygments_lexer": "ipython3",
   "version": "3.9.16"
  },
  "toc-autonumbering": true,
  "widgets": {
   "application/vnd.jupyter.widget-state+json": {
    "state": {},
    "version_major": 2,
    "version_minor": 0
   }
  }
 },
 "nbformat": 4,
 "nbformat_minor": 4
}
