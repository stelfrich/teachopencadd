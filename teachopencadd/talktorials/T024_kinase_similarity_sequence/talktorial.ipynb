{
 "cells": [
  {
   "cell_type": "markdown",
   "metadata": {},
   "source": [
    "# T024 · Kinase similarity: Sequence\n",
    "\n",
    "**Note:** This talktorial is a part of TeachOpenCADD, a platform that aims to teach domain-specific skills and to provide pipeline templates as starting points for research projects.\n",
    "\n",
    "Authors:\n",
    "\n",
    "- Talia B. Kimber, 2021, [Volkamer lab, Charité](https://volkamerlab.org/)\n",
    "- Dominique Sydow, 2021, [Volkamer lab, Charité](https://volkamerlab.org/)\n",
    "- Andrea Volkamer, 2021, [Volkamer lab, Charité](https://volkamerlab.org/)"
   ]
  },
  {
   "cell_type": "markdown",
   "metadata": {},
   "source": [
    "## Aim of this talktorial\n",
    "\n",
    "In this talktorial, we investigate sequence similarity for kinases of interest. KLIFS API is used to retrieve the $85$ residues of the pocket sequence for each kinase. \n",
    "\n",
    "Two similarity measures are implemented:\n",
    "\n",
    "   1. Sequence identity, i.e., the similarity which is based on character-wise discrepancy.\n",
    "   2. Sequence similarity, i.e., the similarity which is based on a substitution matrix, thus, reflecting similarities between amino acids.\n",
    "   \n",
    "_Note_: We focus on similarities between orthosteric kinase binding sites; similarities to allosteric binding sites are not covered."
   ]
  },
  {
   "cell_type": "markdown",
   "metadata": {},
   "source": [
    "### Contents in *Theory*\n",
    "\n",
    "* Kinase dataset\n",
    "* Kinase similarity descriptor: Sequence\n",
    "    * Identity score\n",
    "    * Substitution score\n",
    "* From similarity matrix to distance matrix"
   ]
  },
  {
   "cell_type": "markdown",
   "metadata": {},
   "source": [
    "### Contents in *Practical*\n",
    "\n",
    "* Define the kinases of interest\n",
    "* Retrieve sequences from KLIFS\n",
    "* Sequence similarity\n",
    "    * Identity score\n",
    "    * Substitution score\n",
    "* Kinase similarity\n",
    "  * Visualize similarity as kinase matrix\n",
    "  * Save kinase similarity matrix\n",
    "* Kinase distance matrix\n",
    "  * Save kinase distance matrix"
   ]
  },
  {
   "cell_type": "markdown",
   "metadata": {},
   "source": [
    "### References\n",
    "\n",
    "* Kinase dataset: [<i>Molecules</i> (2021), <b>26(3)</b>, 629](https://www.mdpi.com/1420-3049/26/3/629) \n",
    "* KLIFS\n",
    "  * KLIFS URL: https://klifs.net/\n",
    "  * KLIFS database: [<i>Nucleic Acid Res.</i> (2020), <b>49(D1)</b>, D562-D569](https://doi.org/10.1093/nar/gkaa895)\n",
    "* Sequence-based kinase clustering: Manning _et al._ [<i>Science</i> (2002), <b>298(5600)</b>, 1912-1934](https://doi.org/10.1126/science.1075762)\n",
    "* Substitution matrix: [<i>PNAS</i> (1992), <b>89(22)<b>, 10915-10919](https://doi.org/10.1073/pnas.89.22.10915)\n",
    "* Biotite\n",
    "    * Documentation: https://www.biotite-python.org/index.html\n",
    "    * [Blosum matrix](https://www.biotite-python.org/examples/gallery/sequence/blosum_dendrogram.html?highlight=blosum)\n",
    "* Sequence logo: http://www.cbs.dtu.dk/biotools/Seq2Logo/    "
   ]
  },
  {
   "cell_type": "markdown",
   "metadata": {},
   "source": [
    "## Theory"
   ]
  },
  {
   "cell_type": "markdown",
   "metadata": {},
   "source": [
    "### Kinase dataset"
   ]
  },
  {
   "cell_type": "markdown",
   "metadata": {},
   "source": [
    "We use the kinase selection as defined in __Talktorial T023__."
   ]
  },
  {
   "cell_type": "markdown",
   "metadata": {},
   "source": [
    "### Kinase similarity descriptor: Sequence\n",
    "\n",
    "As mentioned in the previous talktorial, sequence is often used to assess kinase similarity (see the phylogenetic tree developed by Manning _et al._ [<i>Science</i> (2002), <b>298(5600)</b>, 1912-1934](https://doi.org/10.1126/science.1075762))."
   ]
  },
  {
   "cell_type": "markdown",
   "metadata": {},
   "source": [
    "In this talktorial, the KLIFS pocket sequence is used for two main reasons:\n",
    "\n",
    "1. The sequence is of fixed length (it contains $85$ residues), which makes computation for pairwise similarity between two sequences straightforward.\n",
    "\n",
    "2. The binding pocket is where the action takes place. Why consider the full kinase sequence when an $85$ residues sequence contains most relevant information?"
   ]
  },
  {
   "cell_type": "markdown",
   "metadata": {},
   "source": [
    "![sequence_logo](images/sequence_logo.png)\n",
    "\n",
    "_Figure 1:_\n",
    "The sequence logo shows amino acid binding motifs and sequence profiles such as amino acid depletion. For example, the sequence logo easily visualizes the conserved G-rich loop (position 4-9) and the DFG motif (position 81-83), see __Talktorial T023__ for more details.\n",
    "\n",
    "**Note for reproducibility:**\n",
    "The figure is generated using the Seq2Logo tool available at http://www.cbs.dtu.dk/biotools/Seq2Logo/. The input is the $85$ residues KLIFS binding pocket for the query kinases. All parameters are the the default ones. For the graphical layout, the entry _Stacks Per Line_ is set to $85$ and _Page size_ to $1200 \\times 480.$"
   ]
  },
  {
   "cell_type": "markdown",
   "metadata": {},
   "source": [
    "We now describe two ways to compare pocket sequences."
   ]
  },
  {
   "cell_type": "markdown",
   "metadata": {},
   "source": [
    "#### Identity score\n",
    "A simple way of assessing the similarity between two sequences is to use the so-called identity score.\n",
    "First, a match vector is created: it checks whether for each position the characters from the two sequences are identical. If they are, the entry is set to $1,$ and $0$ otherwise.\n",
    "\n",
    "The identity score is computed by summing the elements in the match vector and normalizing the entry by the length of the sequence, which is $85$ in the case of KLIFS pocket sequence."
   ]
  },
  {
   "cell_type": "markdown",
   "metadata": {},
   "source": [
    "Let's consider the identity matrix $I$ below:"
   ]
  },
  {
   "cell_type": "markdown",
   "metadata": {},
   "source": [
    "|       | A     | C     | D     | E     | ... |\n",
    "|-------|-------|-----  |-----  |-----  |-----|\n",
    "| **A** | **1** | 0     | 0     | 0     | ... |\n",
    "| **C** | 0     | **1** | 0     | 0     | ... |\n",
    "| **D** | 0     | 0     | **1** | 0     | ... |\n",
    "| **E** | 0     | 0     | 0     | **1** | ... |\n",
    "| ...   | ...   | ...   | ...   | ...   | ... |\n"
   ]
  },
  {
   "cell_type": "markdown",
   "metadata": {},
   "source": [
    "and let $M = len(K_i) = len(K_j)$ for two kinases $K_i$ and $K_j$."
   ]
  },
  {
   "cell_type": "markdown",
   "metadata": {},
   "source": [
    "We use the following as similarity between kinases $K_i$ and $K_j$:\n",
    "\n",
    "$$\n",
    "\\text{similarity}(K_i, K_j) = \\frac{1}{M} \\sum_{n=1}^{M} I (K_i[n], K_j[n]),\n",
    "$$\n",
    "\n",
    "where $K_i[n]$ represents the amino acid at position $n$ of the sequence of kinase $i$."
   ]
  },
  {
   "cell_type": "markdown",
   "metadata": {},
   "source": [
    "#### Substitution score\n",
    "Although the identity score is an easy measure of similarity, it does not take into account the rate at which an amino acid may change into another and treats all residues uniformly.\n",
    "\n",
    "The substitution score takes the changes of the amino acids over evolutionary time into account. It makes use of a substitution matrix, where each entry gives a score between two amino acids.\n",
    "In this talktorial, we use the BLOSUM substitution matrix [<i>PNAS</i> (1992), <b>89(22)<b>, 10915-10919](https://doi.org/10.1073/pnas.89.22.10915), implemented in `biotite`."
   ]
  },
  {
   "cell_type": "markdown",
   "metadata": {},
   "source": [
    "The BLOSUM substitution matrix $SM$ is defined as below (the full matrix will be displayed in the _Practical_ part):"
   ]
  },
  {
   "cell_type": "markdown",
   "metadata": {},
   "source": [
    "|       | A     | C     | D     | E     | ... |\n",
    "|-------|-------|-----  |-----  |-----  |-----|\n",
    "| **A** | 4     | 0     | -2    | -1    | ... |\n",
    "| **C** | 0     | 9     | -3    | -4    | ... |\n",
    "| **D** | -2    | -3    | 6     | 2     | ... |\n",
    "| **E** | -1    | -4    | 2     | 5     | ... |\n",
    "| ...   | ...   | ...   | ...   | ...   | ... |"
   ]
  },
  {
   "cell_type": "markdown",
   "metadata": {},
   "source": [
    "The BLOSUM substitution matrix is symmetric, as shown in the practical part.\n",
    "\n",
    "For convenience, we will translate and rescale the matrix using the following:\n",
    "\n",
    "$$\n",
    "SM' = SM - min(SM),\n",
    "$$\n",
    "\n",
    "for translation, and\n",
    "\n",
    "for all $x, y$\n",
    "\n",
    "$$\n",
    "SM''(x, y) = \\frac{SM'[x,y]}{\\sqrt{SM'[x,x]*SM'[y,y]}},\n",
    "$$\n",
    "\n",
    "for rescaling, such that\n",
    "\n",
    "$$\n",
    "SM''[x, x] = 1 \\text{ for all } x,\n",
    "$$ and\n",
    "\n",
    "$$\n",
    "SM''[x, y] \\in [0, 1] \\text{ for all } x,y.\n",
    "$$"
   ]
  },
  {
   "cell_type": "markdown",
   "metadata": {},
   "source": [
    "We use the following as similarity between kinases $K_i$ and $K_j$:\n",
    "\n",
    "$$\n",
    "\\text{similarity}(K_i, K_j) = \\frac{1}{M} \\sum_{n=1}^{M} SM''\\big(K_i[n], K_j[n]\\big),\n",
    "$$\n",
    "\n",
    "where $K_i[n]$ represents the amino acid at position $n$ of the sequence of kinase $i$ and $M = len(K_i) = len(K_j)$."
   ]
  },
  {
   "cell_type": "markdown",
   "metadata": {},
   "source": [
    "### From similarity matrix to distance matrix"
   ]
  },
  {
   "cell_type": "markdown",
   "metadata": {},
   "source": [
    "In order to apply some clustering algorithm to assess the similarity between kinases, it is necessary to start with a distance matrix. A similarity matrix is not, by definition, a distance matrix. For example, the diagonal elements are not zero. For now, we map the similarity matrix $SM$ to a distance matrix $DM$ using\n",
    "\n",
    "$$ DM = 1-SM.$$\n",
    "\n",
    "See __Talktorial T028__ for more details."
   ]
  },
  {
   "cell_type": "markdown",
   "metadata": {},
   "source": [
    "## Practical"
   ]
  },
  {
   "cell_type": "code",
   "execution_count": 1,
   "metadata": {
    "ExecuteTime": {
     "end_time": "2024-01-18T09:12:45.590767700Z",
     "start_time": "2024-01-18T09:12:43.766497300Z"
    }
   },
   "outputs": [],
   "source": [
    "from pathlib import Path\n",
    "import requests\n",
    "\n",
    "import pandas as pd\n",
    "import numpy as np\n",
    "import seaborn as sns\n",
    "import biotite.sequence.align as align"
   ]
  },
  {
   "cell_type": "code",
   "execution_count": 2,
   "metadata": {
    "ExecuteTime": {
     "end_time": "2024-01-18T09:12:45.613713600Z",
     "start_time": "2024-01-18T09:12:45.595115900Z"
    }
   },
   "outputs": [],
   "source": [
    "HERE = Path(_dh[-1])\n",
    "DATA = HERE / \"data\""
   ]
  },
  {
   "cell_type": "code",
   "execution_count": 3,
   "metadata": {
    "ExecuteTime": {
     "end_time": "2024-01-18T09:12:45.667352800Z",
     "start_time": "2024-01-18T09:12:45.620294400Z"
    }
   },
   "outputs": [
    {
     "name": "stdout",
     "output_type": "stream",
     "text": [
      "Run in demo mode: True\n"
     ]
    }
   ],
   "source": [
    "configs = pd.read_csv(HERE / \"../T023_what_is_a_kinase/data/pipeline_configs.csv\")\n",
    "configs = configs.set_index(\"variable\")[\"default_value\"]\n",
    "DEMO = bool(int(configs[\"DEMO\"]))\n",
    "print(f\"Run in demo mode: {DEMO}\")\n",
    "# NBVAL_CHECK_OUTPUT"
   ]
  },
  {
   "cell_type": "markdown",
   "metadata": {},
   "source": [
    "### Define the kinases of interest"
   ]
  },
  {
   "cell_type": "markdown",
   "metadata": {},
   "source": [
    "Let's load the kinase selection as defined in __Talktorial T023__."
   ]
  },
  {
   "cell_type": "code",
   "execution_count": 4,
   "metadata": {
    "ExecuteTime": {
     "end_time": "2024-01-18T09:12:45.727765700Z",
     "start_time": "2024-01-18T09:12:45.669572Z"
    }
   },
   "outputs": [
    {
     "data": {
      "text/plain": "   kinase kinase_klifs uniprot_id     group  \\\n0    EGFR         EGFR     P00533        TK   \n1   ErbB2        ErbB2     P04626        TK   \n2    PI3K        p110a     P42336  Atypical   \n3  VEGFR2          KDR     P35968        TK   \n4    BRAF         BRAF     P15056       TKL   \n5    CDK2         CDK2     P24941      CMGC   \n6     LCK          LCK     P06239        TK   \n7     MET          MET     P08581        TK   \n8    p38a         p38a     Q16539      CMGC   \n\n                                   full_kinase_name  \n0                  Epidermal growth factor receptor  \n1  Erythroblastic leukemia viral oncogene homolog 2  \n2                     Phosphatidylinositol-3-kinase  \n3     Vascular endothelial growth factor receptor 2  \n4        Rapidly accelerated fibrosarcoma isoform B  \n5                         Cyclic-dependent kinase 2  \n6       Lymphocyte-specific protein tyrosine kinase  \n7          Mesenchymal-epithelial transition factor  \n8        p38 mitogen activated protein kinase alpha  ",
      "text/html": "<div>\n<style scoped>\n    .dataframe tbody tr th:only-of-type {\n        vertical-align: middle;\n    }\n\n    .dataframe tbody tr th {\n        vertical-align: top;\n    }\n\n    .dataframe thead th {\n        text-align: right;\n    }\n</style>\n<table border=\"1\" class=\"dataframe\">\n  <thead>\n    <tr style=\"text-align: right;\">\n      <th></th>\n      <th>kinase</th>\n      <th>kinase_klifs</th>\n      <th>uniprot_id</th>\n      <th>group</th>\n      <th>full_kinase_name</th>\n    </tr>\n  </thead>\n  <tbody>\n    <tr>\n      <th>0</th>\n      <td>EGFR</td>\n      <td>EGFR</td>\n      <td>P00533</td>\n      <td>TK</td>\n      <td>Epidermal growth factor receptor</td>\n    </tr>\n    <tr>\n      <th>1</th>\n      <td>ErbB2</td>\n      <td>ErbB2</td>\n      <td>P04626</td>\n      <td>TK</td>\n      <td>Erythroblastic leukemia viral oncogene homolog 2</td>\n    </tr>\n    <tr>\n      <th>2</th>\n      <td>PI3K</td>\n      <td>p110a</td>\n      <td>P42336</td>\n      <td>Atypical</td>\n      <td>Phosphatidylinositol-3-kinase</td>\n    </tr>\n    <tr>\n      <th>3</th>\n      <td>VEGFR2</td>\n      <td>KDR</td>\n      <td>P35968</td>\n      <td>TK</td>\n      <td>Vascular endothelial growth factor receptor 2</td>\n    </tr>\n    <tr>\n      <th>4</th>\n      <td>BRAF</td>\n      <td>BRAF</td>\n      <td>P15056</td>\n      <td>TKL</td>\n      <td>Rapidly accelerated fibrosarcoma isoform B</td>\n    </tr>\n    <tr>\n      <th>5</th>\n      <td>CDK2</td>\n      <td>CDK2</td>\n      <td>P24941</td>\n      <td>CMGC</td>\n      <td>Cyclic-dependent kinase 2</td>\n    </tr>\n    <tr>\n      <th>6</th>\n      <td>LCK</td>\n      <td>LCK</td>\n      <td>P06239</td>\n      <td>TK</td>\n      <td>Lymphocyte-specific protein tyrosine kinase</td>\n    </tr>\n    <tr>\n      <th>7</th>\n      <td>MET</td>\n      <td>MET</td>\n      <td>P08581</td>\n      <td>TK</td>\n      <td>Mesenchymal-epithelial transition factor</td>\n    </tr>\n    <tr>\n      <th>8</th>\n      <td>p38a</td>\n      <td>p38a</td>\n      <td>Q16539</td>\n      <td>CMGC</td>\n      <td>p38 mitogen activated protein kinase alpha</td>\n    </tr>\n  </tbody>\n</table>\n</div>"
     },
     "execution_count": 4,
     "metadata": {},
     "output_type": "execute_result"
    }
   ],
   "source": [
    "kinase_selection_df = pd.read_csv(\n",
    "    HERE\n",
    "    / \"../T023_what_is_a_kinase/\\\n",
    "data/kinase_selection.csv\"\n",
    ")\n",
    "kinase_selection_df\n",
    "# NBVAL_CHECK_OUTPUT"
   ]
  },
  {
   "cell_type": "markdown",
   "metadata": {},
   "source": [
    "### Retrieve sequences from KLIFS"
   ]
  },
  {
   "cell_type": "markdown",
   "metadata": {},
   "source": [
    "We use the KLIFS API to retrieve the $85$-long pocket sequence for each kinase."
   ]
  },
  {
   "cell_type": "code",
   "execution_count": 5,
   "metadata": {
    "ExecuteTime": {
     "end_time": "2024-01-18T09:12:45.745402100Z",
     "start_time": "2024-01-18T09:12:45.699707100Z"
    }
   },
   "outputs": [],
   "source": [
    "def klifs_pocket_sequence(klifs_kinase_name):\n",
    "    \"\"\"\n",
    "    Retrieves the pocket sequence from KLIFS using the API.\n",
    "\n",
    "    Parameters\n",
    "    ----------\n",
    "    klifs_kinase_name : str\n",
    "        The KLIFS name of the kinase of interest.\n",
    "\n",
    "    Returns\n",
    "    -------\n",
    "    str :\n",
    "        The 85 residues pocket sequence from KLIFS,\n",
    "        if the kinase name is valid, None otherwise.\n",
    "    \"\"\"\n",
    "    response = requests.get(\n",
    "        f\"https://klifs.net/api/kinase_ID?kinase_name={klifs_kinase_name}&species=HUMAN\"\n",
    "    )\n",
    "\n",
    "    if response.status_code == 200:\n",
    "        return response.json()[0][\"pocket\"]\n",
    "    else:\n",
    "        print(f\"KLIFS failed for kinase {klifs_kinase_name}\")\n",
    "        return None"
   ]
  },
  {
   "cell_type": "markdown",
   "metadata": {},
   "source": [
    "We create a dictionary made of the kinase name and its associated pocket sequence. This dictionary is used throughout this notebook."
   ]
  },
  {
   "cell_type": "code",
   "execution_count": 6,
   "metadata": {
    "ExecuteTime": {
     "end_time": "2024-01-18T09:12:51.732193900Z",
     "start_time": "2024-01-18T09:12:45.713664300Z"
    }
   },
   "outputs": [
    {
     "name": "stdout",
     "output_type": "stream",
     "text": [
      "EGFR      KVLGSGAFGTVYKVAIKELEILDEAYVMASVDPHVCRLLGIQLITQLMPFGCLLDYVREYLEDRRLVHRDLAARNVLVITDFGLA\n",
      "ErbB2     KVLGSGAFGTVYKVAIKVLEILDEAYVMAGVGPYVSRLLGIQLVTQLMPYGCLLDHVREYLEDVRLVHRDLAARNVLVITDFGLA\n",
      "p110a     CRIMSSAKRPLWLIIFKNGDLRQDMLTLQIIRLRMLPYGCLVGLIEVVRSHTIMQIQCKATFI--LGIGDRHNSNIMVHIDFGHF\n",
      "KDR       KPLGRGAFGQVIEVAVKMLALMSELKILIHIGLNVVNLLGAMVIVEFCKFGNLSTYLRSFLASRKCIHRDLAARNILLICDFGLA\n",
      "BRAF      QRIGSGSFGTVYKVAVKMLAFKNEVGVLRKTRVNILLFMGYAIVTQWCEGSSLYHHLHIYLHAKSIIHRDLKSNNIFLIGDFGLA\n",
      "CDK2      EKIGEGTYGVVYKVALKKITAIREISLLKELNPNIVKLLDVYLVFEFLH-QDLKKFMDAFCHSHRVLHRDLKPQNLLILADFGLA\n",
      "LCK       ERLGAGQFGEVWMVAVKSLAFLAEANLMKQLQQRLVRLYAVYIITEYMENGSLVDFLKTFIEERNYIHRDLRAANILVIADFGLA\n",
      "MET       EVIGRGHFGCVYHCAVKSLQFLTEGIIMKDFSPNVLSLLGILVVLPYMKHGDLRNFIRNYLASKKFVHRDLAARNCMLVADFGLA\n",
      "p38a      SPVGSGAYGSVCAVAVKKLRTYRELRLLKHMKENVIGLLDVYLVTHLMG-ADLNNIVKCYIHSADIIHRDLKPSNLAVILDFGLA\n"
     ]
    }
   ],
   "source": [
    "kinase_sequences_dict = {}\n",
    "for kinase in kinase_selection_df[\"kinase_klifs\"]:\n",
    "    kinase_sequences_dict[kinase] = klifs_pocket_sequence(kinase)\n",
    "\n",
    "for name, sequence in kinase_sequences_dict.items():\n",
    "    print(f\"{name:10}{sequence}\")\n",
    "# NBVAL_CHECK_OUTPUT"
   ]
  },
  {
   "cell_type": "markdown",
   "metadata": {},
   "source": [
    "As shown in the cell above, some sequences have missing residues, denoted by \"-\". Let's plot these sequences as heatmap for a quick visual on conserved regions."
   ]
  },
  {
   "cell_type": "code",
   "execution_count": 7,
   "metadata": {
    "tags": [
     "nbsphinx-thumbnail"
    ],
    "ExecuteTime": {
     "end_time": "2024-01-18T09:12:52.332082900Z",
     "start_time": "2024-01-18T09:12:51.748127200Z"
    }
   },
   "outputs": [
    {
     "name": "stderr",
     "output_type": "stream",
     "text": [
      "C:\\Users\\joere\\AppData\\Local\\Temp\\ipykernel_17528\\74017489.py:10: FutureWarning: DataFrame.applymap has been deprecated. Use DataFrame.map instead.\n",
      "  kinase_sequences_int_df = kinase_sequences_df.applymap(lambda x: letter_to_int[x])\n"
     ]
    },
    {
     "data": {
      "text/plain": "<Figure size 640x480 with 1 Axes>",
      "image/png": "[encoded data removed]"
     },
     "metadata": {},
     "output_type": "display_data"
    }
   ],
   "source": [
    "# Cast dict to DataFrame\n",
    "kinase_sequences_df = pd.DataFrame(\n",
    "    [list(i) for i in kinase_sequences_dict.values()],\n",
    "    index=kinase_sequences_dict.keys(),\n",
    "    columns=range(1, 86),\n",
    ")\n",
    "# Cast letters to integers (gap is set to None)\n",
    "letter_to_int = {letter: ix for ix, letter in enumerate(list(\"ACDEFGHIKLMNPQRSTVWY\"), 1)}\n",
    "letter_to_int[\"-\"] = None\n",
    "kinase_sequences_int_df = kinase_sequences_df.applymap(lambda x: letter_to_int[x])\n",
    "# Show heatmap (qualitative colormap)\n",
    "ax = sns.heatmap(kinase_sequences_int_df, cmap=\"tab20\", cbar=False)"
   ]
  },
  {
   "cell_type": "markdown",
   "metadata": {},
   "source": [
    "### Sequence similarity"
   ]
  },
  {
   "cell_type": "markdown",
   "metadata": {},
   "source": [
    "Given two kinases, we create functions which account for identity or substitution similarity, as described in the _Theory_ part."
   ]
  },
  {
   "cell_type": "markdown",
   "metadata": {},
   "source": [
    "#### Identity score\n",
    "We first define a function which compares element-wise characters in two sequences."
   ]
  },
  {
   "cell_type": "code",
   "execution_count": 8,
   "metadata": {
    "ExecuteTime": {
     "end_time": "2024-01-18T09:12:52.347637300Z",
     "start_time": "2024-01-18T09:12:52.336050300Z"
    }
   },
   "outputs": [],
   "source": [
    "def identity_score(sequence1, sequence2):\n",
    "    \"\"\"\n",
    "    Computes the element-wise binary similarity between two sequences.\n",
    "\n",
    "    Parameters\n",
    "    ----------\n",
    "    sequence1 : np.array\n",
    "        An array of characters describing the first sequence.\n",
    "    sequence2 : np.array\n",
    "        An array of characters describing the second sequence.\n",
    "\n",
    "    Returns\n",
    "    -------\n",
    "    np.array\n",
    "        The bool array for each character.\n",
    "        1 if the elements are identical,\n",
    "        0 otherwise.\n",
    "    \"\"\"\n",
    "    # True is the character is the same, False otherwise\n",
    "    return np.compare_chararrays(sequence1, sequence2, cmp=\"==\", rstrip=True)"
   ]
  },
  {
   "cell_type": "markdown",
   "metadata": {},
   "source": [
    "#### Substitution score\n",
    "We now define the function which is more specific to amino acids grouping and use the `biotite` library to retrieve the BLOSUM substitution matrix."
   ]
  },
  {
   "cell_type": "markdown",
   "metadata": {},
   "source": [
    "The substitution matrix can be retrieve from `biotite` using the following command:"
   ]
  },
  {
   "cell_type": "code",
   "execution_count": 9,
   "metadata": {
    "ExecuteTime": {
     "end_time": "2024-01-18T09:12:52.529485900Z",
     "start_time": "2024-01-18T09:12:52.349886800Z"
    }
   },
   "outputs": [
    {
     "name": "stdout",
     "output_type": "stream",
     "text": [
      "    A   C   D   E   F   G   H   I   K   L   M   N   P   Q   R   S   T   V   W   Y   B   Z   X   *\n",
      "A   4   0  -2  -1  -2   0  -2  -1  -1  -1  -1  -2  -1  -1  -1   1   0   0  -3  -2  -2  -1   0  -4\n",
      "C   0   9  -3  -4  -2  -3  -3  -1  -3  -1  -1  -3  -3  -3  -3  -1  -1  -1  -2  -2  -3  -3  -2  -4\n",
      "D  -2  -3   6   2  -3  -1  -1  -3  -1  -4  -3   1  -1   0  -2   0  -1  -3  -4  -3   4   1  -1  -4\n",
      "E  -1  -4   2   5  -3  -2   0  -3   1  -3  -2   0  -1   2   0   0  -1  -2  -3  -2   1   4  -1  -4\n",
      "F  -2  -2  -3  -3   6  -3  -1   0  -3   0   0  -3  -4  -3  -3  -2  -2  -1   1   3  -3  -3  -1  -4\n",
      "G   0  -3  -1  -2  -3   6  -2  -4  -2  -4  -3   0  -2  -2  -2   0  -2  -3  -2  -3  -1  -2  -1  -4\n",
      "H  -2  -3  -1   0  -1  -2   8  -3  -1  -3  -2   1  -2   0   0  -1  -2  -3  -2   2   0   0  -1  -4\n",
      "I  -1  -1  -3  -3   0  -4  -3   4  -3   2   1  -3  -3  -3  -3  -2  -1   3  -3  -1  -3  -3  -1  -4\n",
      "K  -1  -3  -1   1  -3  -2  -1  -3   5  -2  -1   0  -1   1   2   0  -1  -2  -3  -2   0   1  -1  -4\n",
      "L  -1  -1  -4  -3   0  -4  -3   2  -2   4   2  -3  -3  -2  -2  -2  -1   1  -2  -1  -4  -3  -1  -4\n",
      "M  -1  -1  -3  -2   0  -3  -2   1  -1   2   5  -2  -2   0  -1  -1  -1   1  -1  -1  -3  -1  -1  -4\n",
      "N  -2  -3   1   0  -3   0   1  -3   0  -3  -2   6  -2   0   0   1   0  -3  -4  -2   3   0  -1  -4\n",
      "P  -1  -3  -1  -1  -4  -2  -2  -3  -1  -3  -2  -2   7  -1  -2  -1  -1  -2  -4  -3  -2  -1  -2  -4\n",
      "Q  -1  -3   0   2  -3  -2   0  -3   1  -2   0   0  -1   5   1   0  -1  -2  -2  -1   0   3  -1  -4\n",
      "R  -1  -3  -2   0  -3  -2   0  -3   2  -2  -1   0  -2   1   5  -1  -1  -3  -3  -2  -1   0  -1  -4\n",
      "S   1  -1   0   0  -2   0  -1  -2   0  -2  -1   1  -1   0  -1   4   1  -2  -3  -2   0   0   0  -4\n",
      "T   0  -1  -1  -1  -2  -2  -2  -1  -1  -1  -1   0  -1  -1  -1   1   5   0  -2  -2  -1  -1   0  -4\n",
      "V   0  -1  -3  -2  -1  -3  -3   3  -2   1   1  -3  -2  -2  -3  -2   0   4  -3  -1  -3  -2  -1  -4\n",
      "W  -3  -2  -4  -3   1  -2  -2  -3  -3  -2  -1  -4  -4  -2  -3  -3  -2  -3  11   2  -4  -3  -2  -4\n",
      "Y  -2  -2  -3  -2   3  -3   2  -1  -2  -1  -1  -2  -3  -1  -2  -2  -2  -1   2   7  -3  -2  -1  -4\n",
      "B  -2  -3   4   1  -3  -1   0  -3   0  -4  -3   3  -2   0  -1   0  -1  -3  -4  -3   4   1  -1  -4\n",
      "Z  -1  -3   1   4  -3  -2   0  -3   1  -3  -1   0  -1   3   0   0  -1  -2  -3  -2   1   4  -1  -4\n",
      "X   0  -2  -1  -1  -1  -1  -1  -1  -1  -1  -1  -1  -2  -1  -1   0   0  -1  -2  -1  -1  -1  -1  -4\n",
      "*  -4  -4  -4  -4  -4  -4  -4  -4  -4  -4  -4  -4  -4  -4  -4  -4  -4  -4  -4  -4  -4  -4  -4   1\n"
     ]
    }
   ],
   "source": [
    "substitution_matrix = align.SubstitutionMatrix.std_protein_matrix()\n",
    "print(substitution_matrix)\n",
    "# NBVAL_CHECK_OUTPUT"
   ]
  },
  {
   "cell_type": "markdown",
   "metadata": {},
   "source": [
    "Check for symmetry:"
   ]
  },
  {
   "cell_type": "code",
   "execution_count": 10,
   "metadata": {
    "ExecuteTime": {
     "end_time": "2024-01-18T09:12:52.698791Z",
     "start_time": "2024-01-18T09:12:52.362928600Z"
    }
   },
   "outputs": [
    {
     "data": {
      "text/plain": "True"
     },
     "execution_count": 10,
     "metadata": {},
     "output_type": "execute_result"
    }
   ],
   "source": [
    "substitution_matrix.is_symmetric()\n",
    "# NBVAL_CHECK_OUTPUT"
   ]
  },
  {
   "cell_type": "markdown",
   "metadata": {},
   "source": [
    "Let's perform the translation-rescaling step we discussed in the _Theory_ part."
   ]
  },
  {
   "cell_type": "code",
   "execution_count": 11,
   "metadata": {
    "ExecuteTime": {
     "end_time": "2024-01-18T09:12:52.701010600Z",
     "start_time": "2024-01-18T09:12:52.426828200Z"
    }
   },
   "outputs": [],
   "source": [
    "def _translate_rescale_substitution_matrix(\n",
    "    substitution_matrix=align.SubstitutionMatrix.std_protein_matrix(),\n",
    "):\n",
    "    \"\"\"\n",
    "    Translate and rescale substitution matrix.\n",
    "\n",
    "    Parameters\n",
    "    ----------\n",
    "    substitution_matrix : biotite.sequence.align.SubstitutionMatrix\n",
    "        A substitution matrix specific to amino acids.\n",
    "        The default is align.SubstitutionMatrix.std_protein_matrix()\n",
    "        from biotite, which represents BLOSUM62.\n",
    "\n",
    "    Returns\n",
    "    -------\n",
    "    pd.DataFrame\n",
    "        Translated and rescaled substitution matrix as DataFrame\n",
    "        (index/columns contain letters).\n",
    "    \"\"\"\n",
    "    # Retrieve np.array from substitution matrix\n",
    "    score_matrix = substitution_matrix.score_matrix()\n",
    "\n",
    "    # Translation of substitution matrix\n",
    "    translated_matrix = score_matrix - np.min(score_matrix)\n",
    "\n",
    "    # Rescaling\n",
    "    normalized_score_matrix = np.zeros(score_matrix.shape)\n",
    "    for i in range(score_matrix.shape[0]):\n",
    "        for j in range(score_matrix.shape[0]):\n",
    "            normalized_score_matrix[i, j] = translated_matrix[i, j] / np.sqrt(\n",
    "                translated_matrix[i, i] * translated_matrix[j, j]\n",
    "            )\n",
    "\n",
    "    # Create DataFrame from matrix with letters as index/column names\n",
    "    normalized_score_matrix = pd.DataFrame(\n",
    "        normalized_score_matrix,\n",
    "        columns=substitution_matrix.get_alphabet1(),\n",
    "        index=substitution_matrix.get_alphabet1(),\n",
    "    )\n",
    "\n",
    "    # Check for symmetry\n",
    "    symmetric = (\n",
    "        normalized_score_matrix.values == normalized_score_matrix.values.transpose()\n",
    "    ).all()\n",
    "    if not symmetric:\n",
    "        raise ValueError(f\"Translated/rescaled matrix is not symmetric.\")\n",
    "\n",
    "    return normalized_score_matrix"
   ]
  },
  {
   "cell_type": "markdown",
   "metadata": {},
   "source": [
    "Let's take a look at the translated and rescaled version of the substitution matrix."
   ]
  },
  {
   "cell_type": "code",
   "execution_count": 12,
   "metadata": {
    "ExecuteTime": {
     "end_time": "2024-01-18T09:12:52.763137900Z",
     "start_time": "2024-01-18T09:12:52.439721400Z"
    }
   },
   "outputs": [
    {
     "data": {
      "text/plain": "<pandas.io.formats.style.Styler at 0x2a865e074c0>",
      "text/html": "<style type=\"text/css\">\n</style>\n<table id=\"T_a520e\">\n  <thead>\n    <tr>\n      <th class=\"blank level0\" >&nbsp;</th>\n      <th id=\"T_a520e_level0_col0\" class=\"col_heading level0 col0\" >A</th>\n      <th id=\"T_a520e_level0_col1\" class=\"col_heading level0 col1\" >C</th>\n      <th id=\"T_a520e_level0_col2\" class=\"col_heading level0 col2\" >D</th>\n      <th id=\"T_a520e_level0_col3\" class=\"col_heading level0 col3\" >E</th>\n      <th id=\"T_a520e_level0_col4\" class=\"col_heading level0 col4\" >F</th>\n      <th id=\"T_a520e_level0_col5\" class=\"col_heading level0 col5\" >G</th>\n      <th id=\"T_a520e_level0_col6\" class=\"col_heading level0 col6\" >H</th>\n      <th id=\"T_a520e_level0_col7\" class=\"col_heading level0 col7\" >I</th>\n      <th id=\"T_a520e_level0_col8\" class=\"col_heading level0 col8\" >K</th>\n      <th id=\"T_a520e_level0_col9\" class=\"col_heading level0 col9\" >L</th>\n      <th id=\"T_a520e_level0_col10\" class=\"col_heading level0 col10\" >M</th>\n      <th id=\"T_a520e_level0_col11\" class=\"col_heading level0 col11\" >N</th>\n      <th id=\"T_a520e_level0_col12\" class=\"col_heading level0 col12\" >P</th>\n      <th id=\"T_a520e_level0_col13\" class=\"col_heading level0 col13\" >Q</th>\n      <th id=\"T_a520e_level0_col14\" class=\"col_heading level0 col14\" >R</th>\n      <th id=\"T_a520e_level0_col15\" class=\"col_heading level0 col15\" >S</th>\n      <th id=\"T_a520e_level0_col16\" class=\"col_heading level0 col16\" >T</th>\n      <th id=\"T_a520e_level0_col17\" class=\"col_heading level0 col17\" >V</th>\n      <th id=\"T_a520e_level0_col18\" class=\"col_heading level0 col18\" >W</th>\n      <th id=\"T_a520e_level0_col19\" class=\"col_heading level0 col19\" >Y</th>\n      <th id=\"T_a520e_level0_col20\" class=\"col_heading level0 col20\" >B</th>\n      <th id=\"T_a520e_level0_col21\" class=\"col_heading level0 col21\" >Z</th>\n      <th id=\"T_a520e_level0_col22\" class=\"col_heading level0 col22\" >X</th>\n      <th id=\"T_a520e_level0_col23\" class=\"col_heading level0 col23\" >*</th>\n    </tr>\n  </thead>\n  <tbody>\n    <tr>\n      <th id=\"T_a520e_level0_row0\" class=\"row_heading level0 row0\" >A</th>\n      <td id=\"T_a520e_row0_col0\" class=\"data row0 col0\" >1.00</td>\n      <td id=\"T_a520e_row0_col1\" class=\"data row0 col1\" >0.39</td>\n      <td id=\"T_a520e_row0_col2\" class=\"data row0 col2\" >0.22</td>\n      <td id=\"T_a520e_row0_col3\" class=\"data row0 col3\" >0.35</td>\n      <td id=\"T_a520e_row0_col4\" class=\"data row0 col4\" >0.22</td>\n      <td id=\"T_a520e_row0_col5\" class=\"data row0 col5\" >0.45</td>\n      <td id=\"T_a520e_row0_col6\" class=\"data row0 col6\" >0.20</td>\n      <td id=\"T_a520e_row0_col7\" class=\"data row0 col7\" >0.38</td>\n      <td id=\"T_a520e_row0_col8\" class=\"data row0 col8\" >0.35</td>\n      <td id=\"T_a520e_row0_col9\" class=\"data row0 col9\" >0.38</td>\n      <td id=\"T_a520e_row0_col10\" class=\"data row0 col10\" >0.35</td>\n      <td id=\"T_a520e_row0_col11\" class=\"data row0 col11\" >0.22</td>\n      <td id=\"T_a520e_row0_col12\" class=\"data row0 col12\" >0.32</td>\n      <td id=\"T_a520e_row0_col13\" class=\"data row0 col13\" >0.35</td>\n      <td id=\"T_a520e_row0_col14\" class=\"data row0 col14\" >0.35</td>\n      <td id=\"T_a520e_row0_col15\" class=\"data row0 col15\" >0.62</td>\n      <td id=\"T_a520e_row0_col16\" class=\"data row0 col16\" >0.47</td>\n      <td id=\"T_a520e_row0_col17\" class=\"data row0 col17\" >0.50</td>\n      <td id=\"T_a520e_row0_col18\" class=\"data row0 col18\" >0.09</td>\n      <td id=\"T_a520e_row0_col19\" class=\"data row0 col19\" >0.21</td>\n      <td id=\"T_a520e_row0_col20\" class=\"data row0 col20\" >0.25</td>\n      <td id=\"T_a520e_row0_col21\" class=\"data row0 col21\" >0.38</td>\n      <td id=\"T_a520e_row0_col22\" class=\"data row0 col22\" >0.82</td>\n      <td id=\"T_a520e_row0_col23\" class=\"data row0 col23\" >0.00</td>\n    </tr>\n    <tr>\n      <th id=\"T_a520e_level0_row1\" class=\"row_heading level0 row1\" >C</th>\n      <td id=\"T_a520e_row1_col0\" class=\"data row1 col0\" >0.39</td>\n      <td id=\"T_a520e_row1_col1\" class=\"data row1 col1\" >1.00</td>\n      <td id=\"T_a520e_row1_col2\" class=\"data row1 col2\" >0.09</td>\n      <td id=\"T_a520e_row1_col3\" class=\"data row1 col3\" >0.00</td>\n      <td id=\"T_a520e_row1_col4\" class=\"data row1 col4\" >0.18</td>\n      <td id=\"T_a520e_row1_col5\" class=\"data row1 col5\" >0.09</td>\n      <td id=\"T_a520e_row1_col6\" class=\"data row1 col6\" >0.08</td>\n      <td id=\"T_a520e_row1_col7\" class=\"data row1 col7\" >0.29</td>\n      <td id=\"T_a520e_row1_col8\" class=\"data row1 col8\" >0.09</td>\n      <td id=\"T_a520e_row1_col9\" class=\"data row1 col9\" >0.29</td>\n      <td id=\"T_a520e_row1_col10\" class=\"data row1 col10\" >0.28</td>\n      <td id=\"T_a520e_row1_col11\" class=\"data row1 col11\" >0.09</td>\n      <td id=\"T_a520e_row1_col12\" class=\"data row1 col12\" >0.08</td>\n      <td id=\"T_a520e_row1_col13\" class=\"data row1 col13\" >0.09</td>\n      <td id=\"T_a520e_row1_col14\" class=\"data row1 col14\" >0.09</td>\n      <td id=\"T_a520e_row1_col15\" class=\"data row1 col15\" >0.29</td>\n      <td id=\"T_a520e_row1_col16\" class=\"data row1 col16\" >0.28</td>\n      <td id=\"T_a520e_row1_col17\" class=\"data row1 col17\" >0.29</td>\n      <td id=\"T_a520e_row1_col18\" class=\"data row1 col18\" >0.14</td>\n      <td id=\"T_a520e_row1_col19\" class=\"data row1 col19\" >0.17</td>\n      <td id=\"T_a520e_row1_col20\" class=\"data row1 col20\" >0.10</td>\n      <td id=\"T_a520e_row1_col21\" class=\"data row1 col21\" >0.10</td>\n      <td id=\"T_a520e_row1_col22\" class=\"data row1 col22\" >0.32</td>\n      <td id=\"T_a520e_row1_col23\" class=\"data row1 col23\" >0.00</td>\n    </tr>\n    <tr>\n      <th id=\"T_a520e_level0_row2\" class=\"row_heading level0 row2\" >D</th>\n      <td id=\"T_a520e_row2_col0\" class=\"data row2 col0\" >0.22</td>\n      <td id=\"T_a520e_row2_col1\" class=\"data row2 col1\" >0.09</td>\n      <td id=\"T_a520e_row2_col2\" class=\"data row2 col2\" >1.00</td>\n      <td id=\"T_a520e_row2_col3\" class=\"data row2 col3\" >0.63</td>\n      <td id=\"T_a520e_row2_col4\" class=\"data row2 col4\" >0.10</td>\n      <td id=\"T_a520e_row2_col5\" class=\"data row2 col5\" >0.30</td>\n      <td id=\"T_a520e_row2_col6\" class=\"data row2 col6\" >0.27</td>\n      <td id=\"T_a520e_row2_col7\" class=\"data row2 col7\" >0.11</td>\n      <td id=\"T_a520e_row2_col8\" class=\"data row2 col8\" >0.32</td>\n      <td id=\"T_a520e_row2_col9\" class=\"data row2 col9\" >0.00</td>\n      <td id=\"T_a520e_row2_col10\" class=\"data row2 col10\" >0.11</td>\n      <td id=\"T_a520e_row2_col11\" class=\"data row2 col11\" >0.50</td>\n      <td id=\"T_a520e_row2_col12\" class=\"data row2 col12\" >0.29</td>\n      <td id=\"T_a520e_row2_col13\" class=\"data row2 col13\" >0.42</td>\n      <td id=\"T_a520e_row2_col14\" class=\"data row2 col14\" >0.21</td>\n      <td id=\"T_a520e_row2_col15\" class=\"data row2 col15\" >0.45</td>\n      <td id=\"T_a520e_row2_col16\" class=\"data row2 col16\" >0.32</td>\n      <td id=\"T_a520e_row2_col17\" class=\"data row2 col17\" >0.11</td>\n      <td id=\"T_a520e_row2_col18\" class=\"data row2 col18\" >0.00</td>\n      <td id=\"T_a520e_row2_col19\" class=\"data row2 col19\" >0.10</td>\n      <td id=\"T_a520e_row2_col20\" class=\"data row2 col20\" >0.89</td>\n      <td id=\"T_a520e_row2_col21\" class=\"data row2 col21\" >0.56</td>\n      <td id=\"T_a520e_row2_col22\" class=\"data row2 col22\" >0.55</td>\n      <td id=\"T_a520e_row2_col23\" class=\"data row2 col23\" >0.00</td>\n    </tr>\n    <tr>\n      <th id=\"T_a520e_level0_row3\" class=\"row_heading level0 row3\" >E</th>\n      <td id=\"T_a520e_row3_col0\" class=\"data row3 col0\" >0.35</td>\n      <td id=\"T_a520e_row3_col1\" class=\"data row3 col1\" >0.00</td>\n      <td id=\"T_a520e_row3_col2\" class=\"data row3 col2\" >0.63</td>\n      <td id=\"T_a520e_row3_col3\" class=\"data row3 col3\" >1.00</td>\n      <td id=\"T_a520e_row3_col4\" class=\"data row3 col4\" >0.11</td>\n      <td id=\"T_a520e_row3_col5\" class=\"data row3 col5\" >0.21</td>\n      <td id=\"T_a520e_row3_col6\" class=\"data row3 col6\" >0.38</td>\n      <td id=\"T_a520e_row3_col7\" class=\"data row3 col7\" >0.12</td>\n      <td id=\"T_a520e_row3_col8\" class=\"data row3 col8\" >0.56</td>\n      <td id=\"T_a520e_row3_col9\" class=\"data row3 col9\" >0.12</td>\n      <td id=\"T_a520e_row3_col10\" class=\"data row3 col10\" >0.22</td>\n      <td id=\"T_a520e_row3_col11\" class=\"data row3 col11\" >0.42</td>\n      <td id=\"T_a520e_row3_col12\" class=\"data row3 col12\" >0.30</td>\n      <td id=\"T_a520e_row3_col13\" class=\"data row3 col13\" >0.67</td>\n      <td id=\"T_a520e_row3_col14\" class=\"data row3 col14\" >0.44</td>\n      <td id=\"T_a520e_row3_col15\" class=\"data row3 col15\" >0.47</td>\n      <td id=\"T_a520e_row3_col16\" class=\"data row3 col16\" >0.33</td>\n      <td id=\"T_a520e_row3_col17\" class=\"data row3 col17\" >0.24</td>\n      <td id=\"T_a520e_row3_col18\" class=\"data row3 col18\" >0.09</td>\n      <td id=\"T_a520e_row3_col19\" class=\"data row3 col19\" >0.20</td>\n      <td id=\"T_a520e_row3_col20\" class=\"data row3 col20\" >0.59</td>\n      <td id=\"T_a520e_row3_col21\" class=\"data row3 col21\" >0.94</td>\n      <td id=\"T_a520e_row3_col22\" class=\"data row3 col22\" >0.58</td>\n      <td id=\"T_a520e_row3_col23\" class=\"data row3 col23\" >0.00</td>\n    </tr>\n    <tr>\n      <th id=\"T_a520e_level0_row4\" class=\"row_heading level0 row4\" >F</th>\n      <td id=\"T_a520e_row4_col0\" class=\"data row4 col0\" >0.22</td>\n      <td id=\"T_a520e_row4_col1\" class=\"data row4 col1\" >0.18</td>\n      <td id=\"T_a520e_row4_col2\" class=\"data row4 col2\" >0.10</td>\n      <td id=\"T_a520e_row4_col3\" class=\"data row4 col3\" >0.11</td>\n      <td id=\"T_a520e_row4_col4\" class=\"data row4 col4\" >1.00</td>\n      <td id=\"T_a520e_row4_col5\" class=\"data row4 col5\" >0.10</td>\n      <td id=\"T_a520e_row4_col6\" class=\"data row4 col6\" >0.27</td>\n      <td id=\"T_a520e_row4_col7\" class=\"data row4 col7\" >0.45</td>\n      <td id=\"T_a520e_row4_col8\" class=\"data row4 col8\" >0.11</td>\n      <td id=\"T_a520e_row4_col9\" class=\"data row4 col9\" >0.45</td>\n      <td id=\"T_a520e_row4_col10\" class=\"data row4 col10\" >0.42</td>\n      <td id=\"T_a520e_row4_col11\" class=\"data row4 col11\" >0.10</td>\n      <td id=\"T_a520e_row4_col12\" class=\"data row4 col12\" >0.00</td>\n      <td id=\"T_a520e_row4_col13\" class=\"data row4 col13\" >0.11</td>\n      <td id=\"T_a520e_row4_col14\" class=\"data row4 col14\" >0.11</td>\n      <td id=\"T_a520e_row4_col15\" class=\"data row4 col15\" >0.22</td>\n      <td id=\"T_a520e_row4_col16\" class=\"data row4 col16\" >0.21</td>\n      <td id=\"T_a520e_row4_col17\" class=\"data row4 col17\" >0.34</td>\n      <td id=\"T_a520e_row4_col18\" class=\"data row4 col18\" >0.41</td>\n      <td id=\"T_a520e_row4_col19\" class=\"data row4 col19\" >0.67</td>\n      <td id=\"T_a520e_row4_col20\" class=\"data row4 col20\" >0.11</td>\n      <td id=\"T_a520e_row4_col21\" class=\"data row4 col21\" >0.11</td>\n      <td id=\"T_a520e_row4_col22\" class=\"data row4 col22\" >0.55</td>\n      <td id=\"T_a520e_row4_col23\" class=\"data row4 col23\" >0.00</td>\n    </tr>\n    <tr>\n      <th id=\"T_a520e_level0_row5\" class=\"row_heading level0 row5\" >G</th>\n      <td id=\"T_a520e_row5_col0\" class=\"data row5 col0\" >0.45</td>\n      <td id=\"T_a520e_row5_col1\" class=\"data row5 col1\" >0.09</td>\n      <td id=\"T_a520e_row5_col2\" class=\"data row5 col2\" >0.30</td>\n      <td id=\"T_a520e_row5_col3\" class=\"data row5 col3\" >0.21</td>\n      <td id=\"T_a520e_row5_col4\" class=\"data row5 col4\" >0.10</td>\n      <td id=\"T_a520e_row5_col5\" class=\"data row5 col5\" >1.00</td>\n      <td id=\"T_a520e_row5_col6\" class=\"data row5 col6\" >0.18</td>\n      <td id=\"T_a520e_row5_col7\" class=\"data row5 col7\" >0.00</td>\n      <td id=\"T_a520e_row5_col8\" class=\"data row5 col8\" >0.21</td>\n      <td id=\"T_a520e_row5_col9\" class=\"data row5 col9\" >0.00</td>\n      <td id=\"T_a520e_row5_col10\" class=\"data row5 col10\" >0.11</td>\n      <td id=\"T_a520e_row5_col11\" class=\"data row5 col11\" >0.40</td>\n      <td id=\"T_a520e_row5_col12\" class=\"data row5 col12\" >0.19</td>\n      <td id=\"T_a520e_row5_col13\" class=\"data row5 col13\" >0.21</td>\n      <td id=\"T_a520e_row5_col14\" class=\"data row5 col14\" >0.21</td>\n      <td id=\"T_a520e_row5_col15\" class=\"data row5 col15\" >0.45</td>\n      <td id=\"T_a520e_row5_col16\" class=\"data row5 col16\" >0.21</td>\n      <td id=\"T_a520e_row5_col17\" class=\"data row5 col17\" >0.11</td>\n      <td id=\"T_a520e_row5_col18\" class=\"data row5 col18\" >0.16</td>\n      <td id=\"T_a520e_row5_col19\" class=\"data row5 col19\" >0.10</td>\n      <td id=\"T_a520e_row5_col20\" class=\"data row5 col20\" >0.34</td>\n      <td id=\"T_a520e_row5_col21\" class=\"data row5 col21\" >0.22</td>\n      <td id=\"T_a520e_row5_col22\" class=\"data row5 col22\" >0.55</td>\n      <td id=\"T_a520e_row5_col23\" class=\"data row5 col23\" >0.00</td>\n    </tr>\n    <tr>\n      <th id=\"T_a520e_level0_row6\" class=\"row_heading level0 row6\" >H</th>\n      <td id=\"T_a520e_row6_col0\" class=\"data row6 col0\" >0.20</td>\n      <td id=\"T_a520e_row6_col1\" class=\"data row6 col1\" >0.08</td>\n      <td id=\"T_a520e_row6_col2\" class=\"data row6 col2\" >0.27</td>\n      <td id=\"T_a520e_row6_col3\" class=\"data row6 col3\" >0.38</td>\n      <td id=\"T_a520e_row6_col4\" class=\"data row6 col4\" >0.27</td>\n      <td id=\"T_a520e_row6_col5\" class=\"data row6 col5\" >0.18</td>\n      <td id=\"T_a520e_row6_col6\" class=\"data row6 col6\" >1.00</td>\n      <td id=\"T_a520e_row6_col7\" class=\"data row6 col7\" >0.10</td>\n      <td id=\"T_a520e_row6_col8\" class=\"data row6 col8\" >0.29</td>\n      <td id=\"T_a520e_row6_col9\" class=\"data row6 col9\" >0.10</td>\n      <td id=\"T_a520e_row6_col10\" class=\"data row6 col10\" >0.19</td>\n      <td id=\"T_a520e_row6_col11\" class=\"data row6 col11\" >0.46</td>\n      <td id=\"T_a520e_row6_col12\" class=\"data row6 col12\" >0.17</td>\n      <td id=\"T_a520e_row6_col13\" class=\"data row6 col13\" >0.38</td>\n      <td id=\"T_a520e_row6_col14\" class=\"data row6 col14\" >0.38</td>\n      <td id=\"T_a520e_row6_col15\" class=\"data row6 col15\" >0.31</td>\n      <td id=\"T_a520e_row6_col16\" class=\"data row6 col16\" >0.19</td>\n      <td id=\"T_a520e_row6_col17\" class=\"data row6 col17\" >0.10</td>\n      <td id=\"T_a520e_row6_col18\" class=\"data row6 col18\" >0.15</td>\n      <td id=\"T_a520e_row6_col19\" class=\"data row6 col19\" >0.52</td>\n      <td id=\"T_a520e_row6_col20\" class=\"data row6 col20\" >0.41</td>\n      <td id=\"T_a520e_row6_col21\" class=\"data row6 col21\" >0.41</td>\n      <td id=\"T_a520e_row6_col22\" class=\"data row6 col22\" >0.50</td>\n      <td id=\"T_a520e_row6_col23\" class=\"data row6 col23\" >0.00</td>\n    </tr>\n    <tr>\n      <th id=\"T_a520e_level0_row7\" class=\"row_heading level0 row7\" >I</th>\n      <td id=\"T_a520e_row7_col0\" class=\"data row7 col0\" >0.38</td>\n      <td id=\"T_a520e_row7_col1\" class=\"data row7 col1\" >0.29</td>\n      <td id=\"T_a520e_row7_col2\" class=\"data row7 col2\" >0.11</td>\n      <td id=\"T_a520e_row7_col3\" class=\"data row7 col3\" >0.12</td>\n      <td id=\"T_a520e_row7_col4\" class=\"data row7 col4\" >0.45</td>\n      <td id=\"T_a520e_row7_col5\" class=\"data row7 col5\" >0.00</td>\n      <td id=\"T_a520e_row7_col6\" class=\"data row7 col6\" >0.10</td>\n      <td id=\"T_a520e_row7_col7\" class=\"data row7 col7\" >1.00</td>\n      <td id=\"T_a520e_row7_col8\" class=\"data row7 col8\" >0.12</td>\n      <td id=\"T_a520e_row7_col9\" class=\"data row7 col9\" >0.75</td>\n      <td id=\"T_a520e_row7_col10\" class=\"data row7 col10\" >0.59</td>\n      <td id=\"T_a520e_row7_col11\" class=\"data row7 col11\" >0.11</td>\n      <td id=\"T_a520e_row7_col12\" class=\"data row7 col12\" >0.11</td>\n      <td id=\"T_a520e_row7_col13\" class=\"data row7 col13\" >0.12</td>\n      <td id=\"T_a520e_row7_col14\" class=\"data row7 col14\" >0.12</td>\n      <td id=\"T_a520e_row7_col15\" class=\"data row7 col15\" >0.25</td>\n      <td id=\"T_a520e_row7_col16\" class=\"data row7 col16\" >0.35</td>\n      <td id=\"T_a520e_row7_col17\" class=\"data row7 col17\" >0.88</td>\n      <td id=\"T_a520e_row7_col18\" class=\"data row7 col18\" >0.09</td>\n      <td id=\"T_a520e_row7_col19\" class=\"data row7 col19\" >0.32</td>\n      <td id=\"T_a520e_row7_col20\" class=\"data row7 col20\" >0.12</td>\n      <td id=\"T_a520e_row7_col21\" class=\"data row7 col21\" >0.12</td>\n      <td id=\"T_a520e_row7_col22\" class=\"data row7 col22\" >0.61</td>\n      <td id=\"T_a520e_row7_col23\" class=\"data row7 col23\" >0.00</td>\n    </tr>\n    <tr>\n      <th id=\"T_a520e_level0_row8\" class=\"row_heading level0 row8\" >K</th>\n      <td id=\"T_a520e_row8_col0\" class=\"data row8 col0\" >0.35</td>\n      <td id=\"T_a520e_row8_col1\" class=\"data row8 col1\" >0.09</td>\n      <td id=\"T_a520e_row8_col2\" class=\"data row8 col2\" >0.32</td>\n      <td id=\"T_a520e_row8_col3\" class=\"data row8 col3\" >0.56</td>\n      <td id=\"T_a520e_row8_col4\" class=\"data row8 col4\" >0.11</td>\n      <td id=\"T_a520e_row8_col5\" class=\"data row8 col5\" >0.21</td>\n      <td id=\"T_a520e_row8_col6\" class=\"data row8 col6\" >0.29</td>\n      <td id=\"T_a520e_row8_col7\" class=\"data row8 col7\" >0.12</td>\n      <td id=\"T_a520e_row8_col8\" class=\"data row8 col8\" >1.00</td>\n      <td id=\"T_a520e_row8_col9\" class=\"data row8 col9\" >0.24</td>\n      <td id=\"T_a520e_row8_col10\" class=\"data row8 col10\" >0.33</td>\n      <td id=\"T_a520e_row8_col11\" class=\"data row8 col11\" >0.42</td>\n      <td id=\"T_a520e_row8_col12\" class=\"data row8 col12\" >0.30</td>\n      <td id=\"T_a520e_row8_col13\" class=\"data row8 col13\" >0.56</td>\n      <td id=\"T_a520e_row8_col14\" class=\"data row8 col14\" >0.67</td>\n      <td id=\"T_a520e_row8_col15\" class=\"data row8 col15\" >0.47</td>\n      <td id=\"T_a520e_row8_col16\" class=\"data row8 col16\" >0.33</td>\n      <td id=\"T_a520e_row8_col17\" class=\"data row8 col17\" >0.24</td>\n      <td id=\"T_a520e_row8_col18\" class=\"data row8 col18\" >0.09</td>\n      <td id=\"T_a520e_row8_col19\" class=\"data row8 col19\" >0.20</td>\n      <td id=\"T_a520e_row8_col20\" class=\"data row8 col20\" >0.47</td>\n      <td id=\"T_a520e_row8_col21\" class=\"data row8 col21\" >0.59</td>\n      <td id=\"T_a520e_row8_col22\" class=\"data row8 col22\" >0.58</td>\n      <td id=\"T_a520e_row8_col23\" class=\"data row8 col23\" >0.00</td>\n    </tr>\n    <tr>\n      <th id=\"T_a520e_level0_row9\" class=\"row_heading level0 row9\" >L</th>\n      <td id=\"T_a520e_row9_col0\" class=\"data row9 col0\" >0.38</td>\n      <td id=\"T_a520e_row9_col1\" class=\"data row9 col1\" >0.29</td>\n      <td id=\"T_a520e_row9_col2\" class=\"data row9 col2\" >0.00</td>\n      <td id=\"T_a520e_row9_col3\" class=\"data row9 col3\" >0.12</td>\n      <td id=\"T_a520e_row9_col4\" class=\"data row9 col4\" >0.45</td>\n      <td id=\"T_a520e_row9_col5\" class=\"data row9 col5\" >0.00</td>\n      <td id=\"T_a520e_row9_col6\" class=\"data row9 col6\" >0.10</td>\n      <td id=\"T_a520e_row9_col7\" class=\"data row9 col7\" >0.75</td>\n      <td id=\"T_a520e_row9_col8\" class=\"data row9 col8\" >0.24</td>\n      <td id=\"T_a520e_row9_col9\" class=\"data row9 col9\" >1.00</td>\n      <td id=\"T_a520e_row9_col10\" class=\"data row9 col10\" >0.71</td>\n      <td id=\"T_a520e_row9_col11\" class=\"data row9 col11\" >0.11</td>\n      <td id=\"T_a520e_row9_col12\" class=\"data row9 col12\" >0.11</td>\n      <td id=\"T_a520e_row9_col13\" class=\"data row9 col13\" >0.24</td>\n      <td id=\"T_a520e_row9_col14\" class=\"data row9 col14\" >0.24</td>\n      <td id=\"T_a520e_row9_col15\" class=\"data row9 col15\" >0.25</td>\n      <td id=\"T_a520e_row9_col16\" class=\"data row9 col16\" >0.35</td>\n      <td id=\"T_a520e_row9_col17\" class=\"data row9 col17\" >0.62</td>\n      <td id=\"T_a520e_row9_col18\" class=\"data row9 col18\" >0.18</td>\n      <td id=\"T_a520e_row9_col19\" class=\"data row9 col19\" >0.32</td>\n      <td id=\"T_a520e_row9_col20\" class=\"data row9 col20\" >0.00</td>\n      <td id=\"T_a520e_row9_col21\" class=\"data row9 col21\" >0.12</td>\n      <td id=\"T_a520e_row9_col22\" class=\"data row9 col22\" >0.61</td>\n      <td id=\"T_a520e_row9_col23\" class=\"data row9 col23\" >0.00</td>\n    </tr>\n    <tr>\n      <th id=\"T_a520e_level0_row10\" class=\"row_heading level0 row10\" >M</th>\n      <td id=\"T_a520e_row10_col0\" class=\"data row10 col0\" >0.35</td>\n      <td id=\"T_a520e_row10_col1\" class=\"data row10 col1\" >0.28</td>\n      <td id=\"T_a520e_row10_col2\" class=\"data row10 col2\" >0.11</td>\n      <td id=\"T_a520e_row10_col3\" class=\"data row10 col3\" >0.22</td>\n      <td id=\"T_a520e_row10_col4\" class=\"data row10 col4\" >0.42</td>\n      <td id=\"T_a520e_row10_col5\" class=\"data row10 col5\" >0.11</td>\n      <td id=\"T_a520e_row10_col6\" class=\"data row10 col6\" >0.19</td>\n      <td id=\"T_a520e_row10_col7\" class=\"data row10 col7\" >0.59</td>\n      <td id=\"T_a520e_row10_col8\" class=\"data row10 col8\" >0.33</td>\n      <td id=\"T_a520e_row10_col9\" class=\"data row10 col9\" >0.71</td>\n      <td id=\"T_a520e_row10_col10\" class=\"data row10 col10\" >1.00</td>\n      <td id=\"T_a520e_row10_col11\" class=\"data row10 col11\" >0.21</td>\n      <td id=\"T_a520e_row10_col12\" class=\"data row10 col12\" >0.20</td>\n      <td id=\"T_a520e_row10_col13\" class=\"data row10 col13\" >0.44</td>\n      <td id=\"T_a520e_row10_col14\" class=\"data row10 col14\" >0.33</td>\n      <td id=\"T_a520e_row10_col15\" class=\"data row10 col15\" >0.35</td>\n      <td id=\"T_a520e_row10_col16\" class=\"data row10 col16\" >0.33</td>\n      <td id=\"T_a520e_row10_col17\" class=\"data row10 col17\" >0.59</td>\n      <td id=\"T_a520e_row10_col18\" class=\"data row10 col18\" >0.26</td>\n      <td id=\"T_a520e_row10_col19\" class=\"data row10 col19\" >0.30</td>\n      <td id=\"T_a520e_row10_col20\" class=\"data row10 col20\" >0.12</td>\n      <td id=\"T_a520e_row10_col21\" class=\"data row10 col21\" >0.35</td>\n      <td id=\"T_a520e_row10_col22\" class=\"data row10 col22\" >0.58</td>\n      <td id=\"T_a520e_row10_col23\" class=\"data row10 col23\" >0.00</td>\n    </tr>\n    <tr>\n      <th id=\"T_a520e_level0_row11\" class=\"row_heading level0 row11\" >N</th>\n      <td id=\"T_a520e_row11_col0\" class=\"data row11 col0\" >0.22</td>\n      <td id=\"T_a520e_row11_col1\" class=\"data row11 col1\" >0.09</td>\n      <td id=\"T_a520e_row11_col2\" class=\"data row11 col2\" >0.50</td>\n      <td id=\"T_a520e_row11_col3\" class=\"data row11 col3\" >0.42</td>\n      <td id=\"T_a520e_row11_col4\" class=\"data row11 col4\" >0.10</td>\n      <td id=\"T_a520e_row11_col5\" class=\"data row11 col5\" >0.40</td>\n      <td id=\"T_a520e_row11_col6\" class=\"data row11 col6\" >0.46</td>\n      <td id=\"T_a520e_row11_col7\" class=\"data row11 col7\" >0.11</td>\n      <td id=\"T_a520e_row11_col8\" class=\"data row11 col8\" >0.42</td>\n      <td id=\"T_a520e_row11_col9\" class=\"data row11 col9\" >0.11</td>\n      <td id=\"T_a520e_row11_col10\" class=\"data row11 col10\" >0.21</td>\n      <td id=\"T_a520e_row11_col11\" class=\"data row11 col11\" >1.00</td>\n      <td id=\"T_a520e_row11_col12\" class=\"data row11 col12\" >0.19</td>\n      <td id=\"T_a520e_row11_col13\" class=\"data row11 col13\" >0.42</td>\n      <td id=\"T_a520e_row11_col14\" class=\"data row11 col14\" >0.42</td>\n      <td id=\"T_a520e_row11_col15\" class=\"data row11 col15\" >0.56</td>\n      <td id=\"T_a520e_row11_col16\" class=\"data row11 col16\" >0.42</td>\n      <td id=\"T_a520e_row11_col17\" class=\"data row11 col17\" >0.11</td>\n      <td id=\"T_a520e_row11_col18\" class=\"data row11 col18\" >0.00</td>\n      <td id=\"T_a520e_row11_col19\" class=\"data row11 col19\" >0.19</td>\n      <td id=\"T_a520e_row11_col20\" class=\"data row11 col20\" >0.78</td>\n      <td id=\"T_a520e_row11_col21\" class=\"data row11 col21\" >0.45</td>\n      <td id=\"T_a520e_row11_col22\" class=\"data row11 col22\" >0.55</td>\n      <td id=\"T_a520e_row11_col23\" class=\"data row11 col23\" >0.00</td>\n    </tr>\n    <tr>\n      <th id=\"T_a520e_level0_row12\" class=\"row_heading level0 row12\" >P</th>\n      <td id=\"T_a520e_row12_col0\" class=\"data row12 col0\" >0.32</td>\n      <td id=\"T_a520e_row12_col1\" class=\"data row12 col1\" >0.08</td>\n      <td id=\"T_a520e_row12_col2\" class=\"data row12 col2\" >0.29</td>\n      <td id=\"T_a520e_row12_col3\" class=\"data row12 col3\" >0.30</td>\n      <td id=\"T_a520e_row12_col4\" class=\"data row12 col4\" >0.00</td>\n      <td id=\"T_a520e_row12_col5\" class=\"data row12 col5\" >0.19</td>\n      <td id=\"T_a520e_row12_col6\" class=\"data row12 col6\" >0.17</td>\n      <td id=\"T_a520e_row12_col7\" class=\"data row12 col7\" >0.11</td>\n      <td id=\"T_a520e_row12_col8\" class=\"data row12 col8\" >0.30</td>\n      <td id=\"T_a520e_row12_col9\" class=\"data row12 col9\" >0.11</td>\n      <td id=\"T_a520e_row12_col10\" class=\"data row12 col10\" >0.20</td>\n      <td id=\"T_a520e_row12_col11\" class=\"data row12 col11\" >0.19</td>\n      <td id=\"T_a520e_row12_col12\" class=\"data row12 col12\" >1.00</td>\n      <td id=\"T_a520e_row12_col13\" class=\"data row12 col13\" >0.30</td>\n      <td id=\"T_a520e_row12_col14\" class=\"data row12 col14\" >0.20</td>\n      <td id=\"T_a520e_row12_col15\" class=\"data row12 col15\" >0.32</td>\n      <td id=\"T_a520e_row12_col16\" class=\"data row12 col16\" >0.30</td>\n      <td id=\"T_a520e_row12_col17\" class=\"data row12 col17\" >0.21</td>\n      <td id=\"T_a520e_row12_col18\" class=\"data row12 col18\" >0.00</td>\n      <td id=\"T_a520e_row12_col19\" class=\"data row12 col19\" >0.09</td>\n      <td id=\"T_a520e_row12_col20\" class=\"data row12 col20\" >0.21</td>\n      <td id=\"T_a520e_row12_col21\" class=\"data row12 col21\" >0.32</td>\n      <td id=\"T_a520e_row12_col22\" class=\"data row12 col22\" >0.35</td>\n      <td id=\"T_a520e_row12_col23\" class=\"data row12 col23\" >0.00</td>\n    </tr>\n    <tr>\n      <th id=\"T_a520e_level0_row13\" class=\"row_heading level0 row13\" >Q</th>\n      <td id=\"T_a520e_row13_col0\" class=\"data row13 col0\" >0.35</td>\n      <td id=\"T_a520e_row13_col1\" class=\"data row13 col1\" >0.09</td>\n      <td id=\"T_a520e_row13_col2\" class=\"data row13 col2\" >0.42</td>\n      <td id=\"T_a520e_row13_col3\" class=\"data row13 col3\" >0.67</td>\n      <td id=\"T_a520e_row13_col4\" class=\"data row13 col4\" >0.11</td>\n      <td id=\"T_a520e_row13_col5\" class=\"data row13 col5\" >0.21</td>\n      <td id=\"T_a520e_row13_col6\" class=\"data row13 col6\" >0.38</td>\n      <td id=\"T_a520e_row13_col7\" class=\"data row13 col7\" >0.12</td>\n      <td id=\"T_a520e_row13_col8\" class=\"data row13 col8\" >0.56</td>\n      <td id=\"T_a520e_row13_col9\" class=\"data row13 col9\" >0.24</td>\n      <td id=\"T_a520e_row13_col10\" class=\"data row13 col10\" >0.44</td>\n      <td id=\"T_a520e_row13_col11\" class=\"data row13 col11\" >0.42</td>\n      <td id=\"T_a520e_row13_col12\" class=\"data row13 col12\" >0.30</td>\n      <td id=\"T_a520e_row13_col13\" class=\"data row13 col13\" >1.00</td>\n      <td id=\"T_a520e_row13_col14\" class=\"data row13 col14\" >0.56</td>\n      <td id=\"T_a520e_row13_col15\" class=\"data row13 col15\" >0.47</td>\n      <td id=\"T_a520e_row13_col16\" class=\"data row13 col16\" >0.33</td>\n      <td id=\"T_a520e_row13_col17\" class=\"data row13 col17\" >0.24</td>\n      <td id=\"T_a520e_row13_col18\" class=\"data row13 col18\" >0.17</td>\n      <td id=\"T_a520e_row13_col19\" class=\"data row13 col19\" >0.30</td>\n      <td id=\"T_a520e_row13_col20\" class=\"data row13 col20\" >0.47</td>\n      <td id=\"T_a520e_row13_col21\" class=\"data row13 col21\" >0.82</td>\n      <td id=\"T_a520e_row13_col22\" class=\"data row13 col22\" >0.58</td>\n      <td id=\"T_a520e_row13_col23\" class=\"data row13 col23\" >0.00</td>\n    </tr>\n    <tr>\n      <th id=\"T_a520e_level0_row14\" class=\"row_heading level0 row14\" >R</th>\n      <td id=\"T_a520e_row14_col0\" class=\"data row14 col0\" >0.35</td>\n      <td id=\"T_a520e_row14_col1\" class=\"data row14 col1\" >0.09</td>\n      <td id=\"T_a520e_row14_col2\" class=\"data row14 col2\" >0.21</td>\n      <td id=\"T_a520e_row14_col3\" class=\"data row14 col3\" >0.44</td>\n      <td id=\"T_a520e_row14_col4\" class=\"data row14 col4\" >0.11</td>\n      <td id=\"T_a520e_row14_col5\" class=\"data row14 col5\" >0.21</td>\n      <td id=\"T_a520e_row14_col6\" class=\"data row14 col6\" >0.38</td>\n      <td id=\"T_a520e_row14_col7\" class=\"data row14 col7\" >0.12</td>\n      <td id=\"T_a520e_row14_col8\" class=\"data row14 col8\" >0.67</td>\n      <td id=\"T_a520e_row14_col9\" class=\"data row14 col9\" >0.24</td>\n      <td id=\"T_a520e_row14_col10\" class=\"data row14 col10\" >0.33</td>\n      <td id=\"T_a520e_row14_col11\" class=\"data row14 col11\" >0.42</td>\n      <td id=\"T_a520e_row14_col12\" class=\"data row14 col12\" >0.20</td>\n      <td id=\"T_a520e_row14_col13\" class=\"data row14 col13\" >0.56</td>\n      <td id=\"T_a520e_row14_col14\" class=\"data row14 col14\" >1.00</td>\n      <td id=\"T_a520e_row14_col15\" class=\"data row14 col15\" >0.35</td>\n      <td id=\"T_a520e_row14_col16\" class=\"data row14 col16\" >0.33</td>\n      <td id=\"T_a520e_row14_col17\" class=\"data row14 col17\" >0.12</td>\n      <td id=\"T_a520e_row14_col18\" class=\"data row14 col18\" >0.09</td>\n      <td id=\"T_a520e_row14_col19\" class=\"data row14 col19\" >0.20</td>\n      <td id=\"T_a520e_row14_col20\" class=\"data row14 col20\" >0.35</td>\n      <td id=\"T_a520e_row14_col21\" class=\"data row14 col21\" >0.47</td>\n      <td id=\"T_a520e_row14_col22\" class=\"data row14 col22\" >0.58</td>\n      <td id=\"T_a520e_row14_col23\" class=\"data row14 col23\" >0.00</td>\n    </tr>\n    <tr>\n      <th id=\"T_a520e_level0_row15\" class=\"row_heading level0 row15\" >S</th>\n      <td id=\"T_a520e_row15_col0\" class=\"data row15 col0\" >0.62</td>\n      <td id=\"T_a520e_row15_col1\" class=\"data row15 col1\" >0.29</td>\n      <td id=\"T_a520e_row15_col2\" class=\"data row15 col2\" >0.45</td>\n      <td id=\"T_a520e_row15_col3\" class=\"data row15 col3\" >0.47</td>\n      <td id=\"T_a520e_row15_col4\" class=\"data row15 col4\" >0.22</td>\n      <td id=\"T_a520e_row15_col5\" class=\"data row15 col5\" >0.45</td>\n      <td id=\"T_a520e_row15_col6\" class=\"data row15 col6\" >0.31</td>\n      <td id=\"T_a520e_row15_col7\" class=\"data row15 col7\" >0.25</td>\n      <td id=\"T_a520e_row15_col8\" class=\"data row15 col8\" >0.47</td>\n      <td id=\"T_a520e_row15_col9\" class=\"data row15 col9\" >0.25</td>\n      <td id=\"T_a520e_row15_col10\" class=\"data row15 col10\" >0.35</td>\n      <td id=\"T_a520e_row15_col11\" class=\"data row15 col11\" >0.56</td>\n      <td id=\"T_a520e_row15_col12\" class=\"data row15 col12\" >0.32</td>\n      <td id=\"T_a520e_row15_col13\" class=\"data row15 col13\" >0.47</td>\n      <td id=\"T_a520e_row15_col14\" class=\"data row15 col14\" >0.35</td>\n      <td id=\"T_a520e_row15_col15\" class=\"data row15 col15\" >1.00</td>\n      <td id=\"T_a520e_row15_col16\" class=\"data row15 col16\" >0.59</td>\n      <td id=\"T_a520e_row15_col17\" class=\"data row15 col17\" >0.25</td>\n      <td id=\"T_a520e_row15_col18\" class=\"data row15 col18\" >0.09</td>\n      <td id=\"T_a520e_row15_col19\" class=\"data row15 col19\" >0.21</td>\n      <td id=\"T_a520e_row15_col20\" class=\"data row15 col20\" >0.50</td>\n      <td id=\"T_a520e_row15_col21\" class=\"data row15 col21\" >0.50</td>\n      <td id=\"T_a520e_row15_col22\" class=\"data row15 col22\" >0.82</td>\n      <td id=\"T_a520e_row15_col23\" class=\"data row15 col23\" >0.00</td>\n    </tr>\n    <tr>\n      <th id=\"T_a520e_level0_row16\" class=\"row_heading level0 row16\" >T</th>\n      <td id=\"T_a520e_row16_col0\" class=\"data row16 col0\" >0.47</td>\n      <td id=\"T_a520e_row16_col1\" class=\"data row16 col1\" >0.28</td>\n      <td id=\"T_a520e_row16_col2\" class=\"data row16 col2\" >0.32</td>\n      <td id=\"T_a520e_row16_col3\" class=\"data row16 col3\" >0.33</td>\n      <td id=\"T_a520e_row16_col4\" class=\"data row16 col4\" >0.21</td>\n      <td id=\"T_a520e_row16_col5\" class=\"data row16 col5\" >0.21</td>\n      <td id=\"T_a520e_row16_col6\" class=\"data row16 col6\" >0.19</td>\n      <td id=\"T_a520e_row16_col7\" class=\"data row16 col7\" >0.35</td>\n      <td id=\"T_a520e_row16_col8\" class=\"data row16 col8\" >0.33</td>\n      <td id=\"T_a520e_row16_col9\" class=\"data row16 col9\" >0.35</td>\n      <td id=\"T_a520e_row16_col10\" class=\"data row16 col10\" >0.33</td>\n      <td id=\"T_a520e_row16_col11\" class=\"data row16 col11\" >0.42</td>\n      <td id=\"T_a520e_row16_col12\" class=\"data row16 col12\" >0.30</td>\n      <td id=\"T_a520e_row16_col13\" class=\"data row16 col13\" >0.33</td>\n      <td id=\"T_a520e_row16_col14\" class=\"data row16 col14\" >0.33</td>\n      <td id=\"T_a520e_row16_col15\" class=\"data row16 col15\" >0.59</td>\n      <td id=\"T_a520e_row16_col16\" class=\"data row16 col16\" >1.00</td>\n      <td id=\"T_a520e_row16_col17\" class=\"data row16 col17\" >0.47</td>\n      <td id=\"T_a520e_row16_col18\" class=\"data row16 col18\" >0.17</td>\n      <td id=\"T_a520e_row16_col19\" class=\"data row16 col19\" >0.20</td>\n      <td id=\"T_a520e_row16_col20\" class=\"data row16 col20\" >0.35</td>\n      <td id=\"T_a520e_row16_col21\" class=\"data row16 col21\" >0.35</td>\n      <td id=\"T_a520e_row16_col22\" class=\"data row16 col22\" >0.77</td>\n      <td id=\"T_a520e_row16_col23\" class=\"data row16 col23\" >0.00</td>\n    </tr>\n    <tr>\n      <th id=\"T_a520e_level0_row17\" class=\"row_heading level0 row17\" >V</th>\n      <td id=\"T_a520e_row17_col0\" class=\"data row17 col0\" >0.50</td>\n      <td id=\"T_a520e_row17_col1\" class=\"data row17 col1\" >0.29</td>\n      <td id=\"T_a520e_row17_col2\" class=\"data row17 col2\" >0.11</td>\n      <td id=\"T_a520e_row17_col3\" class=\"data row17 col3\" >0.24</td>\n      <td id=\"T_a520e_row17_col4\" class=\"data row17 col4\" >0.34</td>\n      <td id=\"T_a520e_row17_col5\" class=\"data row17 col5\" >0.11</td>\n      <td id=\"T_a520e_row17_col6\" class=\"data row17 col6\" >0.10</td>\n      <td id=\"T_a520e_row17_col7\" class=\"data row17 col7\" >0.88</td>\n      <td id=\"T_a520e_row17_col8\" class=\"data row17 col8\" >0.24</td>\n      <td id=\"T_a520e_row17_col9\" class=\"data row17 col9\" >0.62</td>\n      <td id=\"T_a520e_row17_col10\" class=\"data row17 col10\" >0.59</td>\n      <td id=\"T_a520e_row17_col11\" class=\"data row17 col11\" >0.11</td>\n      <td id=\"T_a520e_row17_col12\" class=\"data row17 col12\" >0.21</td>\n      <td id=\"T_a520e_row17_col13\" class=\"data row17 col13\" >0.24</td>\n      <td id=\"T_a520e_row17_col14\" class=\"data row17 col14\" >0.12</td>\n      <td id=\"T_a520e_row17_col15\" class=\"data row17 col15\" >0.25</td>\n      <td id=\"T_a520e_row17_col16\" class=\"data row17 col16\" >0.47</td>\n      <td id=\"T_a520e_row17_col17\" class=\"data row17 col17\" >1.00</td>\n      <td id=\"T_a520e_row17_col18\" class=\"data row17 col18\" >0.09</td>\n      <td id=\"T_a520e_row17_col19\" class=\"data row17 col19\" >0.32</td>\n      <td id=\"T_a520e_row17_col20\" class=\"data row17 col20\" >0.12</td>\n      <td id=\"T_a520e_row17_col21\" class=\"data row17 col21\" >0.25</td>\n      <td id=\"T_a520e_row17_col22\" class=\"data row17 col22\" >0.61</td>\n      <td id=\"T_a520e_row17_col23\" class=\"data row17 col23\" >0.00</td>\n    </tr>\n    <tr>\n      <th id=\"T_a520e_level0_row18\" class=\"row_heading level0 row18\" >W</th>\n      <td id=\"T_a520e_row18_col0\" class=\"data row18 col0\" >0.09</td>\n      <td id=\"T_a520e_row18_col1\" class=\"data row18 col1\" >0.14</td>\n      <td id=\"T_a520e_row18_col2\" class=\"data row18 col2\" >0.00</td>\n      <td id=\"T_a520e_row18_col3\" class=\"data row18 col3\" >0.09</td>\n      <td id=\"T_a520e_row18_col4\" class=\"data row18 col4\" >0.41</td>\n      <td id=\"T_a520e_row18_col5\" class=\"data row18 col5\" >0.16</td>\n      <td id=\"T_a520e_row18_col6\" class=\"data row18 col6\" >0.15</td>\n      <td id=\"T_a520e_row18_col7\" class=\"data row18 col7\" >0.09</td>\n      <td id=\"T_a520e_row18_col8\" class=\"data row18 col8\" >0.09</td>\n      <td id=\"T_a520e_row18_col9\" class=\"data row18 col9\" >0.18</td>\n      <td id=\"T_a520e_row18_col10\" class=\"data row18 col10\" >0.26</td>\n      <td id=\"T_a520e_row18_col11\" class=\"data row18 col11\" >0.00</td>\n      <td id=\"T_a520e_row18_col12\" class=\"data row18 col12\" >0.00</td>\n      <td id=\"T_a520e_row18_col13\" class=\"data row18 col13\" >0.17</td>\n      <td id=\"T_a520e_row18_col14\" class=\"data row18 col14\" >0.09</td>\n      <td id=\"T_a520e_row18_col15\" class=\"data row18 col15\" >0.09</td>\n      <td id=\"T_a520e_row18_col16\" class=\"data row18 col16\" >0.17</td>\n      <td id=\"T_a520e_row18_col17\" class=\"data row18 col17\" >0.09</td>\n      <td id=\"T_a520e_row18_col18\" class=\"data row18 col18\" >1.00</td>\n      <td id=\"T_a520e_row18_col19\" class=\"data row18 col19\" >0.47</td>\n      <td id=\"T_a520e_row18_col20\" class=\"data row18 col20\" >0.00</td>\n      <td id=\"T_a520e_row18_col21\" class=\"data row18 col21\" >0.09</td>\n      <td id=\"T_a520e_row18_col22\" class=\"data row18 col22\" >0.30</td>\n      <td id=\"T_a520e_row18_col23\" class=\"data row18 col23\" >0.00</td>\n    </tr>\n    <tr>\n      <th id=\"T_a520e_level0_row19\" class=\"row_heading level0 row19\" >Y</th>\n      <td id=\"T_a520e_row19_col0\" class=\"data row19 col0\" >0.21</td>\n      <td id=\"T_a520e_row19_col1\" class=\"data row19 col1\" >0.17</td>\n      <td id=\"T_a520e_row19_col2\" class=\"data row19 col2\" >0.10</td>\n      <td id=\"T_a520e_row19_col3\" class=\"data row19 col3\" >0.20</td>\n      <td id=\"T_a520e_row19_col4\" class=\"data row19 col4\" >0.67</td>\n      <td id=\"T_a520e_row19_col5\" class=\"data row19 col5\" >0.10</td>\n      <td id=\"T_a520e_row19_col6\" class=\"data row19 col6\" >0.52</td>\n      <td id=\"T_a520e_row19_col7\" class=\"data row19 col7\" >0.32</td>\n      <td id=\"T_a520e_row19_col8\" class=\"data row19 col8\" >0.20</td>\n      <td id=\"T_a520e_row19_col9\" class=\"data row19 col9\" >0.32</td>\n      <td id=\"T_a520e_row19_col10\" class=\"data row19 col10\" >0.30</td>\n      <td id=\"T_a520e_row19_col11\" class=\"data row19 col11\" >0.19</td>\n      <td id=\"T_a520e_row19_col12\" class=\"data row19 col12\" >0.09</td>\n      <td id=\"T_a520e_row19_col13\" class=\"data row19 col13\" >0.30</td>\n      <td id=\"T_a520e_row19_col14\" class=\"data row19 col14\" >0.20</td>\n      <td id=\"T_a520e_row19_col15\" class=\"data row19 col15\" >0.21</td>\n      <td id=\"T_a520e_row19_col16\" class=\"data row19 col16\" >0.20</td>\n      <td id=\"T_a520e_row19_col17\" class=\"data row19 col17\" >0.32</td>\n      <td id=\"T_a520e_row19_col18\" class=\"data row19 col18\" >0.47</td>\n      <td id=\"T_a520e_row19_col19\" class=\"data row19 col19\" >1.00</td>\n      <td id=\"T_a520e_row19_col20\" class=\"data row19 col20\" >0.11</td>\n      <td id=\"T_a520e_row19_col21\" class=\"data row19 col21\" >0.21</td>\n      <td id=\"T_a520e_row19_col22\" class=\"data row19 col22\" >0.52</td>\n      <td id=\"T_a520e_row19_col23\" class=\"data row19 col23\" >0.00</td>\n    </tr>\n    <tr>\n      <th id=\"T_a520e_level0_row20\" class=\"row_heading level0 row20\" >B</th>\n      <td id=\"T_a520e_row20_col0\" class=\"data row20 col0\" >0.25</td>\n      <td id=\"T_a520e_row20_col1\" class=\"data row20 col1\" >0.10</td>\n      <td id=\"T_a520e_row20_col2\" class=\"data row20 col2\" >0.89</td>\n      <td id=\"T_a520e_row20_col3\" class=\"data row20 col3\" >0.59</td>\n      <td id=\"T_a520e_row20_col4\" class=\"data row20 col4\" >0.11</td>\n      <td id=\"T_a520e_row20_col5\" class=\"data row20 col5\" >0.34</td>\n      <td id=\"T_a520e_row20_col6\" class=\"data row20 col6\" >0.41</td>\n      <td id=\"T_a520e_row20_col7\" class=\"data row20 col7\" >0.12</td>\n      <td id=\"T_a520e_row20_col8\" class=\"data row20 col8\" >0.47</td>\n      <td id=\"T_a520e_row20_col9\" class=\"data row20 col9\" >0.00</td>\n      <td id=\"T_a520e_row20_col10\" class=\"data row20 col10\" >0.12</td>\n      <td id=\"T_a520e_row20_col11\" class=\"data row20 col11\" >0.78</td>\n      <td id=\"T_a520e_row20_col12\" class=\"data row20 col12\" >0.21</td>\n      <td id=\"T_a520e_row20_col13\" class=\"data row20 col13\" >0.47</td>\n      <td id=\"T_a520e_row20_col14\" class=\"data row20 col14\" >0.35</td>\n      <td id=\"T_a520e_row20_col15\" class=\"data row20 col15\" >0.50</td>\n      <td id=\"T_a520e_row20_col16\" class=\"data row20 col16\" >0.35</td>\n      <td id=\"T_a520e_row20_col17\" class=\"data row20 col17\" >0.12</td>\n      <td id=\"T_a520e_row20_col18\" class=\"data row20 col18\" >0.00</td>\n      <td id=\"T_a520e_row20_col19\" class=\"data row20 col19\" >0.11</td>\n      <td id=\"T_a520e_row20_col20\" class=\"data row20 col20\" >1.00</td>\n      <td id=\"T_a520e_row20_col21\" class=\"data row20 col21\" >0.62</td>\n      <td id=\"T_a520e_row20_col22\" class=\"data row20 col22\" >0.61</td>\n      <td id=\"T_a520e_row20_col23\" class=\"data row20 col23\" >0.00</td>\n    </tr>\n    <tr>\n      <th id=\"T_a520e_level0_row21\" class=\"row_heading level0 row21\" >Z</th>\n      <td id=\"T_a520e_row21_col0\" class=\"data row21 col0\" >0.38</td>\n      <td id=\"T_a520e_row21_col1\" class=\"data row21 col1\" >0.10</td>\n      <td id=\"T_a520e_row21_col2\" class=\"data row21 col2\" >0.56</td>\n      <td id=\"T_a520e_row21_col3\" class=\"data row21 col3\" >0.94</td>\n      <td id=\"T_a520e_row21_col4\" class=\"data row21 col4\" >0.11</td>\n      <td id=\"T_a520e_row21_col5\" class=\"data row21 col5\" >0.22</td>\n      <td id=\"T_a520e_row21_col6\" class=\"data row21 col6\" >0.41</td>\n      <td id=\"T_a520e_row21_col7\" class=\"data row21 col7\" >0.12</td>\n      <td id=\"T_a520e_row21_col8\" class=\"data row21 col8\" >0.59</td>\n      <td id=\"T_a520e_row21_col9\" class=\"data row21 col9\" >0.12</td>\n      <td id=\"T_a520e_row21_col10\" class=\"data row21 col10\" >0.35</td>\n      <td id=\"T_a520e_row21_col11\" class=\"data row21 col11\" >0.45</td>\n      <td id=\"T_a520e_row21_col12\" class=\"data row21 col12\" >0.32</td>\n      <td id=\"T_a520e_row21_col13\" class=\"data row21 col13\" >0.82</td>\n      <td id=\"T_a520e_row21_col14\" class=\"data row21 col14\" >0.47</td>\n      <td id=\"T_a520e_row21_col15\" class=\"data row21 col15\" >0.50</td>\n      <td id=\"T_a520e_row21_col16\" class=\"data row21 col16\" >0.35</td>\n      <td id=\"T_a520e_row21_col17\" class=\"data row21 col17\" >0.25</td>\n      <td id=\"T_a520e_row21_col18\" class=\"data row21 col18\" >0.09</td>\n      <td id=\"T_a520e_row21_col19\" class=\"data row21 col19\" >0.21</td>\n      <td id=\"T_a520e_row21_col20\" class=\"data row21 col20\" >0.62</td>\n      <td id=\"T_a520e_row21_col21\" class=\"data row21 col21\" >1.00</td>\n      <td id=\"T_a520e_row21_col22\" class=\"data row21 col22\" >0.61</td>\n      <td id=\"T_a520e_row21_col23\" class=\"data row21 col23\" >0.00</td>\n    </tr>\n    <tr>\n      <th id=\"T_a520e_level0_row22\" class=\"row_heading level0 row22\" >X</th>\n      <td id=\"T_a520e_row22_col0\" class=\"data row22 col0\" >0.82</td>\n      <td id=\"T_a520e_row22_col1\" class=\"data row22 col1\" >0.32</td>\n      <td id=\"T_a520e_row22_col2\" class=\"data row22 col2\" >0.55</td>\n      <td id=\"T_a520e_row22_col3\" class=\"data row22 col3\" >0.58</td>\n      <td id=\"T_a520e_row22_col4\" class=\"data row22 col4\" >0.55</td>\n      <td id=\"T_a520e_row22_col5\" class=\"data row22 col5\" >0.55</td>\n      <td id=\"T_a520e_row22_col6\" class=\"data row22 col6\" >0.50</td>\n      <td id=\"T_a520e_row22_col7\" class=\"data row22 col7\" >0.61</td>\n      <td id=\"T_a520e_row22_col8\" class=\"data row22 col8\" >0.58</td>\n      <td id=\"T_a520e_row22_col9\" class=\"data row22 col9\" >0.61</td>\n      <td id=\"T_a520e_row22_col10\" class=\"data row22 col10\" >0.58</td>\n      <td id=\"T_a520e_row22_col11\" class=\"data row22 col11\" >0.55</td>\n      <td id=\"T_a520e_row22_col12\" class=\"data row22 col12\" >0.35</td>\n      <td id=\"T_a520e_row22_col13\" class=\"data row22 col13\" >0.58</td>\n      <td id=\"T_a520e_row22_col14\" class=\"data row22 col14\" >0.58</td>\n      <td id=\"T_a520e_row22_col15\" class=\"data row22 col15\" >0.82</td>\n      <td id=\"T_a520e_row22_col16\" class=\"data row22 col16\" >0.77</td>\n      <td id=\"T_a520e_row22_col17\" class=\"data row22 col17\" >0.61</td>\n      <td id=\"T_a520e_row22_col18\" class=\"data row22 col18\" >0.30</td>\n      <td id=\"T_a520e_row22_col19\" class=\"data row22 col19\" >0.52</td>\n      <td id=\"T_a520e_row22_col20\" class=\"data row22 col20\" >0.61</td>\n      <td id=\"T_a520e_row22_col21\" class=\"data row22 col21\" >0.61</td>\n      <td id=\"T_a520e_row22_col22\" class=\"data row22 col22\" >1.00</td>\n      <td id=\"T_a520e_row22_col23\" class=\"data row22 col23\" >0.00</td>\n    </tr>\n    <tr>\n      <th id=\"T_a520e_level0_row23\" class=\"row_heading level0 row23\" >*</th>\n      <td id=\"T_a520e_row23_col0\" class=\"data row23 col0\" >0.00</td>\n      <td id=\"T_a520e_row23_col1\" class=\"data row23 col1\" >0.00</td>\n      <td id=\"T_a520e_row23_col2\" class=\"data row23 col2\" >0.00</td>\n      <td id=\"T_a520e_row23_col3\" class=\"data row23 col3\" >0.00</td>\n      <td id=\"T_a520e_row23_col4\" class=\"data row23 col4\" >0.00</td>\n      <td id=\"T_a520e_row23_col5\" class=\"data row23 col5\" >0.00</td>\n      <td id=\"T_a520e_row23_col6\" class=\"data row23 col6\" >0.00</td>\n      <td id=\"T_a520e_row23_col7\" class=\"data row23 col7\" >0.00</td>\n      <td id=\"T_a520e_row23_col8\" class=\"data row23 col8\" >0.00</td>\n      <td id=\"T_a520e_row23_col9\" class=\"data row23 col9\" >0.00</td>\n      <td id=\"T_a520e_row23_col10\" class=\"data row23 col10\" >0.00</td>\n      <td id=\"T_a520e_row23_col11\" class=\"data row23 col11\" >0.00</td>\n      <td id=\"T_a520e_row23_col12\" class=\"data row23 col12\" >0.00</td>\n      <td id=\"T_a520e_row23_col13\" class=\"data row23 col13\" >0.00</td>\n      <td id=\"T_a520e_row23_col14\" class=\"data row23 col14\" >0.00</td>\n      <td id=\"T_a520e_row23_col15\" class=\"data row23 col15\" >0.00</td>\n      <td id=\"T_a520e_row23_col16\" class=\"data row23 col16\" >0.00</td>\n      <td id=\"T_a520e_row23_col17\" class=\"data row23 col17\" >0.00</td>\n      <td id=\"T_a520e_row23_col18\" class=\"data row23 col18\" >0.00</td>\n      <td id=\"T_a520e_row23_col19\" class=\"data row23 col19\" >0.00</td>\n      <td id=\"T_a520e_row23_col20\" class=\"data row23 col20\" >0.00</td>\n      <td id=\"T_a520e_row23_col21\" class=\"data row23 col21\" >0.00</td>\n      <td id=\"T_a520e_row23_col22\" class=\"data row23 col22\" >0.00</td>\n      <td id=\"T_a520e_row23_col23\" class=\"data row23 col23\" >1.00</td>\n    </tr>\n  </tbody>\n</table>\n"
     },
     "execution_count": 12,
     "metadata": {},
     "output_type": "execute_result"
    }
   ],
   "source": [
    "_translate_rescale_substitution_matrix().style.format(\"{:.2f}\")"
   ]
  },
  {
   "cell_type": "markdown",
   "metadata": {},
   "source": [
    "Let's define a function that calculates the substitution scores between two sequences (will make use of the previously defined function)."
   ]
  },
  {
   "cell_type": "code",
   "execution_count": 13,
   "metadata": {
    "ExecuteTime": {
     "end_time": "2024-01-18T09:12:52.765972600Z",
     "start_time": "2024-01-18T09:12:52.669867400Z"
    }
   },
   "outputs": [],
   "source": [
    "def substitution_score(\n",
    "    sequence1, sequence2, substitution_matrix=align.SubstitutionMatrix.std_protein_matrix()\n",
    "):\n",
    "    \"\"\"\n",
    "    Retrieve the match score given the substitution matrix.\n",
    "\n",
    "    Parameters\n",
    "    ----------\n",
    "    sequence1 : np.array\n",
    "        An array of characters describing the first sequence.\n",
    "    sequence2 : np.array\n",
    "        An array of characters describing the second sequence.\n",
    "    substitution_matrix : biotite.sequence.align.SubstitutionMatrix\n",
    "        A substitution matrix specific to amino acids.\n",
    "        The default is align.SubstitutionMatrix.std_protein_matrix()\n",
    "        from biotite, which represents BLOSUM62.\n",
    "\n",
    "    Returns\n",
    "    -------\n",
    "    np.array\n",
    "        The vector of match score\n",
    "        using the normalized substitution matrix.\n",
    "    \"\"\"\n",
    "    substitution_matrix_df = _translate_rescale_substitution_matrix(substitution_matrix)\n",
    "\n",
    "    match_score_array = np.zeros(len(sequence1))\n",
    "    for i, (character_seq1, character_seq2) in enumerate(zip(sequence1, sequence2)):\n",
    "        match_score_array[i] = substitution_matrix_df.loc[character_seq1, character_seq2]\n",
    "    return match_score_array"
   ]
  },
  {
   "cell_type": "markdown",
   "metadata": {
    "tags": []
   },
   "source": [
    "### Kinase similarity"
   ]
  },
  {
   "cell_type": "markdown",
   "metadata": {},
   "source": [
    "Given two kinases, we create a function which computes the sequence similarity between them using one of the two measures, the identity or the substitution."
   ]
  },
  {
   "cell_type": "code",
   "execution_count": 14,
   "metadata": {
    "ExecuteTime": {
     "end_time": "2024-01-18T09:12:52.768294600Z",
     "start_time": "2024-01-18T09:12:52.671025100Z"
    }
   },
   "outputs": [],
   "source": [
    "def sequence_similarity(sequence_1, sequence_2, type_=\"identity\"):\n",
    "    \"\"\"\n",
    "    Compares two sequences using a given metric.\n",
    "\n",
    "    Parameters\n",
    "    ----------\n",
    "    sequence_1, sequence_2 : str\n",
    "        The two sequences of strings for comparison.\n",
    "\n",
    "    type_ : str\n",
    "        The type of metric to compute the similarity.\n",
    "        The default is `identity`.\n",
    "\n",
    "    Returns\n",
    "    -------\n",
    "    float :\n",
    "        The similarity between the pocket sequences of the two kinases.\n",
    "    \"\"\"\n",
    "\n",
    "    # Replace possible unavailable residue\n",
    "    # noted in KLIFS with \"-\"\n",
    "    # by the symbol \"*\" for biotite\n",
    "    sequence_1 = sequence_1.replace(\"-\", \"*\")\n",
    "    sequence_2 = sequence_2.replace(\"-\", \"*\")\n",
    "\n",
    "    if len(sequence_1) != len(sequence_1):\n",
    "        raise ValueError(f\"Mismatch in sequence lengths.\")\n",
    "    else:\n",
    "        seq_array1 = np.array(list(sequence_1))\n",
    "        seq_array2 = np.array(list(sequence_2))\n",
    "\n",
    "        if type_ == \"identity\":\n",
    "            is_match_array = identity_score(seq_array1, seq_array2)\n",
    "            similarity_normed = sum(is_match_array) / len(sequence_1)\n",
    "        elif type_ == \"substitution\":\n",
    "            match_score_array = substitution_score(seq_array1, seq_array2)\n",
    "            similarity_normed = sum(match_score_array) / len(sequence_1)\n",
    "        else:\n",
    "            raise ValueError(f\"Type {type_} not defined.\")\n",
    "\n",
    "        return similarity_normed"
   ]
  },
  {
   "cell_type": "markdown",
   "metadata": {},
   "source": [
    "Let's look at the sequence similarity between two kinases (see also Figure 2):"
   ]
  },
  {
   "cell_type": "code",
   "execution_count": 15,
   "metadata": {
    "ExecuteTime": {
     "end_time": "2024-01-18T09:12:52.775273600Z",
     "start_time": "2024-01-18T09:12:52.672033Z"
    }
   },
   "outputs": [
    {
     "name": "stdout",
     "output_type": "stream",
     "text": [
      "The sequences are:\n",
      "\n",
      "EGFR : KVLGSGAFGTVYKVAIKELEILDEAYVMASVDPHVCRLLGIQLITQLMPFGCLLDYVREYLEDRRLVHRDLAARNVLVITDFGLA\n",
      "MET  : EVIGRGHFGCVYHCAVKSLQFLTEGIIMKDFSPNVLSLLGILVVLPYMKHGDLRNFIRNYLASKKFVHRDLAARNCMLVADFGLA\n"
     ]
    }
   ],
   "source": [
    "if DEMO:\n",
    "    example1 = \"EGFR\"\n",
    "    example2 = \"MET\"\n",
    "else:\n",
    "    example1 = kinase_selection_df[\"kinase_klifs\"][0]\n",
    "    example2 = kinase_selection_df[\"kinase_klifs\"][1]\n",
    "\n",
    "print(\"The sequences are:\\n\")\n",
    "for key in (example1, example2):\n",
    "    print(f\"{key:5s}: {kinase_sequences_dict[key]}\")\n",
    "# NBVAL_CHECK_OUTPUT"
   ]
  },
  {
   "cell_type": "code",
   "execution_count": 16,
   "metadata": {
    "ExecuteTime": {
     "end_time": "2024-01-18T09:12:52.899680800Z",
     "start_time": "2024-01-18T09:12:52.679500900Z"
    }
   },
   "outputs": [
    {
     "name": "stdout",
     "output_type": "stream",
     "text": [
      "Pocket sequence similarity between EGFR and MET kinases: 0.46 using identity.\n"
     ]
    }
   ],
   "source": [
    "example_seq_similarity = sequence_similarity(\n",
    "    kinase_sequences_dict[example1], kinase_sequences_dict[example2], \"identity\"\n",
    ")\n",
    "\n",
    "print(\n",
    "    f\"Pocket sequence similarity between {example1} and {example2} kinases: \"\n",
    "    f\"{example_seq_similarity:.2f} using identity.\"\n",
    ")\n",
    "# NBVAL_CHECK_OUTPUT"
   ]
  },
  {
   "cell_type": "code",
   "execution_count": 17,
   "metadata": {
    "ExecuteTime": {
     "end_time": "2024-01-18T09:12:52.922802Z",
     "start_time": "2024-01-18T09:12:52.697633600Z"
    }
   },
   "outputs": [
    {
     "name": "stdout",
     "output_type": "stream",
     "text": [
      "Pocket sequence similarity between EGFR and MET kinases: 0.71 using substitution.\n"
     ]
    }
   ],
   "source": [
    "example_seq_similarity = sequence_similarity(\n",
    "    kinase_sequences_dict[example1], kinase_sequences_dict[example2], \"substitution\"\n",
    ")\n",
    "print(\n",
    "    f\"Pocket sequence similarity between {example1} and {example2} kinases: \"\n",
    "    f\"{example_seq_similarity:.2f} using substitution.\"\n",
    ")\n",
    "# NBVAL_CHECK_OUTPUT"
   ]
  },
  {
   "cell_type": "markdown",
   "metadata": {
    "tags": []
   },
   "source": [
    "![EGFR and MET similarity](images/sequence_similarity.png)\n",
    "\n",
    "_Figure 2:_\n",
    "Sequences and sequence similarity between the kinases EGFR and MET."
   ]
  },
  {
   "cell_type": "markdown",
   "metadata": {},
   "source": [
    "We can also look at self-similarity:"
   ]
  },
  {
   "cell_type": "code",
   "execution_count": 18,
   "metadata": {
    "ExecuteTime": {
     "end_time": "2024-01-18T09:12:52.926559900Z",
     "start_time": "2024-01-18T09:12:52.728752900Z"
    }
   },
   "outputs": [
    {
     "name": "stdout",
     "output_type": "stream",
     "text": [
      "Pocket sequence similarity between EGFR itself: 1.00 using identity.\n"
     ]
    }
   ],
   "source": [
    "example_seq_similarity = sequence_similarity(\n",
    "    kinase_sequences_dict[example1], kinase_sequences_dict[example1], type_=\"identity\"\n",
    ")\n",
    "print(\n",
    "    f\"Pocket sequence similarity between {example1} itself: \"\n",
    "    f\"{example_seq_similarity:.2f} using identity.\"\n",
    ")\n",
    "# NBVAL_CHECK_OUTPUT"
   ]
  },
  {
   "cell_type": "code",
   "execution_count": 19,
   "metadata": {
    "ExecuteTime": {
     "end_time": "2024-01-18T09:12:52.949157500Z",
     "start_time": "2024-01-18T09:12:52.761101200Z"
    }
   },
   "outputs": [
    {
     "name": "stdout",
     "output_type": "stream",
     "text": [
      "Pocket sequence similarity between EGFR itself: 1.00 using substitution.\n"
     ]
    }
   ],
   "source": [
    "example_seq_similarity = sequence_similarity(\n",
    "    kinase_sequences_dict[example1], kinase_sequences_dict[example1], type_=\"substitution\"\n",
    ")\n",
    "print(\n",
    "    f\"Pocket sequence similarity between {example1} itself: \"\n",
    "    f\"{example_seq_similarity:.2f} using substitution.\"\n",
    ")\n",
    "# NBVAL_CHECK_OUTPUT"
   ]
  },
  {
   "cell_type": "markdown",
   "metadata": {},
   "source": [
    "As expected, the similarity between a kinase and itself leads to the highest possible score:"
   ]
  },
  {
   "cell_type": "markdown",
   "metadata": {},
   "source": [
    "#### Visualize similarity as kinase matrix"
   ]
  },
  {
   "cell_type": "code",
   "execution_count": 20,
   "metadata": {
    "ExecuteTime": {
     "end_time": "2024-01-18T09:12:52.951279700Z",
     "start_time": "2024-01-18T09:12:52.794178100Z"
    }
   },
   "outputs": [],
   "source": [
    "def pairwise_kinase_similarities(kinase_sequence_dictionary, similarity_measure):\n",
    "    \"\"\"\n",
    "    Calculate pairwise similarities between a set of kinases.\n",
    "\n",
    "    Parameters\n",
    "    ----------\n",
    "    kinase_sequence_dictionary : dict\n",
    "        A dictionary containing the kinase name as key\n",
    "        and the kinase sequence as value.\n",
    "    similarity_measure : str\n",
    "        Select similarity measure: \"identity\" or \"substitution\".\n",
    "\n",
    "    Returns\n",
    "    -------\n",
    "    pd.DataFrame\n",
    "        All-against-all similarities between input kinases.\n",
    "    \"\"\"\n",
    "    # Initialize matrix with 0\n",
    "    kinase_similarity_matrix = np.zeros(\n",
    "        (len(kinase_sequence_dictionary), len(kinase_sequence_dictionary))\n",
    "    )\n",
    "    # Iterate over matrix and fill with similarity values\n",
    "    for i, kinase_sequence1 in enumerate(kinase_sequence_dictionary.values()):\n",
    "        for j, kinase_sequence2 in enumerate(kinase_sequence_dictionary.values()):\n",
    "            kinase_similarity_matrix[i, j] = sequence_similarity(\n",
    "                kinase_sequence1, kinase_sequence2, similarity_measure\n",
    "            )\n",
    "\n",
    "    # Cast matrix to DataFrame\n",
    "    kinase_similarity_matrix_df = pd.DataFrame(\n",
    "        data=kinase_similarity_matrix,\n",
    "        index=kinase_sequences_dict.keys(),\n",
    "        columns=kinase_sequences_dict.keys(),\n",
    "    )\n",
    "    kinase_similarity_matrix_df.index.name = None\n",
    "    kinase_similarity_matrix_df.columns.name = None\n",
    "\n",
    "    # Check for symmetry\n",
    "    symmetric = (\n",
    "        kinase_similarity_matrix_df.values == kinase_similarity_matrix_df.values.transpose()\n",
    "    ).all()\n",
    "    if not symmetric:\n",
    "        raise ValueError(f\"Matrix is not symmetric.\")\n",
    "\n",
    "    return kinase_similarity_matrix_df"
   ]
  },
  {
   "cell_type": "markdown",
   "metadata": {},
   "source": [
    "We visualize the similarity matrices using identity and substitution:"
   ]
  },
  {
   "cell_type": "markdown",
   "metadata": {},
   "source": [
    "##### Kinase similarity matrix: Identity"
   ]
  },
  {
   "cell_type": "code",
   "execution_count": 21,
   "metadata": {
    "ExecuteTime": {
     "end_time": "2024-01-18T09:12:53.027787300Z",
     "start_time": "2024-01-18T09:12:52.804433800Z"
    }
   },
   "outputs": [
    {
     "data": {
      "text/plain": "           EGFR     ErbB2     p110a       KDR      BRAF      CDK2       LCK  \\\nEGFR   1.000000  0.894118  0.117647  0.470588  0.376471  0.317647  0.447059   \nErbB2  0.894118  1.000000  0.117647  0.435294  0.400000  0.329412  0.423529   \np110a  0.117647  0.117647  1.000000  0.152941  0.152941  0.105882  0.141176   \nKDR    0.470588  0.435294  0.152941  1.000000  0.400000  0.341176  0.435294   \nBRAF   0.376471  0.400000  0.152941  0.400000  1.000000  0.329412  0.388235   \nCDK2   0.317647  0.329412  0.105882  0.341176  0.329412  1.000000  0.376471   \nLCK    0.447059  0.423529  0.141176  0.435294  0.388235  0.376471  1.000000   \nMET    0.458824  0.470588  0.105882  0.470588  0.376471  0.364706  0.400000   \np38a   0.388235  0.400000  0.141176  0.388235  0.376471  0.470588  0.388235   \n\n            MET      p38a  \nEGFR   0.458824  0.388235  \nErbB2  0.470588  0.400000  \np110a  0.105882  0.141176  \nKDR    0.470588  0.388235  \nBRAF   0.376471  0.376471  \nCDK2   0.364706  0.470588  \nLCK    0.400000  0.388235  \nMET    1.000000  0.364706  \np38a   0.364706  1.000000  ",
      "text/html": "<div>\n<style scoped>\n    .dataframe tbody tr th:only-of-type {\n        vertical-align: middle;\n    }\n\n    .dataframe tbody tr th {\n        vertical-align: top;\n    }\n\n    .dataframe thead th {\n        text-align: right;\n    }\n</style>\n<table border=\"1\" class=\"dataframe\">\n  <thead>\n    <tr style=\"text-align: right;\">\n      <th></th>\n      <th>EGFR</th>\n      <th>ErbB2</th>\n      <th>p110a</th>\n      <th>KDR</th>\n      <th>BRAF</th>\n      <th>CDK2</th>\n      <th>LCK</th>\n      <th>MET</th>\n      <th>p38a</th>\n    </tr>\n  </thead>\n  <tbody>\n    <tr>\n      <th>EGFR</th>\n      <td>1.000000</td>\n      <td>0.894118</td>\n      <td>0.117647</td>\n      <td>0.470588</td>\n      <td>0.376471</td>\n      <td>0.317647</td>\n      <td>0.447059</td>\n      <td>0.458824</td>\n      <td>0.388235</td>\n    </tr>\n    <tr>\n      <th>ErbB2</th>\n      <td>0.894118</td>\n      <td>1.000000</td>\n      <td>0.117647</td>\n      <td>0.435294</td>\n      <td>0.400000</td>\n      <td>0.329412</td>\n      <td>0.423529</td>\n      <td>0.470588</td>\n      <td>0.400000</td>\n    </tr>\n    <tr>\n      <th>p110a</th>\n      <td>0.117647</td>\n      <td>0.117647</td>\n      <td>1.000000</td>\n      <td>0.152941</td>\n      <td>0.152941</td>\n      <td>0.105882</td>\n      <td>0.141176</td>\n      <td>0.105882</td>\n      <td>0.141176</td>\n    </tr>\n    <tr>\n      <th>KDR</th>\n      <td>0.470588</td>\n      <td>0.435294</td>\n      <td>0.152941</td>\n      <td>1.000000</td>\n      <td>0.400000</td>\n      <td>0.341176</td>\n      <td>0.435294</td>\n      <td>0.470588</td>\n      <td>0.388235</td>\n    </tr>\n    <tr>\n      <th>BRAF</th>\n      <td>0.376471</td>\n      <td>0.400000</td>\n      <td>0.152941</td>\n      <td>0.400000</td>\n      <td>1.000000</td>\n      <td>0.329412</td>\n      <td>0.388235</td>\n      <td>0.376471</td>\n      <td>0.376471</td>\n    </tr>\n    <tr>\n      <th>CDK2</th>\n      <td>0.317647</td>\n      <td>0.329412</td>\n      <td>0.105882</td>\n      <td>0.341176</td>\n      <td>0.329412</td>\n      <td>1.000000</td>\n      <td>0.376471</td>\n      <td>0.364706</td>\n      <td>0.470588</td>\n    </tr>\n    <tr>\n      <th>LCK</th>\n      <td>0.447059</td>\n      <td>0.423529</td>\n      <td>0.141176</td>\n      <td>0.435294</td>\n      <td>0.388235</td>\n      <td>0.376471</td>\n      <td>1.000000</td>\n      <td>0.400000</td>\n      <td>0.388235</td>\n    </tr>\n    <tr>\n      <th>MET</th>\n      <td>0.458824</td>\n      <td>0.470588</td>\n      <td>0.105882</td>\n      <td>0.470588</td>\n      <td>0.376471</td>\n      <td>0.364706</td>\n      <td>0.400000</td>\n      <td>1.000000</td>\n      <td>0.364706</td>\n    </tr>\n    <tr>\n      <th>p38a</th>\n      <td>0.388235</td>\n      <td>0.400000</td>\n      <td>0.141176</td>\n      <td>0.388235</td>\n      <td>0.376471</td>\n      <td>0.470588</td>\n      <td>0.388235</td>\n      <td>0.364706</td>\n      <td>1.000000</td>\n    </tr>\n  </tbody>\n</table>\n</div>"
     },
     "execution_count": 21,
     "metadata": {},
     "output_type": "execute_result"
    }
   ],
   "source": [
    "kinase_similarity_matrix_identity_df = pairwise_kinase_similarities(\n",
    "    kinase_sequences_dict, similarity_measure=\"identity\"\n",
    ")\n",
    "kinase_similarity_matrix_identity_df\n",
    "# NBVAL_CHECK_OUTPUT"
   ]
  },
  {
   "cell_type": "code",
   "execution_count": 22,
   "metadata": {
    "ExecuteTime": {
     "end_time": "2024-01-18T09:12:53.032821500Z",
     "start_time": "2024-01-18T09:12:52.834667200Z"
    }
   },
   "outputs": [
    {
     "data": {
      "text/plain": "<pandas.io.formats.style.Styler at 0x2a865e7e5e0>",
      "text/html": "<style type=\"text/css\">\n#T_36526_row0_col0, #T_36526_row1_col1, #T_36526_row2_col2, #T_36526_row3_col3, #T_36526_row4_col4, #T_36526_row5_col5, #T_36526_row6_col6, #T_36526_row7_col7, #T_36526_row8_col8 {\n  background-color: #008000;\n  color: #f1f1f1;\n}\n#T_36526_row0_col1, #T_36526_row1_col0 {\n  background-color: #1c8e1c;\n  color: #f1f1f1;\n}\n#T_36526_row0_col2, #T_36526_row1_col2 {\n  background-color: #e8f2e8;\n  color: #000000;\n}\n#T_36526_row0_col3, #T_36526_row7_col3 {\n  background-color: #92c892;\n  color: #000000;\n}\n#T_36526_row0_col4, #T_36526_row3_col5, #T_36526_row7_col4, #T_36526_row8_col4 {\n  background-color: #add5ad;\n  color: #000000;\n}\n#T_36526_row0_col5 {\n  background-color: #b3d8b3;\n  color: #000000;\n}\n#T_36526_row0_col6 {\n  background-color: #97ca97;\n  color: #000000;\n}\n#T_36526_row0_col7 {\n  background-color: #8ec58e;\n  color: #000000;\n}\n#T_36526_row0_col8, #T_36526_row3_col8, #T_36526_row4_col6, #T_36526_row6_col8, #T_36526_row8_col6 {\n  background-color: #a7d2a7;\n  color: #000000;\n}\n#T_36526_row1_col3, #T_36526_row6_col3 {\n  background-color: #9ccd9c;\n  color: #000000;\n}\n#T_36526_row1_col4, #T_36526_row3_col4, #T_36526_row4_col3, #T_36526_row5_col7, #T_36526_row7_col5, #T_36526_row8_col7 {\n  background-color: #a6d2a6;\n  color: #000000;\n}\n#T_36526_row1_col5, #T_36526_row4_col5 {\n  background-color: #b1d7b1;\n  color: #000000;\n}\n#T_36526_row1_col6, #T_36526_row6_col7 {\n  background-color: #9dcd9d;\n  color: #000000;\n}\n#T_36526_row1_col7, #T_36526_row3_col7, #T_36526_row8_col5 {\n  background-color: #8bc48b;\n  color: #000000;\n}\n#T_36526_row1_col8, #T_36526_row4_col7, #T_36526_row6_col5, #T_36526_row7_col6 {\n  background-color: #a4d0a4;\n  color: #000000;\n}\n#T_36526_row2_col0, #T_36526_row2_col1, #T_36526_row2_col3, #T_36526_row2_col4, #T_36526_row2_col5, #T_36526_row2_col6, #T_36526_row2_col7, #T_36526_row2_col8, #T_36526_row5_col2, #T_36526_row7_col2 {\n  background-color: #ebf3eb;\n  color: #000000;\n}\n#T_36526_row3_col0, #T_36526_row7_col1 {\n  background-color: #8dc58d;\n  color: #000000;\n}\n#T_36526_row3_col1 {\n  background-color: #96c996;\n  color: #000000;\n}\n#T_36526_row3_col2, #T_36526_row4_col2 {\n  background-color: #dfeddf;\n  color: #000000;\n}\n#T_36526_row3_col6 {\n  background-color: #9bcc9b;\n  color: #000000;\n}\n#T_36526_row4_col0 {\n  background-color: #a6d1a6;\n  color: #000000;\n}\n#T_36526_row4_col1, #T_36526_row8_col1 {\n  background-color: #a0cea0;\n  color: #000000;\n}\n#T_36526_row4_col8, #T_36526_row5_col6 {\n  background-color: #aad3aa;\n  color: #000000;\n}\n#T_36526_row5_col0 {\n  background-color: #b5d9b5;\n  color: #000000;\n}\n#T_36526_row5_col1 {\n  background-color: #b2d7b2;\n  color: #000000;\n}\n#T_36526_row5_col3 {\n  background-color: #b7dab7;\n  color: #000000;\n}\n#T_36526_row5_col4 {\n  background-color: #badbba;\n  color: #000000;\n}\n#T_36526_row5_col8, #T_36526_row7_col0 {\n  background-color: #90c790;\n  color: #000000;\n}\n#T_36526_row6_col0 {\n  background-color: #93c893;\n  color: #000000;\n}\n#T_36526_row6_col1 {\n  background-color: #9acb9a;\n  color: #000000;\n}\n#T_36526_row6_col2, #T_36526_row8_col2 {\n  background-color: #e1eee1;\n  color: #000000;\n}\n#T_36526_row6_col4, #T_36526_row8_col3 {\n  background-color: #a9d3a9;\n  color: #000000;\n}\n#T_36526_row7_col8 {\n  background-color: #aed5ae;\n  color: #000000;\n}\n#T_36526_row8_col0 {\n  background-color: #a3d0a3;\n  color: #000000;\n}\n</style>\n<table id=\"T_36526\">\n  <thead>\n    <tr>\n      <th class=\"blank level0\" >&nbsp;</th>\n      <th id=\"T_36526_level0_col0\" class=\"col_heading level0 col0\" >EGFR</th>\n      <th id=\"T_36526_level0_col1\" class=\"col_heading level0 col1\" >ErbB2</th>\n      <th id=\"T_36526_level0_col2\" class=\"col_heading level0 col2\" >p110a</th>\n      <th id=\"T_36526_level0_col3\" class=\"col_heading level0 col3\" >KDR</th>\n      <th id=\"T_36526_level0_col4\" class=\"col_heading level0 col4\" >BRAF</th>\n      <th id=\"T_36526_level0_col5\" class=\"col_heading level0 col5\" >CDK2</th>\n      <th id=\"T_36526_level0_col6\" class=\"col_heading level0 col6\" >LCK</th>\n      <th id=\"T_36526_level0_col7\" class=\"col_heading level0 col7\" >MET</th>\n      <th id=\"T_36526_level0_col8\" class=\"col_heading level0 col8\" >p38a</th>\n    </tr>\n  </thead>\n  <tbody>\n    <tr>\n      <th id=\"T_36526_level0_row0\" class=\"row_heading level0 row0\" >EGFR</th>\n      <td id=\"T_36526_row0_col0\" class=\"data row0 col0\" >1.000</td>\n      <td id=\"T_36526_row0_col1\" class=\"data row0 col1\" >0.894</td>\n      <td id=\"T_36526_row0_col2\" class=\"data row0 col2\" >0.118</td>\n      <td id=\"T_36526_row0_col3\" class=\"data row0 col3\" >0.471</td>\n      <td id=\"T_36526_row0_col4\" class=\"data row0 col4\" >0.376</td>\n      <td id=\"T_36526_row0_col5\" class=\"data row0 col5\" >0.318</td>\n      <td id=\"T_36526_row0_col6\" class=\"data row0 col6\" >0.447</td>\n      <td id=\"T_36526_row0_col7\" class=\"data row0 col7\" >0.459</td>\n      <td id=\"T_36526_row0_col8\" class=\"data row0 col8\" >0.388</td>\n    </tr>\n    <tr>\n      <th id=\"T_36526_level0_row1\" class=\"row_heading level0 row1\" >ErbB2</th>\n      <td id=\"T_36526_row1_col0\" class=\"data row1 col0\" >0.894</td>\n      <td id=\"T_36526_row1_col1\" class=\"data row1 col1\" >1.000</td>\n      <td id=\"T_36526_row1_col2\" class=\"data row1 col2\" >0.118</td>\n      <td id=\"T_36526_row1_col3\" class=\"data row1 col3\" >0.435</td>\n      <td id=\"T_36526_row1_col4\" class=\"data row1 col4\" >0.400</td>\n      <td id=\"T_36526_row1_col5\" class=\"data row1 col5\" >0.329</td>\n      <td id=\"T_36526_row1_col6\" class=\"data row1 col6\" >0.424</td>\n      <td id=\"T_36526_row1_col7\" class=\"data row1 col7\" >0.471</td>\n      <td id=\"T_36526_row1_col8\" class=\"data row1 col8\" >0.400</td>\n    </tr>\n    <tr>\n      <th id=\"T_36526_level0_row2\" class=\"row_heading level0 row2\" >p110a</th>\n      <td id=\"T_36526_row2_col0\" class=\"data row2 col0\" >0.118</td>\n      <td id=\"T_36526_row2_col1\" class=\"data row2 col1\" >0.118</td>\n      <td id=\"T_36526_row2_col2\" class=\"data row2 col2\" >1.000</td>\n      <td id=\"T_36526_row2_col3\" class=\"data row2 col3\" >0.153</td>\n      <td id=\"T_36526_row2_col4\" class=\"data row2 col4\" >0.153</td>\n      <td id=\"T_36526_row2_col5\" class=\"data row2 col5\" >0.106</td>\n      <td id=\"T_36526_row2_col6\" class=\"data row2 col6\" >0.141</td>\n      <td id=\"T_36526_row2_col7\" class=\"data row2 col7\" >0.106</td>\n      <td id=\"T_36526_row2_col8\" class=\"data row2 col8\" >0.141</td>\n    </tr>\n    <tr>\n      <th id=\"T_36526_level0_row3\" class=\"row_heading level0 row3\" >KDR</th>\n      <td id=\"T_36526_row3_col0\" class=\"data row3 col0\" >0.471</td>\n      <td id=\"T_36526_row3_col1\" class=\"data row3 col1\" >0.435</td>\n      <td id=\"T_36526_row3_col2\" class=\"data row3 col2\" >0.153</td>\n      <td id=\"T_36526_row3_col3\" class=\"data row3 col3\" >1.000</td>\n      <td id=\"T_36526_row3_col4\" class=\"data row3 col4\" >0.400</td>\n      <td id=\"T_36526_row3_col5\" class=\"data row3 col5\" >0.341</td>\n      <td id=\"T_36526_row3_col6\" class=\"data row3 col6\" >0.435</td>\n      <td id=\"T_36526_row3_col7\" class=\"data row3 col7\" >0.471</td>\n      <td id=\"T_36526_row3_col8\" class=\"data row3 col8\" >0.388</td>\n    </tr>\n    <tr>\n      <th id=\"T_36526_level0_row4\" class=\"row_heading level0 row4\" >BRAF</th>\n      <td id=\"T_36526_row4_col0\" class=\"data row4 col0\" >0.376</td>\n      <td id=\"T_36526_row4_col1\" class=\"data row4 col1\" >0.400</td>\n      <td id=\"T_36526_row4_col2\" class=\"data row4 col2\" >0.153</td>\n      <td id=\"T_36526_row4_col3\" class=\"data row4 col3\" >0.400</td>\n      <td id=\"T_36526_row4_col4\" class=\"data row4 col4\" >1.000</td>\n      <td id=\"T_36526_row4_col5\" class=\"data row4 col5\" >0.329</td>\n      <td id=\"T_36526_row4_col6\" class=\"data row4 col6\" >0.388</td>\n      <td id=\"T_36526_row4_col7\" class=\"data row4 col7\" >0.376</td>\n      <td id=\"T_36526_row4_col8\" class=\"data row4 col8\" >0.376</td>\n    </tr>\n    <tr>\n      <th id=\"T_36526_level0_row5\" class=\"row_heading level0 row5\" >CDK2</th>\n      <td id=\"T_36526_row5_col0\" class=\"data row5 col0\" >0.318</td>\n      <td id=\"T_36526_row5_col1\" class=\"data row5 col1\" >0.329</td>\n      <td id=\"T_36526_row5_col2\" class=\"data row5 col2\" >0.106</td>\n      <td id=\"T_36526_row5_col3\" class=\"data row5 col3\" >0.341</td>\n      <td id=\"T_36526_row5_col4\" class=\"data row5 col4\" >0.329</td>\n      <td id=\"T_36526_row5_col5\" class=\"data row5 col5\" >1.000</td>\n      <td id=\"T_36526_row5_col6\" class=\"data row5 col6\" >0.376</td>\n      <td id=\"T_36526_row5_col7\" class=\"data row5 col7\" >0.365</td>\n      <td id=\"T_36526_row5_col8\" class=\"data row5 col8\" >0.471</td>\n    </tr>\n    <tr>\n      <th id=\"T_36526_level0_row6\" class=\"row_heading level0 row6\" >LCK</th>\n      <td id=\"T_36526_row6_col0\" class=\"data row6 col0\" >0.447</td>\n      <td id=\"T_36526_row6_col1\" class=\"data row6 col1\" >0.424</td>\n      <td id=\"T_36526_row6_col2\" class=\"data row6 col2\" >0.141</td>\n      <td id=\"T_36526_row6_col3\" class=\"data row6 col3\" >0.435</td>\n      <td id=\"T_36526_row6_col4\" class=\"data row6 col4\" >0.388</td>\n      <td id=\"T_36526_row6_col5\" class=\"data row6 col5\" >0.376</td>\n      <td id=\"T_36526_row6_col6\" class=\"data row6 col6\" >1.000</td>\n      <td id=\"T_36526_row6_col7\" class=\"data row6 col7\" >0.400</td>\n      <td id=\"T_36526_row6_col8\" class=\"data row6 col8\" >0.388</td>\n    </tr>\n    <tr>\n      <th id=\"T_36526_level0_row7\" class=\"row_heading level0 row7\" >MET</th>\n      <td id=\"T_36526_row7_col0\" class=\"data row7 col0\" >0.459</td>\n      <td id=\"T_36526_row7_col1\" class=\"data row7 col1\" >0.471</td>\n      <td id=\"T_36526_row7_col2\" class=\"data row7 col2\" >0.106</td>\n      <td id=\"T_36526_row7_col3\" class=\"data row7 col3\" >0.471</td>\n      <td id=\"T_36526_row7_col4\" class=\"data row7 col4\" >0.376</td>\n      <td id=\"T_36526_row7_col5\" class=\"data row7 col5\" >0.365</td>\n      <td id=\"T_36526_row7_col6\" class=\"data row7 col6\" >0.400</td>\n      <td id=\"T_36526_row7_col7\" class=\"data row7 col7\" >1.000</td>\n      <td id=\"T_36526_row7_col8\" class=\"data row7 col8\" >0.365</td>\n    </tr>\n    <tr>\n      <th id=\"T_36526_level0_row8\" class=\"row_heading level0 row8\" >p38a</th>\n      <td id=\"T_36526_row8_col0\" class=\"data row8 col0\" >0.388</td>\n      <td id=\"T_36526_row8_col1\" class=\"data row8 col1\" >0.400</td>\n      <td id=\"T_36526_row8_col2\" class=\"data row8 col2\" >0.141</td>\n      <td id=\"T_36526_row8_col3\" class=\"data row8 col3\" >0.388</td>\n      <td id=\"T_36526_row8_col4\" class=\"data row8 col4\" >0.376</td>\n      <td id=\"T_36526_row8_col5\" class=\"data row8 col5\" >0.471</td>\n      <td id=\"T_36526_row8_col6\" class=\"data row8 col6\" >0.388</td>\n      <td id=\"T_36526_row8_col7\" class=\"data row8 col7\" >0.365</td>\n      <td id=\"T_36526_row8_col8\" class=\"data row8 col8\" >1.000</td>\n    </tr>\n  </tbody>\n</table>\n"
     },
     "execution_count": 22,
     "metadata": {},
     "output_type": "execute_result"
    }
   ],
   "source": [
    "# Show matrix with background gradient\n",
    "cm = sns.light_palette(\"green\", as_cmap=True)\n",
    "kinase_similarity_matrix_identity_df.style.background_gradient(cmap=cm).format(\"{:.3f}\")"
   ]
  },
  {
   "cell_type": "markdown",
   "metadata": {},
   "source": [
    "##### Kinase similarity matrix: Substitution"
   ]
  },
  {
   "cell_type": "code",
   "execution_count": 23,
   "metadata": {
    "ExecuteTime": {
     "end_time": "2024-01-18T09:12:53.174172Z",
     "start_time": "2024-01-18T09:12:52.884437900Z"
    }
   },
   "outputs": [
    {
     "data": {
      "text/plain": "           EGFR     ErbB2     p110a       KDR      BRAF      CDK2       LCK  \\\nEGFR   1.000000  0.940963  0.427062  0.716047  0.655028  0.648447  0.711321   \nErbB2  0.940963  1.000000  0.413638  0.702118  0.654600  0.630308  0.685075   \np110a  0.427062  0.413638  1.000000  0.422705  0.436459  0.423994  0.451336   \nKDR    0.716047  0.702118  0.422705  1.000000  0.671268  0.653379  0.687648   \nBRAF   0.655028  0.654600  0.436459  0.671268  1.000000  0.646755  0.672933   \nCDK2   0.648447  0.630308  0.423994  0.653379  0.646755  1.000000  0.681253   \nLCK    0.711321  0.685075  0.451336  0.687648  0.672933  0.681253  1.000000   \nMET    0.711258  0.697967  0.393699  0.713806  0.638158  0.656025  0.690879   \np38a   0.644644  0.635173  0.431194  0.653444  0.637912  0.723093  0.662581   \n\n            MET      p38a  \nEGFR   0.711258  0.644644  \nErbB2  0.697967  0.635173  \np110a  0.393699  0.431194  \nKDR    0.713806  0.653444  \nBRAF   0.638158  0.637912  \nCDK2   0.656025  0.723093  \nLCK    0.690879  0.662581  \nMET    1.000000  0.629355  \np38a   0.629355  1.000000  ",
      "text/html": "<div>\n<style scoped>\n    .dataframe tbody tr th:only-of-type {\n        vertical-align: middle;\n    }\n\n    .dataframe tbody tr th {\n        vertical-align: top;\n    }\n\n    .dataframe thead th {\n        text-align: right;\n    }\n</style>\n<table border=\"1\" class=\"dataframe\">\n  <thead>\n    <tr style=\"text-align: right;\">\n      <th></th>\n      <th>EGFR</th>\n      <th>ErbB2</th>\n      <th>p110a</th>\n      <th>KDR</th>\n      <th>BRAF</th>\n      <th>CDK2</th>\n      <th>LCK</th>\n      <th>MET</th>\n      <th>p38a</th>\n    </tr>\n  </thead>\n  <tbody>\n    <tr>\n      <th>EGFR</th>\n      <td>1.000000</td>\n      <td>0.940963</td>\n      <td>0.427062</td>\n      <td>0.716047</td>\n      <td>0.655028</td>\n      <td>0.648447</td>\n      <td>0.711321</td>\n      <td>0.711258</td>\n      <td>0.644644</td>\n    </tr>\n    <tr>\n      <th>ErbB2</th>\n      <td>0.940963</td>\n      <td>1.000000</td>\n      <td>0.413638</td>\n      <td>0.702118</td>\n      <td>0.654600</td>\n      <td>0.630308</td>\n      <td>0.685075</td>\n      <td>0.697967</td>\n      <td>0.635173</td>\n    </tr>\n    <tr>\n      <th>p110a</th>\n      <td>0.427062</td>\n      <td>0.413638</td>\n      <td>1.000000</td>\n      <td>0.422705</td>\n      <td>0.436459</td>\n      <td>0.423994</td>\n      <td>0.451336</td>\n      <td>0.393699</td>\n      <td>0.431194</td>\n    </tr>\n    <tr>\n      <th>KDR</th>\n      <td>0.716047</td>\n      <td>0.702118</td>\n      <td>0.422705</td>\n      <td>1.000000</td>\n      <td>0.671268</td>\n      <td>0.653379</td>\n      <td>0.687648</td>\n      <td>0.713806</td>\n      <td>0.653444</td>\n    </tr>\n    <tr>\n      <th>BRAF</th>\n      <td>0.655028</td>\n      <td>0.654600</td>\n      <td>0.436459</td>\n      <td>0.671268</td>\n      <td>1.000000</td>\n      <td>0.646755</td>\n      <td>0.672933</td>\n      <td>0.638158</td>\n      <td>0.637912</td>\n    </tr>\n    <tr>\n      <th>CDK2</th>\n      <td>0.648447</td>\n      <td>0.630308</td>\n      <td>0.423994</td>\n      <td>0.653379</td>\n      <td>0.646755</td>\n      <td>1.000000</td>\n      <td>0.681253</td>\n      <td>0.656025</td>\n      <td>0.723093</td>\n    </tr>\n    <tr>\n      <th>LCK</th>\n      <td>0.711321</td>\n      <td>0.685075</td>\n      <td>0.451336</td>\n      <td>0.687648</td>\n      <td>0.672933</td>\n      <td>0.681253</td>\n      <td>1.000000</td>\n      <td>0.690879</td>\n      <td>0.662581</td>\n    </tr>\n    <tr>\n      <th>MET</th>\n      <td>0.711258</td>\n      <td>0.697967</td>\n      <td>0.393699</td>\n      <td>0.713806</td>\n      <td>0.638158</td>\n      <td>0.656025</td>\n      <td>0.690879</td>\n      <td>1.000000</td>\n      <td>0.629355</td>\n    </tr>\n    <tr>\n      <th>p38a</th>\n      <td>0.644644</td>\n      <td>0.635173</td>\n      <td>0.431194</td>\n      <td>0.653444</td>\n      <td>0.637912</td>\n      <td>0.723093</td>\n      <td>0.662581</td>\n      <td>0.629355</td>\n      <td>1.000000</td>\n    </tr>\n  </tbody>\n</table>\n</div>"
     },
     "execution_count": 23,
     "metadata": {},
     "output_type": "execute_result"
    }
   ],
   "source": [
    "kinase_similarity_matrix_substitution_df = pairwise_kinase_similarities(\n",
    "    kinase_sequences_dict, similarity_measure=\"substitution\"\n",
    ")\n",
    "kinase_similarity_matrix_substitution_df\n",
    "# NBVAL_CHECK_OUTPUT"
   ]
  },
  {
   "cell_type": "code",
   "execution_count": 24,
   "metadata": {
    "ExecuteTime": {
     "end_time": "2024-01-18T09:12:53.200642600Z",
     "start_time": "2024-01-18T09:12:53.098174400Z"
    }
   },
   "outputs": [
    {
     "data": {
      "text/plain": "<pandas.io.formats.style.Styler at 0x2a865e075e0>",
      "text/html": "<style type=\"text/css\">\n#T_d64b6_row0_col0, #T_d64b6_row1_col1, #T_d64b6_row2_col2, #T_d64b6_row3_col3, #T_d64b6_row4_col4, #T_d64b6_row5_col5, #T_d64b6_row6_col6, #T_d64b6_row7_col7, #T_d64b6_row8_col8 {\n  background-color: #008000;\n  color: #f1f1f1;\n}\n#T_d64b6_row0_col1 {\n  background-color: #178b17;\n  color: #f1f1f1;\n}\n#T_d64b6_row0_col2 {\n  background-color: #deedde;\n  color: #000000;\n}\n#T_d64b6_row0_col3 {\n  background-color: #73b873;\n  color: #f1f1f1;\n}\n#T_d64b6_row0_col4, #T_d64b6_row0_col5, #T_d64b6_row1_col4, #T_d64b6_row3_col8, #T_d64b6_row4_col5, #T_d64b6_row8_col7 {\n  background-color: #8fc68f;\n  color: #000000;\n}\n#T_d64b6_row0_col6 {\n  background-color: #7bbc7b;\n  color: #000000;\n}\n#T_d64b6_row0_col7 {\n  background-color: #6fb76f;\n  color: #f1f1f1;\n}\n#T_d64b6_row0_col8, #T_d64b6_row8_col1 {\n  background-color: #92c892;\n  color: #000000;\n}\n#T_d64b6_row1_col0 {\n  background-color: #188c18;\n  color: #f1f1f1;\n}\n#T_d64b6_row1_col2 {\n  background-color: #e3efe3;\n  color: #000000;\n}\n#T_d64b6_row1_col3 {\n  background-color: #79bc79;\n  color: #000000;\n}\n#T_d64b6_row1_col5, #T_d64b6_row1_col8, #T_d64b6_row7_col4, #T_d64b6_row8_col4 {\n  background-color: #97ca97;\n  color: #000000;\n}\n#T_d64b6_row1_col6 {\n  background-color: #86c286;\n  color: #000000;\n}\n#T_d64b6_row1_col7 {\n  background-color: #75b975;\n  color: #f1f1f1;\n}\n#T_d64b6_row2_col0, #T_d64b6_row2_col1, #T_d64b6_row2_col3, #T_d64b6_row2_col4, #T_d64b6_row2_col5, #T_d64b6_row2_col6, #T_d64b6_row2_col7, #T_d64b6_row2_col8, #T_d64b6_row7_col2 {\n  background-color: #ebf3eb;\n  color: #000000;\n}\n#T_d64b6_row3_col0, #T_d64b6_row7_col3 {\n  background-color: #74b974;\n  color: #f1f1f1;\n}\n#T_d64b6_row3_col1, #T_d64b6_row6_col7 {\n  background-color: #78bb78;\n  color: #f1f1f1;\n}\n#T_d64b6_row3_col2, #T_d64b6_row5_col2 {\n  background-color: #e0eedf;\n  color: #000000;\n}\n#T_d64b6_row3_col4 {\n  background-color: #89c389;\n  color: #000000;\n}\n#T_d64b6_row3_col5, #T_d64b6_row4_col0 {\n  background-color: #8ec58e;\n  color: #000000;\n}\n#T_d64b6_row3_col6, #T_d64b6_row4_col3, #T_d64b6_row5_col7 {\n  background-color: #85c185;\n  color: #000000;\n}\n#T_d64b6_row3_col7 {\n  background-color: #6eb66e;\n  color: #f1f1f1;\n}\n#T_d64b6_row4_col1 {\n  background-color: #8ac48a;\n  color: #000000;\n}\n#T_d64b6_row4_col2 {\n  background-color: #daebda;\n  color: #000000;\n}\n#T_d64b6_row4_col6, #T_d64b6_row4_col7, #T_d64b6_row7_col5 {\n  background-color: #8cc58c;\n  color: #000000;\n}\n#T_d64b6_row4_col8 {\n  background-color: #95c995;\n  color: #000000;\n}\n#T_d64b6_row5_col0, #T_d64b6_row8_col6 {\n  background-color: #90c790;\n  color: #000000;\n}\n#T_d64b6_row5_col1 {\n  background-color: #94c994;\n  color: #000000;\n}\n#T_d64b6_row5_col3, #T_d64b6_row8_col3 {\n  background-color: #8dc58d;\n  color: #000000;\n}\n#T_d64b6_row5_col4 {\n  background-color: #93c893;\n  color: #000000;\n}\n#T_d64b6_row5_col6, #T_d64b6_row6_col4 {\n  background-color: #88c388;\n  color: #000000;\n}\n#T_d64b6_row5_col8 {\n  background-color: #72b872;\n  color: #f1f1f1;\n}\n#T_d64b6_row6_col0 {\n  background-color: #76ba76;\n  color: #f1f1f1;\n}\n#T_d64b6_row6_col1 {\n  background-color: #7ebe7e;\n  color: #000000;\n}\n#T_d64b6_row6_col2 {\n  background-color: #d4e8d4;\n  color: #000000;\n}\n#T_d64b6_row6_col3 {\n  background-color: #7fbe7f;\n  color: #000000;\n}\n#T_d64b6_row6_col5 {\n  background-color: #82c082;\n  color: #000000;\n}\n#T_d64b6_row6_col8 {\n  background-color: #8bc48b;\n  color: #000000;\n}\n#T_d64b6_row7_col0 {\n  background-color: #77ba77;\n  color: #f1f1f1;\n}\n#T_d64b6_row7_col1 {\n  background-color: #78bb78;\n  color: #000000;\n}\n#T_d64b6_row7_col6 {\n  background-color: #84c184;\n  color: #000000;\n}\n#T_d64b6_row7_col8 {\n  background-color: #99cb99;\n  color: #000000;\n}\n#T_d64b6_row8_col0 {\n  background-color: #91c791;\n  color: #000000;\n}\n#T_d64b6_row8_col2 {\n  background-color: #ddecdd;\n  color: #000000;\n}\n#T_d64b6_row8_col5 {\n  background-color: #71b771;\n  color: #f1f1f1;\n}\n</style>\n<table id=\"T_d64b6\">\n  <thead>\n    <tr>\n      <th class=\"blank level0\" >&nbsp;</th>\n      <th id=\"T_d64b6_level0_col0\" class=\"col_heading level0 col0\" >EGFR</th>\n      <th id=\"T_d64b6_level0_col1\" class=\"col_heading level0 col1\" >ErbB2</th>\n      <th id=\"T_d64b6_level0_col2\" class=\"col_heading level0 col2\" >p110a</th>\n      <th id=\"T_d64b6_level0_col3\" class=\"col_heading level0 col3\" >KDR</th>\n      <th id=\"T_d64b6_level0_col4\" class=\"col_heading level0 col4\" >BRAF</th>\n      <th id=\"T_d64b6_level0_col5\" class=\"col_heading level0 col5\" >CDK2</th>\n      <th id=\"T_d64b6_level0_col6\" class=\"col_heading level0 col6\" >LCK</th>\n      <th id=\"T_d64b6_level0_col7\" class=\"col_heading level0 col7\" >MET</th>\n      <th id=\"T_d64b6_level0_col8\" class=\"col_heading level0 col8\" >p38a</th>\n    </tr>\n  </thead>\n  <tbody>\n    <tr>\n      <th id=\"T_d64b6_level0_row0\" class=\"row_heading level0 row0\" >EGFR</th>\n      <td id=\"T_d64b6_row0_col0\" class=\"data row0 col0\" >1.000</td>\n      <td id=\"T_d64b6_row0_col1\" class=\"data row0 col1\" >0.941</td>\n      <td id=\"T_d64b6_row0_col2\" class=\"data row0 col2\" >0.427</td>\n      <td id=\"T_d64b6_row0_col3\" class=\"data row0 col3\" >0.716</td>\n      <td id=\"T_d64b6_row0_col4\" class=\"data row0 col4\" >0.655</td>\n      <td id=\"T_d64b6_row0_col5\" class=\"data row0 col5\" >0.648</td>\n      <td id=\"T_d64b6_row0_col6\" class=\"data row0 col6\" >0.711</td>\n      <td id=\"T_d64b6_row0_col7\" class=\"data row0 col7\" >0.711</td>\n      <td id=\"T_d64b6_row0_col8\" class=\"data row0 col8\" >0.645</td>\n    </tr>\n    <tr>\n      <th id=\"T_d64b6_level0_row1\" class=\"row_heading level0 row1\" >ErbB2</th>\n      <td id=\"T_d64b6_row1_col0\" class=\"data row1 col0\" >0.941</td>\n      <td id=\"T_d64b6_row1_col1\" class=\"data row1 col1\" >1.000</td>\n      <td id=\"T_d64b6_row1_col2\" class=\"data row1 col2\" >0.414</td>\n      <td id=\"T_d64b6_row1_col3\" class=\"data row1 col3\" >0.702</td>\n      <td id=\"T_d64b6_row1_col4\" class=\"data row1 col4\" >0.655</td>\n      <td id=\"T_d64b6_row1_col5\" class=\"data row1 col5\" >0.630</td>\n      <td id=\"T_d64b6_row1_col6\" class=\"data row1 col6\" >0.685</td>\n      <td id=\"T_d64b6_row1_col7\" class=\"data row1 col7\" >0.698</td>\n      <td id=\"T_d64b6_row1_col8\" class=\"data row1 col8\" >0.635</td>\n    </tr>\n    <tr>\n      <th id=\"T_d64b6_level0_row2\" class=\"row_heading level0 row2\" >p110a</th>\n      <td id=\"T_d64b6_row2_col0\" class=\"data row2 col0\" >0.427</td>\n      <td id=\"T_d64b6_row2_col1\" class=\"data row2 col1\" >0.414</td>\n      <td id=\"T_d64b6_row2_col2\" class=\"data row2 col2\" >1.000</td>\n      <td id=\"T_d64b6_row2_col3\" class=\"data row2 col3\" >0.423</td>\n      <td id=\"T_d64b6_row2_col4\" class=\"data row2 col4\" >0.436</td>\n      <td id=\"T_d64b6_row2_col5\" class=\"data row2 col5\" >0.424</td>\n      <td id=\"T_d64b6_row2_col6\" class=\"data row2 col6\" >0.451</td>\n      <td id=\"T_d64b6_row2_col7\" class=\"data row2 col7\" >0.394</td>\n      <td id=\"T_d64b6_row2_col8\" class=\"data row2 col8\" >0.431</td>\n    </tr>\n    <tr>\n      <th id=\"T_d64b6_level0_row3\" class=\"row_heading level0 row3\" >KDR</th>\n      <td id=\"T_d64b6_row3_col0\" class=\"data row3 col0\" >0.716</td>\n      <td id=\"T_d64b6_row3_col1\" class=\"data row3 col1\" >0.702</td>\n      <td id=\"T_d64b6_row3_col2\" class=\"data row3 col2\" >0.423</td>\n      <td id=\"T_d64b6_row3_col3\" class=\"data row3 col3\" >1.000</td>\n      <td id=\"T_d64b6_row3_col4\" class=\"data row3 col4\" >0.671</td>\n      <td id=\"T_d64b6_row3_col5\" class=\"data row3 col5\" >0.653</td>\n      <td id=\"T_d64b6_row3_col6\" class=\"data row3 col6\" >0.688</td>\n      <td id=\"T_d64b6_row3_col7\" class=\"data row3 col7\" >0.714</td>\n      <td id=\"T_d64b6_row3_col8\" class=\"data row3 col8\" >0.653</td>\n    </tr>\n    <tr>\n      <th id=\"T_d64b6_level0_row4\" class=\"row_heading level0 row4\" >BRAF</th>\n      <td id=\"T_d64b6_row4_col0\" class=\"data row4 col0\" >0.655</td>\n      <td id=\"T_d64b6_row4_col1\" class=\"data row4 col1\" >0.655</td>\n      <td id=\"T_d64b6_row4_col2\" class=\"data row4 col2\" >0.436</td>\n      <td id=\"T_d64b6_row4_col3\" class=\"data row4 col3\" >0.671</td>\n      <td id=\"T_d64b6_row4_col4\" class=\"data row4 col4\" >1.000</td>\n      <td id=\"T_d64b6_row4_col5\" class=\"data row4 col5\" >0.647</td>\n      <td id=\"T_d64b6_row4_col6\" class=\"data row4 col6\" >0.673</td>\n      <td id=\"T_d64b6_row4_col7\" class=\"data row4 col7\" >0.638</td>\n      <td id=\"T_d64b6_row4_col8\" class=\"data row4 col8\" >0.638</td>\n    </tr>\n    <tr>\n      <th id=\"T_d64b6_level0_row5\" class=\"row_heading level0 row5\" >CDK2</th>\n      <td id=\"T_d64b6_row5_col0\" class=\"data row5 col0\" >0.648</td>\n      <td id=\"T_d64b6_row5_col1\" class=\"data row5 col1\" >0.630</td>\n      <td id=\"T_d64b6_row5_col2\" class=\"data row5 col2\" >0.424</td>\n      <td id=\"T_d64b6_row5_col3\" class=\"data row5 col3\" >0.653</td>\n      <td id=\"T_d64b6_row5_col4\" class=\"data row5 col4\" >0.647</td>\n      <td id=\"T_d64b6_row5_col5\" class=\"data row5 col5\" >1.000</td>\n      <td id=\"T_d64b6_row5_col6\" class=\"data row5 col6\" >0.681</td>\n      <td id=\"T_d64b6_row5_col7\" class=\"data row5 col7\" >0.656</td>\n      <td id=\"T_d64b6_row5_col8\" class=\"data row5 col8\" >0.723</td>\n    </tr>\n    <tr>\n      <th id=\"T_d64b6_level0_row6\" class=\"row_heading level0 row6\" >LCK</th>\n      <td id=\"T_d64b6_row6_col0\" class=\"data row6 col0\" >0.711</td>\n      <td id=\"T_d64b6_row6_col1\" class=\"data row6 col1\" >0.685</td>\n      <td id=\"T_d64b6_row6_col2\" class=\"data row6 col2\" >0.451</td>\n      <td id=\"T_d64b6_row6_col3\" class=\"data row6 col3\" >0.688</td>\n      <td id=\"T_d64b6_row6_col4\" class=\"data row6 col4\" >0.673</td>\n      <td id=\"T_d64b6_row6_col5\" class=\"data row6 col5\" >0.681</td>\n      <td id=\"T_d64b6_row6_col6\" class=\"data row6 col6\" >1.000</td>\n      <td id=\"T_d64b6_row6_col7\" class=\"data row6 col7\" >0.691</td>\n      <td id=\"T_d64b6_row6_col8\" class=\"data row6 col8\" >0.663</td>\n    </tr>\n    <tr>\n      <th id=\"T_d64b6_level0_row7\" class=\"row_heading level0 row7\" >MET</th>\n      <td id=\"T_d64b6_row7_col0\" class=\"data row7 col0\" >0.711</td>\n      <td id=\"T_d64b6_row7_col1\" class=\"data row7 col1\" >0.698</td>\n      <td id=\"T_d64b6_row7_col2\" class=\"data row7 col2\" >0.394</td>\n      <td id=\"T_d64b6_row7_col3\" class=\"data row7 col3\" >0.714</td>\n      <td id=\"T_d64b6_row7_col4\" class=\"data row7 col4\" >0.638</td>\n      <td id=\"T_d64b6_row7_col5\" class=\"data row7 col5\" >0.656</td>\n      <td id=\"T_d64b6_row7_col6\" class=\"data row7 col6\" >0.691</td>\n      <td id=\"T_d64b6_row7_col7\" class=\"data row7 col7\" >1.000</td>\n      <td id=\"T_d64b6_row7_col8\" class=\"data row7 col8\" >0.629</td>\n    </tr>\n    <tr>\n      <th id=\"T_d64b6_level0_row8\" class=\"row_heading level0 row8\" >p38a</th>\n      <td id=\"T_d64b6_row8_col0\" class=\"data row8 col0\" >0.645</td>\n      <td id=\"T_d64b6_row8_col1\" class=\"data row8 col1\" >0.635</td>\n      <td id=\"T_d64b6_row8_col2\" class=\"data row8 col2\" >0.431</td>\n      <td id=\"T_d64b6_row8_col3\" class=\"data row8 col3\" >0.653</td>\n      <td id=\"T_d64b6_row8_col4\" class=\"data row8 col4\" >0.638</td>\n      <td id=\"T_d64b6_row8_col5\" class=\"data row8 col5\" >0.723</td>\n      <td id=\"T_d64b6_row8_col6\" class=\"data row8 col6\" >0.663</td>\n      <td id=\"T_d64b6_row8_col7\" class=\"data row8 col7\" >0.629</td>\n      <td id=\"T_d64b6_row8_col8\" class=\"data row8 col8\" >1.000</td>\n    </tr>\n  </tbody>\n</table>\n"
     },
     "execution_count": 24,
     "metadata": {},
     "output_type": "execute_result"
    }
   ],
   "source": [
    "# Show matrix with background gradient\n",
    "cm = sns.light_palette(\"green\", as_cmap=True)\n",
    "kinase_similarity_matrix_substitution_df.style.background_gradient(cmap=cm).format(\"{:.3f}\")"
   ]
  },
  {
   "cell_type": "markdown",
   "metadata": {},
   "source": [
    "When we compare the matrices calculated based on the identity and substitution score, the overall pattern is similar, while the values are generally higher using the substitution score.\n",
    "\n",
    "_Note_: For all downstream analysis, we will only consider the kinase similarity matrix calculated based on the substitution matrix."
   ]
  },
  {
   "cell_type": "code",
   "execution_count": 25,
   "metadata": {
    "ExecuteTime": {
     "end_time": "2024-01-18T09:12:53.207160700Z",
     "start_time": "2024-01-18T09:12:53.126118400Z"
    }
   },
   "outputs": [],
   "source": [
    "kinase_similarity_matrix_df = kinase_similarity_matrix_substitution_df"
   ]
  },
  {
   "cell_type": "markdown",
   "metadata": {},
   "source": [
    "#### Save kinase similarity matrix"
   ]
  },
  {
   "cell_type": "code",
   "execution_count": 26,
   "metadata": {
    "ExecuteTime": {
     "end_time": "2024-01-18T09:12:53.303132100Z",
     "start_time": "2024-01-18T09:12:53.140585600Z"
    }
   },
   "outputs": [],
   "source": [
    "file_name = f\"kinase_similarity_matrix.csv\"\n",
    "kinase_similarity_matrix_df.to_csv(DATA / file_name)"
   ]
  },
  {
   "cell_type": "markdown",
   "metadata": {},
   "source": [
    "### Kinase distance matrix"
   ]
  },
  {
   "cell_type": "markdown",
   "metadata": {},
   "source": [
    "Since all entries are between $0$ and $1$, the similarity matrix $SM$ is mapped to a distance matrix:"
   ]
  },
  {
   "cell_type": "code",
   "execution_count": 27,
   "metadata": {
    "ExecuteTime": {
     "end_time": "2024-01-18T09:12:53.305359500Z",
     "start_time": "2024-01-18T09:12:53.218552700Z"
    }
   },
   "outputs": [
    {
     "name": "stdout",
     "output_type": "stream",
     "text": [
      "The values of the similarity matrix lie between: 0.39 and 1.00\n"
     ]
    }
   ],
   "source": [
    "print(\n",
    "    f\"The values of the similarity matrix lie between: \"\n",
    "    f\"{kinase_similarity_matrix_df.min().min():.2f}\"\n",
    "    f\" and {kinase_similarity_matrix_df.max().max():.2f}\"\n",
    ")\n",
    "# NBVAL_CHECK_OUTPUT"
   ]
  },
  {
   "cell_type": "code",
   "execution_count": 28,
   "metadata": {
    "ExecuteTime": {
     "end_time": "2024-01-18T09:12:53.353039300Z",
     "start_time": "2024-01-18T09:12:53.233279700Z"
    }
   },
   "outputs": [],
   "source": [
    "kinase_distance_matrix_df = 1 - kinase_similarity_matrix_df"
   ]
  },
  {
   "cell_type": "code",
   "execution_count": 29,
   "metadata": {
    "ExecuteTime": {
     "end_time": "2024-01-18T09:12:53.378391700Z",
     "start_time": "2024-01-18T09:12:53.249786400Z"
    }
   },
   "outputs": [
    {
     "data": {
      "text/plain": "<pandas.io.formats.style.Styler at 0x2a865e7ea30>",
      "text/html": "<style type=\"text/css\">\n#T_653d9_row0_col0, #T_653d9_row1_col1, #T_653d9_row2_col2, #T_653d9_row3_col3, #T_653d9_row4_col4, #T_653d9_row5_col5, #T_653d9_row6_col6, #T_653d9_row7_col7, #T_653d9_row8_col8 {\n  background-color: #ebf3eb;\n  color: #000000;\n}\n#T_653d9_row0_col1 {\n  background-color: #d4e8d4;\n  color: #000000;\n}\n#T_653d9_row0_col2 {\n  background-color: #0d860d;\n  color: #f1f1f1;\n}\n#T_653d9_row0_col3 {\n  background-color: #78bb78;\n  color: #f1f1f1;\n}\n#T_653d9_row0_col4, #T_653d9_row0_col5, #T_653d9_row1_col4, #T_653d9_row4_col5, #T_653d9_row8_col7 {\n  background-color: #5bad5b;\n  color: #f1f1f1;\n}\n#T_653d9_row0_col6 {\n  background-color: #6fb76f;\n  color: #f1f1f1;\n}\n#T_653d9_row0_col7 {\n  background-color: #7bbc7b;\n  color: #000000;\n}\n#T_653d9_row0_col8, #T_653d9_row8_col1 {\n  background-color: #58ab58;\n  color: #f1f1f1;\n}\n#T_653d9_row1_col0 {\n  background-color: #d3e7d3;\n  color: #000000;\n}\n#T_653d9_row1_col2 {\n  background-color: #078407;\n  color: #f1f1f1;\n}\n#T_653d9_row1_col3 {\n  background-color: #71b771;\n  color: #f1f1f1;\n}\n#T_653d9_row1_col5, #T_653d9_row1_col8, #T_653d9_row7_col4, #T_653d9_row8_col4 {\n  background-color: #54a954;\n  color: #f1f1f1;\n}\n#T_653d9_row1_col6 {\n  background-color: #64b164;\n  color: #f1f1f1;\n}\n#T_653d9_row1_col7 {\n  background-color: #76ba76;\n  color: #f1f1f1;\n}\n#T_653d9_row2_col0, #T_653d9_row2_col1, #T_653d9_row2_col3, #T_653d9_row2_col4, #T_653d9_row2_col5, #T_653d9_row2_col6, #T_653d9_row2_col7, #T_653d9_row2_col8, #T_653d9_row7_col2 {\n  background-color: #008000;\n  color: #f1f1f1;\n}\n#T_653d9_row3_col0, #T_653d9_row7_col3 {\n  background-color: #77ba77;\n  color: #f1f1f1;\n}\n#T_653d9_row3_col1, #T_653d9_row6_col7 {\n  background-color: #73b873;\n  color: #f1f1f1;\n}\n#T_653d9_row3_col2, #T_653d9_row5_col2 {\n  background-color: #0b850b;\n  color: #f1f1f1;\n}\n#T_653d9_row3_col4 {\n  background-color: #61b061;\n  color: #f1f1f1;\n}\n#T_653d9_row3_col5, #T_653d9_row4_col0 {\n  background-color: #5dae5d;\n  color: #f1f1f1;\n}\n#T_653d9_row3_col6, #T_653d9_row4_col3, #T_653d9_row5_col7 {\n  background-color: #65b265;\n  color: #f1f1f1;\n}\n#T_653d9_row3_col7 {\n  background-color: #7cbd7c;\n  color: #000000;\n}\n#T_653d9_row3_col8 {\n  background-color: #5cad5c;\n  color: #f1f1f1;\n}\n#T_653d9_row4_col1 {\n  background-color: #61af61;\n  color: #f1f1f1;\n}\n#T_653d9_row4_col2 {\n  background-color: #118811;\n  color: #f1f1f1;\n}\n#T_653d9_row4_col6, #T_653d9_row4_col7, #T_653d9_row7_col5 {\n  background-color: #5fae5f;\n  color: #f1f1f1;\n}\n#T_653d9_row4_col8, #T_653d9_row5_col1 {\n  background-color: #56aa56;\n  color: #f1f1f1;\n}\n#T_653d9_row5_col0, #T_653d9_row8_col6 {\n  background-color: #5aac5a;\n  color: #f1f1f1;\n}\n#T_653d9_row5_col3, #T_653d9_row8_col3 {\n  background-color: #5eae5e;\n  color: #f1f1f1;\n}\n#T_653d9_row5_col4 {\n  background-color: #57ab57;\n  color: #f1f1f1;\n}\n#T_653d9_row5_col6, #T_653d9_row6_col4 {\n  background-color: #62b062;\n  color: #f1f1f1;\n}\n#T_653d9_row5_col8 {\n  background-color: #78bb78;\n  color: #000000;\n}\n#T_653d9_row6_col0 {\n  background-color: #75b975;\n  color: #f1f1f1;\n}\n#T_653d9_row6_col1 {\n  background-color: #6db56d;\n  color: #f1f1f1;\n}\n#T_653d9_row6_col2 {\n  background-color: #168b16;\n  color: #f1f1f1;\n}\n#T_653d9_row6_col3 {\n  background-color: #6cb56c;\n  color: #f1f1f1;\n}\n#T_653d9_row6_col5 {\n  background-color: #69b369;\n  color: #f1f1f1;\n}\n#T_653d9_row6_col8 {\n  background-color: #60af60;\n  color: #f1f1f1;\n}\n#T_653d9_row7_col0 {\n  background-color: #74b974;\n  color: #f1f1f1;\n}\n#T_653d9_row7_col1 {\n  background-color: #72b872;\n  color: #f1f1f1;\n}\n#T_653d9_row7_col6 {\n  background-color: #66b266;\n  color: #f1f1f1;\n}\n#T_653d9_row7_col8 {\n  background-color: #52a852;\n  color: #f1f1f1;\n}\n#T_653d9_row8_col0 {\n  background-color: #59ac59;\n  color: #f1f1f1;\n}\n#T_653d9_row8_col2 {\n  background-color: #0e870e;\n  color: #f1f1f1;\n}\n#T_653d9_row8_col5 {\n  background-color: #79bc79;\n  color: #000000;\n}\n</style>\n<table id=\"T_653d9\">\n  <thead>\n    <tr>\n      <th class=\"blank level0\" >&nbsp;</th>\n      <th id=\"T_653d9_level0_col0\" class=\"col_heading level0 col0\" >EGFR</th>\n      <th id=\"T_653d9_level0_col1\" class=\"col_heading level0 col1\" >ErbB2</th>\n      <th id=\"T_653d9_level0_col2\" class=\"col_heading level0 col2\" >p110a</th>\n      <th id=\"T_653d9_level0_col3\" class=\"col_heading level0 col3\" >KDR</th>\n      <th id=\"T_653d9_level0_col4\" class=\"col_heading level0 col4\" >BRAF</th>\n      <th id=\"T_653d9_level0_col5\" class=\"col_heading level0 col5\" >CDK2</th>\n      <th id=\"T_653d9_level0_col6\" class=\"col_heading level0 col6\" >LCK</th>\n      <th id=\"T_653d9_level0_col7\" class=\"col_heading level0 col7\" >MET</th>\n      <th id=\"T_653d9_level0_col8\" class=\"col_heading level0 col8\" >p38a</th>\n    </tr>\n  </thead>\n  <tbody>\n    <tr>\n      <th id=\"T_653d9_level0_row0\" class=\"row_heading level0 row0\" >EGFR</th>\n      <td id=\"T_653d9_row0_col0\" class=\"data row0 col0\" >0.000</td>\n      <td id=\"T_653d9_row0_col1\" class=\"data row0 col1\" >0.059</td>\n      <td id=\"T_653d9_row0_col2\" class=\"data row0 col2\" >0.573</td>\n      <td id=\"T_653d9_row0_col3\" class=\"data row0 col3\" >0.284</td>\n      <td id=\"T_653d9_row0_col4\" class=\"data row0 col4\" >0.345</td>\n      <td id=\"T_653d9_row0_col5\" class=\"data row0 col5\" >0.352</td>\n      <td id=\"T_653d9_row0_col6\" class=\"data row0 col6\" >0.289</td>\n      <td id=\"T_653d9_row0_col7\" class=\"data row0 col7\" >0.289</td>\n      <td id=\"T_653d9_row0_col8\" class=\"data row0 col8\" >0.355</td>\n    </tr>\n    <tr>\n      <th id=\"T_653d9_level0_row1\" class=\"row_heading level0 row1\" >ErbB2</th>\n      <td id=\"T_653d9_row1_col0\" class=\"data row1 col0\" >0.059</td>\n      <td id=\"T_653d9_row1_col1\" class=\"data row1 col1\" >0.000</td>\n      <td id=\"T_653d9_row1_col2\" class=\"data row1 col2\" >0.586</td>\n      <td id=\"T_653d9_row1_col3\" class=\"data row1 col3\" >0.298</td>\n      <td id=\"T_653d9_row1_col4\" class=\"data row1 col4\" >0.345</td>\n      <td id=\"T_653d9_row1_col5\" class=\"data row1 col5\" >0.370</td>\n      <td id=\"T_653d9_row1_col6\" class=\"data row1 col6\" >0.315</td>\n      <td id=\"T_653d9_row1_col7\" class=\"data row1 col7\" >0.302</td>\n      <td id=\"T_653d9_row1_col8\" class=\"data row1 col8\" >0.365</td>\n    </tr>\n    <tr>\n      <th id=\"T_653d9_level0_row2\" class=\"row_heading level0 row2\" >p110a</th>\n      <td id=\"T_653d9_row2_col0\" class=\"data row2 col0\" >0.573</td>\n      <td id=\"T_653d9_row2_col1\" class=\"data row2 col1\" >0.586</td>\n      <td id=\"T_653d9_row2_col2\" class=\"data row2 col2\" >0.000</td>\n      <td id=\"T_653d9_row2_col3\" class=\"data row2 col3\" >0.577</td>\n      <td id=\"T_653d9_row2_col4\" class=\"data row2 col4\" >0.564</td>\n      <td id=\"T_653d9_row2_col5\" class=\"data row2 col5\" >0.576</td>\n      <td id=\"T_653d9_row2_col6\" class=\"data row2 col6\" >0.549</td>\n      <td id=\"T_653d9_row2_col7\" class=\"data row2 col7\" >0.606</td>\n      <td id=\"T_653d9_row2_col8\" class=\"data row2 col8\" >0.569</td>\n    </tr>\n    <tr>\n      <th id=\"T_653d9_level0_row3\" class=\"row_heading level0 row3\" >KDR</th>\n      <td id=\"T_653d9_row3_col0\" class=\"data row3 col0\" >0.284</td>\n      <td id=\"T_653d9_row3_col1\" class=\"data row3 col1\" >0.298</td>\n      <td id=\"T_653d9_row3_col2\" class=\"data row3 col2\" >0.577</td>\n      <td id=\"T_653d9_row3_col3\" class=\"data row3 col3\" >0.000</td>\n      <td id=\"T_653d9_row3_col4\" class=\"data row3 col4\" >0.329</td>\n      <td id=\"T_653d9_row3_col5\" class=\"data row3 col5\" >0.347</td>\n      <td id=\"T_653d9_row3_col6\" class=\"data row3 col6\" >0.312</td>\n      <td id=\"T_653d9_row3_col7\" class=\"data row3 col7\" >0.286</td>\n      <td id=\"T_653d9_row3_col8\" class=\"data row3 col8\" >0.347</td>\n    </tr>\n    <tr>\n      <th id=\"T_653d9_level0_row4\" class=\"row_heading level0 row4\" >BRAF</th>\n      <td id=\"T_653d9_row4_col0\" class=\"data row4 col0\" >0.345</td>\n      <td id=\"T_653d9_row4_col1\" class=\"data row4 col1\" >0.345</td>\n      <td id=\"T_653d9_row4_col2\" class=\"data row4 col2\" >0.564</td>\n      <td id=\"T_653d9_row4_col3\" class=\"data row4 col3\" >0.329</td>\n      <td id=\"T_653d9_row4_col4\" class=\"data row4 col4\" >0.000</td>\n      <td id=\"T_653d9_row4_col5\" class=\"data row4 col5\" >0.353</td>\n      <td id=\"T_653d9_row4_col6\" class=\"data row4 col6\" >0.327</td>\n      <td id=\"T_653d9_row4_col7\" class=\"data row4 col7\" >0.362</td>\n      <td id=\"T_653d9_row4_col8\" class=\"data row4 col8\" >0.362</td>\n    </tr>\n    <tr>\n      <th id=\"T_653d9_level0_row5\" class=\"row_heading level0 row5\" >CDK2</th>\n      <td id=\"T_653d9_row5_col0\" class=\"data row5 col0\" >0.352</td>\n      <td id=\"T_653d9_row5_col1\" class=\"data row5 col1\" >0.370</td>\n      <td id=\"T_653d9_row5_col2\" class=\"data row5 col2\" >0.576</td>\n      <td id=\"T_653d9_row5_col3\" class=\"data row5 col3\" >0.347</td>\n      <td id=\"T_653d9_row5_col4\" class=\"data row5 col4\" >0.353</td>\n      <td id=\"T_653d9_row5_col5\" class=\"data row5 col5\" >0.000</td>\n      <td id=\"T_653d9_row5_col6\" class=\"data row5 col6\" >0.319</td>\n      <td id=\"T_653d9_row5_col7\" class=\"data row5 col7\" >0.344</td>\n      <td id=\"T_653d9_row5_col8\" class=\"data row5 col8\" >0.277</td>\n    </tr>\n    <tr>\n      <th id=\"T_653d9_level0_row6\" class=\"row_heading level0 row6\" >LCK</th>\n      <td id=\"T_653d9_row6_col0\" class=\"data row6 col0\" >0.289</td>\n      <td id=\"T_653d9_row6_col1\" class=\"data row6 col1\" >0.315</td>\n      <td id=\"T_653d9_row6_col2\" class=\"data row6 col2\" >0.549</td>\n      <td id=\"T_653d9_row6_col3\" class=\"data row6 col3\" >0.312</td>\n      <td id=\"T_653d9_row6_col4\" class=\"data row6 col4\" >0.327</td>\n      <td id=\"T_653d9_row6_col5\" class=\"data row6 col5\" >0.319</td>\n      <td id=\"T_653d9_row6_col6\" class=\"data row6 col6\" >0.000</td>\n      <td id=\"T_653d9_row6_col7\" class=\"data row6 col7\" >0.309</td>\n      <td id=\"T_653d9_row6_col8\" class=\"data row6 col8\" >0.337</td>\n    </tr>\n    <tr>\n      <th id=\"T_653d9_level0_row7\" class=\"row_heading level0 row7\" >MET</th>\n      <td id=\"T_653d9_row7_col0\" class=\"data row7 col0\" >0.289</td>\n      <td id=\"T_653d9_row7_col1\" class=\"data row7 col1\" >0.302</td>\n      <td id=\"T_653d9_row7_col2\" class=\"data row7 col2\" >0.606</td>\n      <td id=\"T_653d9_row7_col3\" class=\"data row7 col3\" >0.286</td>\n      <td id=\"T_653d9_row7_col4\" class=\"data row7 col4\" >0.362</td>\n      <td id=\"T_653d9_row7_col5\" class=\"data row7 col5\" >0.344</td>\n      <td id=\"T_653d9_row7_col6\" class=\"data row7 col6\" >0.309</td>\n      <td id=\"T_653d9_row7_col7\" class=\"data row7 col7\" >0.000</td>\n      <td id=\"T_653d9_row7_col8\" class=\"data row7 col8\" >0.371</td>\n    </tr>\n    <tr>\n      <th id=\"T_653d9_level0_row8\" class=\"row_heading level0 row8\" >p38a</th>\n      <td id=\"T_653d9_row8_col0\" class=\"data row8 col0\" >0.355</td>\n      <td id=\"T_653d9_row8_col1\" class=\"data row8 col1\" >0.365</td>\n      <td id=\"T_653d9_row8_col2\" class=\"data row8 col2\" >0.569</td>\n      <td id=\"T_653d9_row8_col3\" class=\"data row8 col3\" >0.347</td>\n      <td id=\"T_653d9_row8_col4\" class=\"data row8 col4\" >0.362</td>\n      <td id=\"T_653d9_row8_col5\" class=\"data row8 col5\" >0.277</td>\n      <td id=\"T_653d9_row8_col6\" class=\"data row8 col6\" >0.337</td>\n      <td id=\"T_653d9_row8_col7\" class=\"data row8 col7\" >0.371</td>\n      <td id=\"T_653d9_row8_col8\" class=\"data row8 col8\" >0.000</td>\n    </tr>\n  </tbody>\n</table>\n"
     },
     "execution_count": 29,
     "metadata": {},
     "output_type": "execute_result"
    }
   ],
   "source": [
    "kinase_distance_matrix_df.style.background_gradient(cmap=cm).format(\"{:.3f}\")"
   ]
  },
  {
   "cell_type": "markdown",
   "metadata": {},
   "source": [
    "#### Save kinase distance matrix"
   ]
  },
  {
   "cell_type": "code",
   "execution_count": 30,
   "metadata": {
    "ExecuteTime": {
     "end_time": "2024-01-18T09:12:53.437505300Z",
     "start_time": "2024-01-18T09:12:53.280837800Z"
    }
   },
   "outputs": [],
   "source": [
    "file_name = f\"kinase_distance_matrix.csv\"\n",
    "kinase_distance_matrix_df.to_csv(DATA / file_name)"
   ]
  },
  {
   "cell_type": "markdown",
   "metadata": {},
   "source": [
    "## Discussion\n",
    "\n",
    "In this talktorial, we investigate how sequences can be used to measure similarity between kinases. The focus is set on the pocket sequence, which is retrieved from KLIFS. Sequence similarity can be assessed using two scores: 1. the identity, which treats all amino acids uniformly, and 2. the substitution, which takes into account the rate of change of residues over evolutionary time.\n",
    "\n",
    "The kinase similarity matrix above will be reloaded in **Talktorial T028**, where we compare kinase similarities from different perspectives, including the pocket sequence perspective we have talked about in this talktorial."
   ]
  },
  {
   "cell_type": "markdown",
   "metadata": {},
   "source": [
    "## Quiz\n",
    "\n",
    "1. Should the full kinase sequence be used instead of the pocket sequence?\n",
    "2. How does the similarity using identity behave with respect to mutations?\n",
    "3. How does similarity using identity compare to similarity using substitution?"
   ]
  }
 ],
 "metadata": {
  "kernelspec": {
   "display_name": "Python 3 (ipykernel)",
   "language": "python",
   "name": "python3"
  },
  "language_info": {
   "codemirror_mode": {
    "name": "ipython",
    "version": 3
   },
   "file_extension": ".py",
   "mimetype": "text/x-python",
   "name": "python",
   "nbconvert_exporter": "python",
   "pygments_lexer": "ipython3",
   "version": "3.9.16"
  },
  "toc-autonumbering": true,
  "widgets": {
   "application/vnd.jupyter.widget-state+json": {
    "state": {},
    "version_major": 2,
    "version_minor": 0
   }
  }
 },
 "nbformat": 4,
 "nbformat_minor": 4
}
